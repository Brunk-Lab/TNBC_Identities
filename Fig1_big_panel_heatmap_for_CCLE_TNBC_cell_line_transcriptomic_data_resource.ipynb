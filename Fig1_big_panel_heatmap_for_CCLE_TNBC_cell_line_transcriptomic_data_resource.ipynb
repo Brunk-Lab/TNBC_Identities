{
 "cells": [
  {
   "cell_type": "code",
   "execution_count": null,
   "id": "7a939d08",
   "metadata": {},
   "outputs": [],
   "source": [
    "import pandas as pd\n",
    "import numpy as np\n",
    "import scipy as sp\n",
    "from scipy import stats\n",
    "from matplotlib.colors import ListedColormap\n",
    "import seaborn as sns\n",
    "import matplotlib.pyplot as plt\n",
    "from functools import reduce"
   ]
  },
  {
   "cell_type": "code",
   "execution_count": null,
   "id": "a74841a6",
   "metadata": {},
   "outputs": [],
   "source": [
    "df_exp=pd.read_csv('../../../Downloads/CCLE_expression_22Q2.csv', index_col=0)\n",
    "df_exp.columns=[i.split(' (')[0] for i in df_exp.columns]\n",
    "df_tnbc_info=pd.read_csv('./updated_TNBC_list_12032022.csv')\n",
    "df_exp_tnbc=df_exp[df_exp.index.isin(df_tnbc_info.DepMap_ID)]"
   ]
  },
  {
   "cell_type": "code",
   "execution_count": null,
   "id": "4c4bc4f2",
   "metadata": {},
   "outputs": [],
   "source": [
    "list_genes_CCLE_F0 =['ELF3', 'GRHL2', 'CLDN4', 'DSP', 'CGN', 'DSC2', 'ALDH1A3', 'JAG2', 'NOTCH1', 'HES4', 'HEY2', 'NOTCH2', 'NOTCH3']\n",
    "list_genes_CCLE_F1=[\"MYC\", \"TGFBI\", \"SNAI2\", \"MMP2\", \"FN1\", \"CDH2\", \"VIM\", \"GSTP1\", \"LDHB\"]\n",
    "list_genes_CCLE_F2=['NRG3', 'ERBB3', 'TSPAN1', 'FGFR4', 'CD24', 'KRT19']\n",
    "list_genes_CCLE_F3=['AREG', 'TGFA', 'BTC', 'EPGN', 'EFEMP1', 'TNS4', 'GPR87', 'IL18', 'TNIP2', 'TNF', 'TNFAIP2']\n",
    "list_genes_CCLE_F5=['SLFN12', 'ZNF185', 'GSDME', 'ERCC2']\n",
    "list_genes_CCLE_F6=['MAGEA2', 'MAGEA2B', 'MAGEA3','MAGEA6', 'MAGEA12']"
   ]
  },
  {
   "cell_type": "code",
   "execution_count": null,
   "id": "7ebe4c45",
   "metadata": {},
   "outputs": [],
   "source": [
    "list_genes_CCLE=list_genes_CCLE_F0 + list_genes_CCLE_F1 + list_genes_CCLE_F2 + list_genes_CCLE_F3 + list_genes_CCLE_F5 + list_genes_CCLE_F6"
   ]
  },
  {
   "cell_type": "code",
   "execution_count": null,
   "id": "fe0734d8",
   "metadata": {},
   "outputs": [],
   "source": [
    "D = df_exp_tnbc.T\n",
    "df_exp_tnbc = ((D - D.mean(axis=0))/D.std(axis=0))\n",
    "df_exp_tnbc = 10 * df_exp_tnbc"
   ]
  },
  {
   "cell_type": "code",
   "execution_count": null,
   "id": "39639823",
   "metadata": {},
   "outputs": [],
   "source": [
    "df_exp_tnbc = df_exp_tnbc[df_exp_tnbc.index.isin(list_genes_CCLE)]\n",
    "df_exp_tnbc = df_exp_tnbc.reindex(list_genes_CCLE)"
   ]
  },
  {
   "cell_type": "code",
   "execution_count": null,
   "id": "f4b7f9a6",
   "metadata": {},
   "outputs": [],
   "source": [
    "cell_lines_order = ['ACH-000691', 'ACH-000196', 'ACH-000111', 'ACH-000276', 'ACH-000721', 'ACH-000148', 'ACH-001389', 'ACH-000621', 'ACH-000288', 'ACH-000573', 'ACH-000699', 'ACH-001391',\n",
    "                   'ACH-001392', 'ACH-001819', 'ACH-000910', 'ACH-000374', 'ACH-001388', 'ACH-001390', 'ACH-001394',\n",
    "                   'ACH-000643', 'ACH-000624', 'ACH-000857', 'ACH-000223', 'ACH-000668', 'ACH-000258',\n",
    "                   'ACH-000856', 'ACH-000212', 'ACH-000768', 'ACH-000849', 'ACH-000536']\n",
    "\n",
    "df_exp_tnbc = df_exp_tnbc[cell_lines_order]"
   ]
  },
  {
   "cell_type": "code",
   "execution_count": null,
   "id": "a1e9f675",
   "metadata": {},
   "outputs": [],
   "source": [
    "pd.set_option('display.max_columns', None)\n",
    "pd.set_option('display.max_row', None)"
   ]
  },
  {
   "cell_type": "code",
   "execution_count": null,
   "id": "a300cd2d",
   "metadata": {},
   "outputs": [],
   "source": [
    "df_exp_tnbc = stats.zscore(df_exp_tnbc, axis=1)"
   ]
  },
  {
   "cell_type": "code",
   "execution_count": null,
   "id": "9f2b14bf",
   "metadata": {},
   "outputs": [],
   "source": [
    "df_exp_tnbc.columns =['HCC2157', 'HCC1599', 'HCC1187', 'HCC38', 'HMC18', 'HS578T', 'SUM1315MO2', 'MDAMB157',\n",
    "                     'BT549', 'MDAMB436', 'HCC1395', 'SUM159PT', 'SUM185PE', 'MFM223', 'MDAMB453', 'HCC1143',\n",
    "                     'SUM102PT', 'SUM149PT', 'SUM229PE', 'HDQP1', 'HCC1806', 'CAL851', 'HCC1937', 'HCC70',\n",
    "                     'DU4475', 'CAL51','CAL120', 'MDAMB231', 'MDAMB468', 'BT20']"
   ]
  },
  {
   "cell_type": "code",
   "execution_count": null,
   "id": "df274130",
   "metadata": {},
   "outputs": [],
   "source": [
    "#15 samples\n",
    "SUM149_GSE131135 = pd.read_csv('/Volumes/SSD_Yue/Belgium_TNBC_patient_figures/SUM149_GSE131135_pseudo_bulk_03272024.csv')\n",
    "SUM149_GSE182694 = pd.read_csv('/Volumes/SSD_Yue/Belgium_TNBC_patient_figures/SUM149_GSE182694_pseudo_bulk_03272024.csv')\n",
    "SUM149_GSE174391 = pd.read_csv('/Volumes/SSD_Yue/Belgium_TNBC_patient_figures/SUM149_GSE174391_pseudo_bulk_03272024.csv')\n",
    "SUM159_GSE131135 = pd.read_csv('/Volumes/SSD_Yue/Belgium_TNBC_patient_figures/SUM159_GSE131135_pseudo_bulk_03272024.csv')\n",
    "MDAMB231_GSE182694 = pd.read_csv('/Volumes/SSD_Yue/Belgium_TNBC_patient_figures/MDAMB231_GSE182694_pseudo_bulk_03272024.csv')\n",
    "MDAMB436_GSE182694 = pd.read_csv('/Volumes/SSD_Yue/Belgium_TNBC_patient_figures/MDAMB436_GSE182694_pseudo_bulk_03272024.csv')\n",
    "MDAMB468_GSE182694 = pd.read_csv('/Volumes/SSD_Yue/Belgium_TNBC_patient_figures/MDAMB468_GSE182694_pseudo_bulk_03272024.csv')\n",
    "MDAMB453_GSE182694 = pd.read_csv('/Volumes/SSD_Yue/Belgium_TNBC_patient_figures/MDAMB453_GSE182694_pseudo_bulk_03272024.csv')\n",
    "MDAMB453_GSE152315 = pd.read_csv('/Volumes/SSD_Yue/Belgium_TNBC_patient_figures/MDAMB453_GSE152315_pseudo_bulk_03272024.csv')\n",
    "HCC1143_GSE174391 = pd.read_csv('/Volumes/SSD_Yue/Belgium_TNBC_patient_figures/HCC1143_GSE174391_pseudo_bulk_03272024.csv')\n",
    "HCC1187_GSE174391 = pd.read_csv('/Volumes/SSD_Yue/Belgium_TNBC_patient_figures/HCC1187_GSE174391_pseudo_bulk_03272024.csv')\n",
    "BT549_GSE182694 = pd.read_csv('/Volumes/SSD_Yue/Belgium_TNBC_patient_figures/BT549_GSE182694_pseudo_bulk_03272024.csv')\n",
    "MDAMB468_GSE174391 = pd.read_csv('/Volumes/SSD_Yue/Belgium_TNBC_patient_figures/MDAMB468_GSE174391_pseudo_bulk_03272024.csv')\n",
    "HCC1143_GSE139129 = pd.read_csv('/Volumes/SSD_Yue/Belgium_TNBC_patient_figures/GSE139129_HCC1143_control_24hr_pseudo_bulk_03312024.csv')\n",
    "MDAMB468_GSE164716 = pd.read_csv('/Volumes/SSD_Yue/Belgium_TNBC_patient_figures/GSE164716_MDAMB468_chemonaive_pseudo_bulk_09112024.csv')"
   ]
  },
  {
   "cell_type": "code",
   "execution_count": null,
   "id": "45d9b84e",
   "metadata": {},
   "outputs": [],
   "source": [
    "#15 samples\n",
    "HCC1937_GSE173634 = pd.read_csv('/Volumes/SSD_Yue/Belgium_TNBC_patient_figures/HCC1937_GSE173634_pseudo_bulk_03272024.csv')\n",
    "HCC70_GSE173634 = pd.read_csv('/Volumes/SSD_Yue/Belgium_TNBC_patient_figures/HCC70_GSE173634_pseudo_bulk_03272024.csv')\n",
    "HCC1187_GSE173634 = pd.read_csv('/Volumes/SSD_Yue/Belgium_TNBC_patient_figures/HCC1187_GSE173634_pseudo_bulk_03272024.csv')\n",
    "HCC1143_GSE173634 = pd.read_csv('/Volumes/SSD_Yue/Belgium_TNBC_patient_figures/HCC1143_GSE173634_pseudo_bulk_03272024.csv')\n",
    "BT20_GSE173634 = pd.read_csv('/Volumes/SSD_Yue/Belgium_TNBC_patient_figures/BT20_GSE173634_pseudo_bulk_03272024.csv')\n",
    "HCC38_GSE173634 = pd.read_csv('/Volumes/SSD_Yue/Belgium_TNBC_patient_figures/HCC38_GSE173634_pseudo_bulk_03272024.csv')\n",
    "MDAMB436_GSE173634 = pd.read_csv('/Volumes/SSD_Yue/Belgium_TNBC_patient_figures/MDAMB436_GSE173634_pseudo_bulk_03272024.csv')\n",
    "CAL51_GSE173634 = pd.read_csv('/Volumes/SSD_Yue/Belgium_TNBC_patient_figures/CAL51_GSE173634_pseudo_bulk_03272024.csv')\n",
    "BT549_GSE173634 = pd.read_csv('/Volumes/SSD_Yue/Belgium_TNBC_patient_figures/BT549_GSE173634_pseudo_bulk_03272024.csv')\n",
    "CAL851_GSE173634 = pd.read_csv('/Volumes/SSD_Yue/Belgium_TNBC_patient_figures/CAL851_GSE173634_pseudo_bulk_03272024.csv')\n",
    "MDAMB468_GSE173634 = pd.read_csv('/Volumes/SSD_Yue/Belgium_TNBC_patient_figures/MDAMB468_GSE173634_pseudo_bulk_03272024.csv')\n",
    "HDQP1_GSE173634 = pd.read_csv('/Volumes/SSD_Yue/Belgium_TNBC_patient_figures/HDQP1_GSE173634_pseudo_bulk_03272024.csv')\n",
    "HS578T_GSE173634 = pd.read_csv('/Volumes/SSD_Yue/Belgium_TNBC_patient_figures/HS578T_GSE173634_pseudo_bulk_03272024.csv')\n",
    "DU4475_GSE173634 = pd.read_csv('/Volumes/SSD_Yue/Belgium_TNBC_patient_figures/DU4475_GSE173634_pseudo_bulk_03272024.csv')\n",
    "MDAMB453_GSE173634 = pd.read_csv('/Volumes/SSD_Yue/Belgium_TNBC_patient_figures/MDAMB453_GSE173634_pseudo_bulk_03272024.csv')"
   ]
  },
  {
   "cell_type": "code",
   "execution_count": null,
   "id": "b2f7564b",
   "metadata": {},
   "outputs": [],
   "source": [
    "#15 samples + 1 sample of MDAMB468 EGFRi dataset (GSE28154)\n",
    "GSE202771_CAL51_B1_scRNA = pd.read_csv('/Volumes/SSD_Yue/Belgium_TNBC_patient_figures/GSE202771_CAL51_B1_scRNA_pseudo_bulk_09102024.csv')\n",
    "GSE202771_MDAMB231_B1_scRNA = pd.read_csv('/Volumes/SSD_Yue/Belgium_TNBC_patient_figures/GSE202771_MDAMB231_B1_scRNA_pseudo_bulk_09102024.csv')\n",
    "GSE202771_Hs578_B1_scRNA = pd.read_csv('/Volumes/SSD_Yue/Belgium_TNBC_patient_figures/GSE202771_Hs578_B1_scRNA_pseudo_bulk_09102024.csv')\n",
    "GSE202771_HCC1806_B1_scRNA = pd.read_csv('/Volumes/SSD_Yue/Belgium_TNBC_patient_figures/GSE202771_HCC1806_B1_scRNA_pseudo_bulk_09102024.csv')\n",
    "GSE202771_HCC1937_B1_scRNA = pd.read_csv('/Volumes/SSD_Yue/Belgium_TNBC_patient_figures/GSE202771_HCC1937_B1_scRNA_pseudo_bulk_09102024.csv')\n",
    "GSE202771_BT549_B1_scRNA = pd.read_csv('/Volumes/SSD_Yue/Belgium_TNBC_patient_figures/GSE202771_BT549_B1_scRNA_pseudo_bulk_09102024.csv')\n",
    "GSE202771_CAL51_B2_scRNA = pd.read_csv('/Volumes/SSD_Yue/Belgium_TNBC_patient_figures/GSE202771_CAL51_B2_scRNA_pseudo_bulk_09102024.csv')\n",
    "GSE202771_DU4475_B2_scRNA = pd.read_csv('/Volumes/SSD_Yue/Belgium_TNBC_patient_figures/GSE202771_DU4475_B2_scRNA_pseudo_bulk_09102024.csv')\n",
    "GSE202771_HCC1187_B2_scRNA = pd.read_csv('/Volumes/SSD_Yue/Belgium_TNBC_patient_figures/GSE202771_HCC1187_B2_scRNA_pseudo_bulk_09102024.csv')\n",
    "GSE202771_HCC1806_B2_scRNA = pd.read_csv('/Volumes/SSD_Yue/Belgium_TNBC_patient_figures/GSE202771_HCC1806_B2_scRNA_pseudo_bulk_09102024.csv')\n",
    "GSE202771_HCC1937_B2_scRNA = pd.read_csv('/Volumes/SSD_Yue/Belgium_TNBC_patient_figures/GSE202771_HCC1937_B2_scRNA_pseudo_bulk_09102024.csv')\n",
    "GSE202771_MFM223_B2_scRNA = pd.read_csv('/Volumes/SSD_Yue/Belgium_TNBC_patient_figures/GSE202771_MFM223_B2_scRNA_pseudo_bulk_09102024.csv')\n",
    "GSE202771_HCC38_B2_scRNA = pd.read_csv('/Volumes/SSD_Yue/Belgium_TNBC_patient_figures/GSE202771_HCC38_B2_scRNA_pseudo_bulk_09102024.csv')\n",
    "GSE202771_HDQP1_B2_scRNA = pd.read_csv('/Volumes/SSD_Yue/Belgium_TNBC_patient_figures/GSE202771_HDQP1_B2_scRNA_pseudo_bulk_09102024.csv')\n",
    "GSE202771_Hs578_B2_scRNA = pd.read_csv('/Volumes/SSD_Yue/Belgium_TNBC_patient_figures/GSE202771_Hs578_B2_scRNA_pseudo_bulk_09102024.csv')\n",
    "GSE228154_MDAMB468_scRNA =pd.read_csv('/Volumes/SSD_Yue/Belgium_TNBC_patient_figures/MDAMB468_GSE228154_control_condition_pseudo_bulk_11252024.csv')\n",
    "GSE228154_MDAMB468_scRNA = GSE228154_MDAMB468_scRNA[[\"Unnamed: 0\", \"normalized_counts_MDAMB468_GSE228154\"]]"
   ]
  },
  {
   "cell_type": "code",
   "execution_count": null,
   "id": "7476904f",
   "metadata": {},
   "outputs": [],
   "source": [
    "dfs = [SUM149_GSE131135, SUM149_GSE182694, SUM149_GSE174391, SUM159_GSE131135, MDAMB231_GSE182694, MDAMB436_GSE182694, MDAMB468_GSE182694, MDAMB453_GSE182694, MDAMB453_GSE152315, HCC1143_GSE174391,HCC1187_GSE174391,BT549_GSE182694,MDAMB468_GSE174391,\n",
    "      HCC1143_GSE139129,MDAMB468_GSE164716, HCC1937_GSE173634,HCC70_GSE173634, HCC1187_GSE173634,HCC1143_GSE173634,BT20_GSE173634,HCC38_GSE173634,MDAMB436_GSE173634,CAL51_GSE173634,BT549_GSE173634,CAL851_GSE173634,MDAMB468_GSE173634,HDQP1_GSE173634,HS578T_GSE173634,DU4475_GSE173634,MDAMB453_GSE173634,\n",
    "      GSE202771_CAL51_B1_scRNA, GSE202771_MDAMB231_B1_scRNA, GSE202771_Hs578_B1_scRNA, GSE202771_HCC1806_B1_scRNA,\n",
    "      GSE202771_HCC1937_B1_scRNA, GSE202771_BT549_B1_scRNA, GSE202771_CAL51_B2_scRNA, GSE202771_DU4475_B2_scRNA,\n",
    "      GSE202771_HCC1187_B2_scRNA, GSE202771_HCC1806_B2_scRNA, GSE202771_HCC1937_B2_scRNA, GSE202771_MFM223_B2_scRNA,\n",
    "      GSE202771_HCC38_B2_scRNA, GSE202771_HDQP1_B2_scRNA, GSE202771_Hs578_B2_scRNA,GSE228154_MDAMB468_scRNA]\n",
    "\n",
    "# Merging all DataFrames on 'key' column\n",
    "merged_sc_cell_lines_df = reduce(lambda left, right: pd.merge(left, right, left_on = \"Unnamed: 0\", right_on= \"Unnamed: 0\" ,how='outer'), dfs)"
   ]
  },
  {
   "cell_type": "code",
   "execution_count": null,
   "id": "88170ca0",
   "metadata": {},
   "outputs": [],
   "source": [
    "merged_sc_cell_lines_df.index = merged_sc_cell_lines_df.iloc[:,0]\n",
    "merged_sc_cell_lines_df= merged_sc_cell_lines_df.iloc[:, 1:]\n",
    "merged_sc_cell_lines_df.columns=[\"SUM149_GSE131135\", \"SUM149_GSE182694\", \"SUM149_GSE174391\", \"SUM159_GSE131135\", \"MDAMB231_GSE182694\", \"MDAMB436_GSE182694\", \"MDAMB468_GSE182694\", \"MDAMB453_GSE182694\", \"MDAMB453_GSE152315\", \"HCC1143_GSE174391\",\"HCC1187_GSE174391\",\"BT549_GSE182694\",\"MDAMB468_GSE174391\",\n",
    "                                \"HCC1143_GSE139129\", \"MDAMB468_GSE164716\", \"HCC1937_GSE173634\",\"HCC70_GSE173634\", \"HCC1187_GSE173634\",\"HCC1143_GSE173634\",\"BT20_GSE173634\",\"HCC38_GSE173634\",\"MDAMB436_GSE173634\",\"CAL51_GSE173634\",\"BT549_GSE173634\",\"CAL851_GSE173634\",\n",
    "                                 \"MDAMB468_GSE173634\",\"HDQP1_GSE173634\",\"HS578T_GSE173634\",\"DU4475_GSE173634\", \"MDAMB453_GSE173634\",\n",
    "                                \"GSE202771_CAL51_B1\", \"GSE202771_MDAMB231_B1\", \"GSE202771_Hs578_B1\", \"GSE202771_HCC1806_B1\",\n",
    "                                \"GSE202771_HCC1937_B1\", \"GSE202771_BT549_B1\", \"GSE202771_CAL51_B2\", \"GSE202771_DU4475_B2\",\n",
    "                                \"GSE202771_HCC1187_B2\", \"GSE202771_HCC1806_B2\", \"GSE202771_HCC1937_B2\", \"GSE202771_MFM223_B2\",\n",
    "                                \"GSE202771_HCC38_B2\", \"GSE202771_HDQP1_B2\", \"GSE202771_Hs578_B2\", \"GSE228154_MDAMB468\"]\n",
    "merged_sc_cell_lines_df = ((merged_sc_cell_lines_df - merged_sc_cell_lines_df.mean(axis=0,skipna=True))/merged_sc_cell_lines_df.std(axis=0, skipna=True))\n",
    "merged_sc_cell_lines_df = merged_sc_cell_lines_df[merged_sc_cell_lines_df.index.isin(list_genes_CCLE)]\n",
    "merged_sc_cell_lines_df = merged_sc_cell_lines_df.reindex(list_genes_CCLE)\n",
    "merged_sc_cell_lines_df = stats.zscore(merged_sc_cell_lines_df, axis=1, nan_policy='omit')"
   ]
  },
  {
   "cell_type": "code",
   "execution_count": null,
   "id": "9bbac1b5",
   "metadata": {},
   "outputs": [],
   "source": [
    "list_order_2 = [\"HCC1187_GSE174391\",\"HCC1187_GSE173634\",\"GSE202771_HCC1187_B2\",\"HCC38_GSE173634\",\"GSE202771_HCC38_B2\",\n",
    "                \"BT549_GSE182694\",\"BT549_GSE173634\",\"GSE202771_BT549_B1\", \"MDAMB436_GSE173634\", \"MDAMB436_GSE182694\", \"SUM159_GSE131135\",\"HS578T_GSE173634\",\n",
    "                \"GSE202771_Hs578_B1\",\"GSE202771_Hs578_B2\",\n",
    "                \"MDAMB453_GSE152315\", \"MDAMB453_GSE182694\", \"MDAMB453_GSE173634\",\"GSE202771_MFM223_B2\",\n",
    "                \"SUM149_GSE131135\", \"SUM149_GSE182694\", \"SUM149_GSE174391\", \"HCC1143_GSE139129\",\"HCC1143_GSE174391\",\"HCC1143_GSE173634\",\"HCC1937_GSE173634\",\"GSE202771_HCC1937_B1\", \"GSE202771_HCC1937_B2\",\n",
    "                \"HCC70_GSE173634\",\"HDQP1_GSE173634\", \"GSE202771_HDQP1_B2\",\"CAL851_GSE173634\",\"GSE202771_HCC1806_B1\",\"GSE202771_HCC1806_B2\",\n",
    "                \"DU4475_GSE173634\",\"GSE202771_DU4475_B2\",\n",
    "                \"MDAMB231_GSE182694\",\"GSE202771_MDAMB231_B1\", \"CAL51_GSE173634\",\"GSE202771_CAL51_B1\",\"GSE202771_CAL51_B2\",\n",
    "                \"MDAMB468_GSE182694\", \"MDAMB468_GSE174391\",\"MDAMB468_GSE173634\",\"MDAMB468_GSE164716\",\"GSE228154_MDAMB468\",\"BT20_GSE173634\"]\n",
    "merged_sc_cell_lines_df = merged_sc_cell_lines_df[list_order_2]"
   ]
  },
  {
   "cell_type": "code",
   "execution_count": null,
   "id": "1a73e3e2",
   "metadata": {},
   "outputs": [],
   "source": [
    "df_concat = pd.concat([df_exp_tnbc, merged_sc_cell_lines_df], axis=1)"
   ]
  },
  {
   "cell_type": "code",
   "execution_count": null,
   "id": "2a338a9f",
   "metadata": {},
   "outputs": [],
   "source": [
    "df_concat.shape"
   ]
  },
  {
   "cell_type": "code",
   "execution_count": null,
   "id": "d39705de",
   "metadata": {},
   "outputs": [],
   "source": [
    "cmap = sns.color_palette(\"bwr\", as_cmap=True)\n",
    "cmap = ListedColormap(cmap(np.linspace(0, 1, cmap.N)))\n",
    "cmap.set_bad(color='lightgrey')"
   ]
  },
  {
   "cell_type": "code",
   "execution_count": null,
   "id": "f8273988",
   "metadata": {},
   "outputs": [],
   "source": [
    "plt.figure(figsize=(20, 10))  # Set the figure size\n",
    "sns.heatmap(df_concat, annot=False, cmap=cmap, cbar=True, center=0)  # `annot=True` displays the data values, `cmap` sets the color map\n",
    "plt.savefig('/Volumes/SSD_Yue/TNBC_paper_Fig1_11252024/CCLE_TNBC_cell_line_samples_big_panel_heatmap_12052024.svg', dpi=300)"
   ]
  }
 ],
 "metadata": {
  "kernelspec": {
   "display_name": "Python 3",
   "language": "python",
   "name": "python3"
  },
  "language_info": {
   "codemirror_mode": {
    "name": "ipython",
    "version": 3
   },
   "file_extension": ".py",
   "mimetype": "text/x-python",
   "name": "python",
   "nbconvert_exporter": "python",
   "pygments_lexer": "ipython3",
   "version": "3.8.12"
  }
 },
 "nbformat": 4,
 "nbformat_minor": 5
}
