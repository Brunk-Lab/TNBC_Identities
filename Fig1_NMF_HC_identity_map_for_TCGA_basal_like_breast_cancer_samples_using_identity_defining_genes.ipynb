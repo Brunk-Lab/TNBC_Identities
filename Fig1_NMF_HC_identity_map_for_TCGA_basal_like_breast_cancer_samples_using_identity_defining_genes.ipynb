{
 "cells": [
  {
   "cell_type": "code",
   "execution_count": null,
   "id": "77177a7b",
   "metadata": {},
   "outputs": [],
   "source": [
    "#import packages used in this analysis\n",
    "import pandas as pd\n",
    "import numpy as np\n",
    "import scipy as sp\n",
    "import sys\n",
    "sys.path.append('/Users/yuewang/Desktop/Desktop_Yue_MacBook_Pro/Nrf2_Project/')\n",
    "import ccal"
   ]
  },
  {
   "cell_type": "code",
   "execution_count": null,
   "id": "e0bde290",
   "metadata": {},
   "outputs": [],
   "source": [
    "#import TCGA TNBC gene expression data\n",
    "read_file = pd.read_csv (r'/Volumes/SSD_Yue/TCGA_Data/brca_tcga_pan_can_atlas_2018/data_mrna_seq_v2_rsem.txt', sep='\\t')\n",
    "read_file = read_file[~read_file.Hugo_Symbol.isnull()]\n",
    "read_file.index=read_file.Hugo_Symbol\n",
    "read_file.drop(['Hugo_Symbol', 'Entrez_Gene_Id'],axis=1, inplace=True)\n",
    "read_file=np.log2(read_file+1)\n",
    "read_file=read_file.T\n",
    "read_file.index=[i[0:12] for i in read_file.index]\n",
    "read_file_2=read_file.groupby(read_file.columns.values,axis=1).mean()\n",
    "basal_information=pd.read_csv('/Volumes/SSD_Yue/TCGA_Data/PAM50CLOW.csv')\n",
    "list_basal=basal_information[basal_information.newSUBTYPE=='Basal'].iloc[:,0].tolist()"
   ]
  },
  {
   "cell_type": "code",
   "execution_count": null,
   "id": "7b4ca5eb",
   "metadata": {},
   "outputs": [],
   "source": [
    "df_exp_tnbc=read_file_2[read_file_2.index.isin(list_basal)]"
   ]
  },
  {
   "cell_type": "code",
   "execution_count": null,
   "id": "700aae03",
   "metadata": {},
   "outputs": [],
   "source": [
    "df_488=pd.read_csv('genes_separating_TCGA_TNBC_samples_comparing_against_BC_samples_12232022.csv')"
   ]
  },
  {
   "cell_type": "code",
   "execution_count": null,
   "id": "4fad1c4e",
   "metadata": {},
   "outputs": [],
   "source": [
    "list_488=df_488.gene.tolist()"
   ]
  },
  {
   "cell_type": "code",
   "execution_count": null,
   "id": "2abd450e",
   "metadata": {},
   "outputs": [],
   "source": [
    "#MYC gene is included to study how MYC heterogeneity is associated with other phenotypes in TNBC.\n",
    "df_exp_tnbc=df_exp_tnbc[df_exp_tnbc.columns.intersection(list_488+['MYC'])]"
   ]
  },
  {
   "cell_type": "code",
   "execution_count": null,
   "id": "b3442d9f",
   "metadata": {},
   "outputs": [],
   "source": [
    "D = df_exp_tnbc.T\n",
    "D1 = ((D - D.mean(axis=0))/D.std(axis=0))\n",
    "D2  = 100 * ((D1 - D1.min(axis=0))/(D1.max(axis=0) - D1.min(axis=0)))\n",
    "df_exp_tnbc_2 = D2"
   ]
  },
  {
   "cell_type": "code",
   "execution_count": null,
   "id": "d5514eee",
   "metadata": {},
   "outputs": [],
   "source": [
    "#To perform NMF:\n",
    "k_nmf= ccal.mf_consensus_cluster_with_ks(\n",
    "    df_exp_tnbc_2,\n",
    "    list(range(4,10)),\n",
    "    n_job=4,\n",
    "    plot_df=False,\n",
    "    plot_w=True,\n",
    "    plot_h=True,\n",
    "    directory_path='/Volumes/SSD_Yue/NMF_Onco_gps_results/NMF_using_489_genes_selected_using_TCGA_breast_cancer_samples_including_MYC_on_185_TCGA_TNBC_samples_normalized_for_samples_12232022/'\n",
    "#     n_clustering=1,\n",
    ")"
   ]
  },
  {
   "cell_type": "code",
   "execution_count": null,
   "id": "43d69400",
   "metadata": {},
   "outputs": [],
   "source": [
    "#To perform hierarchical clustering on H and W matrices:\n",
    "for k in range(4, 10): \n",
    "    w=pd.read_csv('/Volumes/SSD_Yue/NMF_Onco_gps_results/NMF_using_489_genes_selected_using_TCGA_breast_cancer_samples_including_MYC_on_185_TCGA_TNBC_samples_normalized_for_samples_12232022/{}/w.tsv'.format(k), sep='\\t', index_col=0)\n",
    "\n",
    "    h=pd.read_csv('/Volumes/SSD_Yue/NMF_Onco_gps_results/NMF_using_489_genes_selected_using_TCGA_breast_cancer_samples_including_MYC_on_185_TCGA_TNBC_samples_normalized_for_samples_12232022/{}/h.tsv'.format(k), sep='\\t', index_col=0)\n",
    "\n",
    "    k_hcc = ccal.hierarchical_consensus_cluster_with_ks(\n",
    "        w,\n",
    "        list(range(4,10)),\n",
    "        n_job = 1,\n",
    "        distance_function = ccal.compute_correlation_distance,\n",
    "        n_clustering = 40,\n",
    "        plot_df = True,\n",
    "    directory_path='/Volumes/SSD_Yue/NMF_Onco_gps_results/NMF_using_489_genes_selected_using_TCGA_breast_cancer_samples_including_MYC_on_185_TCGA_TNBC_samples_normalized_for_samples_12232022/{}/W'.format(k))\n",
    "    \n",
    "    k_hcc = ccal.hierarchical_consensus_cluster_with_ks(\n",
    "        h,\n",
    "        list(range(4,10)),\n",
    "        n_job = 1,\n",
    "        distance_function = ccal.compute_correlation_distance,\n",
    "        n_clustering = 40,\n",
    "        plot_df = True,\n",
    "    directory_path='/Volumes/SSD_Yue/NMF_Onco_gps_results/NMF_using_489_genes_selected_using_TCGA_breast_cancer_samples_including_MYC_on_185_TCGA_TNBC_samples_normalized_for_samples_12232022/{}/H'.format(k))"
   ]
  },
  {
   "cell_type": "code",
   "execution_count": null,
   "id": "d9176c03",
   "metadata": {},
   "outputs": [],
   "source": [
    "#This color is consistent with the TCGA state colors in the paper figure\n",
    "Onco_GPS_colors = [\n",
    "                '#006837',  # F0 WNT signaling pathway\n",
    "                '#FF00FF',  # F3 High-ELF5 & immune-active state\n",
    "                '#603813',  # F5 MAGE protein family\n",
    "                '#2E3192',  # F2 High-MYC & immune-suppressive state\n",
    "                '#29ABE2',  # F1 Hypoxia\n",
    "                '#cc99cc',  # F1-and-F2 mixture state Dark magenta \n",
    "                '#cc99cc',  # 3  \n",
    "                '#fce94f',  # 4 Butter\n",
    "                '#fe2c54',  # 6 Redish pink \n",
    "                '#AFF8DB',  # 7 Green\n",
    "                '#ffad01',  # 8 Orange yellow\n",
    "\n",
    "                '#AAAAFF',  # 10 Periwinkle\n",
    "\n",
    "                '#FA8072',  # 12 Salmon\n",
    "                '#ffccf9',  # 13 Pink \n",
    "                '#90EE90',  # 14 Light green \n",
    "                '#c4a000',  # 15\n",
    "                '#e6194b',  # 16\n",
    "                '#3cb44b',  # 17\n",
    "                '#ffe119']  # 18"
   ]
  },
  {
   "cell_type": "code",
   "execution_count": null,
   "id": "9267d5c2",
   "metadata": {},
   "outputs": [],
   "source": [
    "#To generate identity map:\n",
    "for k in range(4,10):\n",
    "    \n",
    "    w=pd.read_csv('/Volumes/SSD_Yue/NMF_Onco_gps_results/NMF_using_489_genes_selected_using_TCGA_breast_cancer_samples_including_MYC_on_185_TCGA_TNBC_samples_normalized_for_samples_12232022/{}/w.tsv'.format(k), sep='\\t', index_col=0)\n",
    "\n",
    "    h=pd.read_csv('/Volumes/SSD_Yue/NMF_Onco_gps_results/NMF_using_489_genes_selected_using_TCGA_breast_cancer_samples_including_MYC_on_185_TCGA_TNBC_samples_normalized_for_samples_12232022/{}/h.tsv'.format(k), sep='\\t', index_col=0)\n",
    "\n",
    "    wT =w.T\n",
    "    wT.index.name = h.index.name\n",
    "    for s in range(4,10):\n",
    "        try:\n",
    "            h_clustering = pd.read_csv('/Volumes/SSD_Yue/NMF_Onco_gps_results/NMF_using_489_genes_selected_using_TCGA_breast_cancer_samples_including_MYC_on_185_TCGA_TNBC_samples_normalized_for_samples_12232022/{}/H/{}/cluster_x_column.tsv'.format(k, s), sep='\\t', index_col=0)\n",
    "            h_element_labels = h_clustering.apply(lambda column: column.argmax())#.str.lstrip('C').astype(int)\n",
    "            h_element_labels.value_counts()\n",
    "\n",
    "\n",
    "            print(\"Making map with {} states and {} components...\".format(s, k))\n",
    "        \n",
    "            gps_map = ccal.GPSMap(\n",
    "                w = wT,\n",
    "                h = h,\n",
    "                w_n_pull = 3,\n",
    "                w_pull_power = 3,\n",
    "                h_n_pull = 3,\n",
    "                h_pull_power = 3,\n",
    "                plot = False,\n",
    "                mds_random_seed = 27)\n",
    "\n",
    "            gps_map.set_element_labels(\n",
    "                        w_or_h = 'h',\n",
    "                        element_labels = h_element_labels,\n",
    "                        n_grid = 64,\n",
    "                        label_colors = Onco_GPS_colors[0:s],\n",
    "                        bandwidth_factor = 6)\n",
    "\n",
    "\n",
    "            gps_map.plot_gps_map(\n",
    "                w_or_h = 'h',\n",
    "                element_marker_size = 24,\n",
    "                title = \n",
    "                   'H Map {}-Components {}-States {}-Samples'.format(k, s, h.shape[1]),\n",
    "                html_file_path = \n",
    "                   '/Volumes/SSD_Yue/NMF_Onco_gps_results/NMF_using_489_genes_selected_using_TCGA_breast_cancer_samples_including_MYC_on_185_TCGA_TNBC_samples_normalized_for_samples_12232022/maps/Onco-GPS_H_Map_{}-Comp_{}-Stat_{}-Samp.html'.format(k,k, \n",
    "                                                                                    s, \n",
    "                                                                                    len(h.columns)))\n",
    "        except:\n",
    "            continue\n",
    "        "
   ]
  }
 ],
 "metadata": {
  "kernelspec": {
   "display_name": "Python 3",
   "language": "python",
   "name": "python3"
  },
  "language_info": {
   "codemirror_mode": {
    "name": "ipython",
    "version": 3
   },
   "file_extension": ".py",
   "mimetype": "text/x-python",
   "name": "python",
   "nbconvert_exporter": "python",
   "pygments_lexer": "ipython3",
   "version": "3.8.12"
  }
 },
 "nbformat": 4,
 "nbformat_minor": 5
}
