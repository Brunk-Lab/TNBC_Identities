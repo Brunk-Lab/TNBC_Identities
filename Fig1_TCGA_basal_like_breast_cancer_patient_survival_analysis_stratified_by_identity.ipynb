{
 "cells": [
  {
   "cell_type": "code",
   "execution_count": null,
   "id": "b31137b6",
   "metadata": {},
   "outputs": [],
   "source": [
    "import pandas as pd\n",
    "import numpy as np\n",
    "import seaborn as sns\n",
    "import pickle\n",
    "import itertools\n",
    "import random\n",
    "from statannot import add_stat_annotation"
   ]
  },
  {
   "cell_type": "code",
   "execution_count": null,
   "id": "b2af7803",
   "metadata": {},
   "outputs": [],
   "source": [
    "import matplotlib.pyplot as plt\n",
    "from matplotlib import interactive\n",
    "interactive(True)\n",
    "import itertools\n",
    "from sklearn.metrics import silhouette_score\n",
    "from sklearn.cluster import DBSCAN\n",
    "import sklearn.utils\n",
    "from sklearn.preprocessing import StandardScaler"
   ]
  },
  {
   "cell_type": "code",
   "execution_count": null,
   "id": "6b81825e",
   "metadata": {},
   "outputs": [],
   "source": [
    "import lifelines\n",
    "import seaborn as sns\n",
    "from lifelines import KaplanMeierFitter\n",
    "from lifelines.statistics import logrank_test\n",
    "from lifelines import CoxPHFitter\n",
    "from lifelines.plotting import add_at_risk_counts"
   ]
  },
  {
   "cell_type": "code",
   "execution_count": null,
   "id": "1d186be5",
   "metadata": {},
   "outputs": [],
   "source": [
    "h_cluster=pd.read_csv(\"/Volumes/SSD_Yue/NMF_Onco_gps_results/NMF_using_489_genes_selected_using_TCGA_breast_cancer_samples_including_MYC_on_185_TCGA_TNBC_samples_normalized_for_samples_12232022/6/H/6/cluster_x_column.tsv\", sep='\\t', index_col=0)\n",
    "basal_information=pd.read_csv('/Volumes/SSD_Yue/TCGA_Data/PAM50CLOW.csv')\n",
    "list_basal=basal_information[basal_information.newSUBTYPE=='Basal'].iloc[:,0].tolist()"
   ]
  },
  {
   "cell_type": "code",
   "execution_count": null,
   "id": "223857b8",
   "metadata": {},
   "outputs": [],
   "source": [
    "#We choose to use this way to assign samples to the states so that it is consistent with the state map (onco-gps)\n",
    "list_F0 = h_cluster.T[h_cluster.T.C0==1].index.tolist() #F0 n=53\n",
    "list_F1 = h_cluster.T[h_cluster.T.C4==1].index.tolist() #F1 n=18\n",
    "list_F2 = h_cluster.T[h_cluster.T.C3==1].index.tolist() #F2 n=21\n",
    "list_F3 = h_cluster.T[h_cluster.T.C1==1].index.tolist() #F3 n=36\n",
    "list_F5 = h_cluster.T[h_cluster.T.C2==1].index.tolist() #F5 n=22\n",
    "list_F1_and_F2_mixture = h_cluster.T[h_cluster.T.C5==1].index.tolist() #F1_and_F2_mixture n=35\n",
    "print(\"F0\",len(list_F0))\n",
    "print(\"F1\",len(list_F1))\n",
    "print(\"F2\",len(list_F2))\n",
    "print(\"F3\",len(list_F3))\n",
    "print(\"F5\",len(list_F5))\n",
    "print(\"F1_and_F2_mixture\",len(list_F1_and_F2_mixture))"
   ]
  },
  {
   "cell_type": "code",
   "execution_count": null,
   "id": "948b8600",
   "metadata": {},
   "outputs": [],
   "source": [
    "dict_cell_lines={}\n",
    "dict_cell_lines[\"F0\"]=list_F0\n",
    "dict_cell_lines[\"F1\"]=list_F1\n",
    "dict_cell_lines[\"F2\"]=list_F2\n",
    "dict_cell_lines[\"F3\"]=list_F3\n",
    "dict_cell_lines[\"F5\"]=list_F5\n",
    "dict_cell_lines[\"F1_and_F2_mixture\"]=list_F1_and_F2_mixture"
   ]
  },
  {
   "cell_type": "code",
   "execution_count": null,
   "id": "e930fbe8",
   "metadata": {},
   "outputs": [],
   "source": [
    "patient_to_state = {patient: state for state, patients in dict_cell_lines.items() for patient in patients}"
   ]
  },
  {
   "cell_type": "code",
   "execution_count": null,
   "id": "36041059",
   "metadata": {},
   "outputs": [],
   "source": [
    "#patients from different states and truncating the OS_months to 120 months\n",
    "df_os=pd.read_csv('../../../Downloads/KM_Plot__Overall_Survival__(months).txt', sep='\\t')\n",
    "df_os['Event']=[i.split(':')[0] for i in df_os['OS_STATUS']]\n",
    "df_os_tnbc=df_os[df_os['Patient ID'].isin(list_basal)]\n",
    "truncated_os_months = df_os_tnbc['OS_MONTHS'].clip(upper=120)\n",
    "df_os_tnbc['OS_months_truncated'] = truncated_os_months\n",
    "df_os_tnbc['event_truncated'] = df_os_tnbc['Event'].where(df_os_tnbc['OS_MONTHS'] <= 120, 0)\n",
    "df_os_tnbc['group'] = df_os_tnbc['Patient ID'].map(patient_to_state)"
   ]
  },
  {
   "cell_type": "code",
   "execution_count": null,
   "id": "195a2b22",
   "metadata": {
    "scrolled": false
   },
   "outputs": [],
   "source": [
    "# Initialize the Kaplan-Meier fitter\n",
    "kmf = KaplanMeierFitter()\n",
    "\n",
    "# Plot the KM curve for each group\n",
    "plt.figure(figsize=(10, 6))\n",
    "for label in df_os_tnbc['group'].unique():\n",
    "    mask = df_os_tnbc['group'] == label\n",
    "    kmf.fit(df_os_tnbc.loc[mask, 'OS_months_truncated'], event_observed=df_os_tnbc.loc[mask, 'event_truncated'], label=label)\n",
    "    median_survival = kmf.median_survival_time_\n",
    "    kmf.plot(ci_show=False)\n",
    "    #print(label, median_survival)\n",
    "    #survival_table = kmf.event_table\n",
    "    #print(survival_table)\n",
    "    #add_at_risk_counts(kmf)\n",
    "\n",
    "\n",
    "# Customize plot\n",
    "plt.title(\"Kaplan-Meier Plot Based on Gene Expression\")\n",
    "plt.xlabel(\"Time\")\n",
    "plt.ylabel(\"Survival Probability\")\n",
    "plt.legend(title=\"Expression Group\")\n",
    "#plt.savefig('/Volumes/SSD_Yue/TNBC_paper_Fig1_11252024/KM_plot_TCGA_different_states_OS_truncated_to_120_months_11262024.svg')\n"
   ]
  },
  {
   "cell_type": "code",
   "execution_count": null,
   "id": "46f6ad46",
   "metadata": {},
   "outputs": [],
   "source": [
    "#To print survival table for each identity\n",
    "label=\"F0\"\n",
    "mask = df_os_tnbc['group'] == label\n",
    "kmf.fit(df_os_tnbc.loc[mask, 'OS_months_truncated'], event_observed=df_os_tnbc.loc[mask, 'event_truncated'], label=label)\n",
    "median_survival = kmf.median_survival_time_\n",
    "kmf.plot(ci_show=False)\n",
    "print(label, median_survival)\n",
    "survival_table = kmf.event_table\n",
    "print(survival_table)\n",
    "add_at_risk_counts(kmf)\n",
    "plt.title(\"Kaplan-Meier Plot Based on Gene Expression\")\n",
    "plt.xlabel(\"Time\")\n",
    "plt.ylabel(\"Survival Probability\")\n",
    "plt.legend(title=\"Expression Group\")"
   ]
  },
  {
   "cell_type": "code",
   "execution_count": null,
   "id": "d6cfd023",
   "metadata": {},
   "outputs": [],
   "source": [
    "#To print survival table for each identity\n",
    "label=\"F1\"\n",
    "mask = df_os_tnbc['group'] == label\n",
    "kmf.fit(df_os_tnbc.loc[mask, 'OS_months_truncated'], event_observed=df_os_tnbc.loc[mask, 'event_truncated'], label=label)\n",
    "median_survival = kmf.median_survival_time_\n",
    "kmf.plot(ci_show=False)\n",
    "print(label, median_survival)\n",
    "survival_table = kmf.event_table\n",
    "print(survival_table)\n",
    "add_at_risk_counts(kmf)\n",
    "plt.title(\"Kaplan-Meier Plot Based on Gene Expression\")\n",
    "plt.xlabel(\"Time\")\n",
    "plt.ylabel(\"Survival Probability\")\n",
    "plt.legend(title=\"Expression Group\")"
   ]
  },
  {
   "cell_type": "code",
   "execution_count": null,
   "id": "591db57d",
   "metadata": {},
   "outputs": [],
   "source": [
    "#To print survival table for each identity\n",
    "label=\"F2\"\n",
    "mask = df_os_tnbc['group'] == label\n",
    "kmf.fit(df_os_tnbc.loc[mask, 'OS_months_truncated'], event_observed=df_os_tnbc.loc[mask, 'event_truncated'], label=label)\n",
    "median_survival = kmf.median_survival_time_\n",
    "kmf.plot(ci_show=False)\n",
    "print(label, median_survival)\n",
    "survival_table = kmf.event_table\n",
    "print(survival_table)\n",
    "add_at_risk_counts(kmf)\n",
    "plt.title(\"Kaplan-Meier Plot Based on Gene Expression\")\n",
    "plt.xlabel(\"Time\")\n",
    "plt.ylabel(\"Survival Probability\")\n",
    "plt.legend(title=\"Expression Group\")"
   ]
  },
  {
   "cell_type": "code",
   "execution_count": null,
   "id": "a51addec",
   "metadata": {},
   "outputs": [],
   "source": [
    "#To print survival table for each identity\n",
    "label=\"F3\"\n",
    "mask = df_os_tnbc['group'] == label\n",
    "kmf.fit(df_os_tnbc.loc[mask, 'OS_months_truncated'], event_observed=df_os_tnbc.loc[mask, 'event_truncated'], label=label)\n",
    "median_survival = kmf.median_survival_time_\n",
    "kmf.plot(ci_show=False)\n",
    "print(label, median_survival)\n",
    "survival_table = kmf.event_table\n",
    "print(survival_table)\n",
    "add_at_risk_counts(kmf)\n",
    "plt.title(\"Kaplan-Meier Plot Based on Gene Expression\")\n",
    "plt.xlabel(\"Time\")\n",
    "plt.ylabel(\"Survival Probability\")\n",
    "plt.legend(title=\"Expression Group\")"
   ]
  },
  {
   "cell_type": "code",
   "execution_count": null,
   "id": "2a765f95",
   "metadata": {},
   "outputs": [],
   "source": [
    "#To print survival table for each identity\n",
    "label=\"F5\"\n",
    "mask = df_os_tnbc['group'] == label\n",
    "kmf.fit(df_os_tnbc.loc[mask, 'OS_months_truncated'], event_observed=df_os_tnbc.loc[mask, 'event_truncated'], label=label)\n",
    "median_survival = kmf.median_survival_time_\n",
    "kmf.plot(ci_show=False)\n",
    "print(label, median_survival)\n",
    "survival_table = kmf.event_table\n",
    "print(survival_table)\n",
    "add_at_risk_counts(kmf)\n",
    "plt.title(\"Kaplan-Meier Plot Based on Gene Expression\")\n",
    "plt.xlabel(\"Time\")\n",
    "plt.ylabel(\"Survival Probability\")\n",
    "plt.legend(title=\"Expression Group\")"
   ]
  },
  {
   "cell_type": "code",
   "execution_count": null,
   "id": "cc914e5c",
   "metadata": {},
   "outputs": [],
   "source": [
    "#To print survival table for each identity\n",
    "label=\"F1_and_F2_mixture\"\n",
    "mask = df_os_tnbc['group'] == label\n",
    "kmf.fit(df_os_tnbc.loc[mask, 'OS_months_truncated'], event_observed=df_os_tnbc.loc[mask, 'event_truncated'], label=label)\n",
    "median_survival = kmf.median_survival_time_\n",
    "kmf.plot(ci_show=False)\n",
    "print(label, median_survival)\n",
    "survival_table = kmf.event_table\n",
    "print(survival_table)\n",
    "add_at_risk_counts(kmf)\n",
    "plt.title(\"Kaplan-Meier Plot Based on Gene Expression\")\n",
    "plt.xlabel(\"Time\")\n",
    "plt.ylabel(\"Survival Probability\")\n",
    "plt.legend(title=\"Expression Group\")"
   ]
  },
  {
   "cell_type": "code",
   "execution_count": null,
   "id": "a7013c08",
   "metadata": {},
   "outputs": [],
   "source": [
    "high_group = df_os_tnbc[df_os_tnbc['group'] == 'F5']\n",
    "low_group = df_os_tnbc[df_os_tnbc['group'] == 'F1_and_F2_mixture']\n",
    "# Perform the log-rank test\n",
    "results = logrank_test(\n",
    "    high_group['OS_months_truncated'], low_group['OS_months_truncated'],\n",
    "    event_observed_A=high_group['event_truncated'], event_observed_B=low_group['event_truncated']\n",
    ")\n",
    "\n",
    "# Print the p-value\n",
    "print(\"Log-rank test p-value:\", results.p_value)"
   ]
  },
  {
   "cell_type": "code",
   "execution_count": null,
   "id": "7ca10558",
   "metadata": {},
   "outputs": [],
   "source": []
  }
 ],
 "metadata": {
  "kernelspec": {
   "display_name": "Python 3",
   "language": "python",
   "name": "python3"
  },
  "language_info": {
   "codemirror_mode": {
    "name": "ipython",
    "version": 3
   },
   "file_extension": ".py",
   "mimetype": "text/x-python",
   "name": "python",
   "nbconvert_exporter": "python",
   "pygments_lexer": "ipython3",
   "version": "3.8.12"
  }
 },
 "nbformat": 4,
 "nbformat_minor": 5
}
