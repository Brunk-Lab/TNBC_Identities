{
 "cells": [
  {
   "cell_type": "code",
   "execution_count": null,
   "id": "36a119f5",
   "metadata": {},
   "outputs": [],
   "source": [
    "import pandas as pd\n",
    "import numpy as np\n",
    "import matplotlib.pyplot as plt\n",
    "from matplotlib import interactive\n",
    "interactive(True)\n",
    "import itertools\n",
    "from sklearn.metrics import silhouette_score\n",
    "from sklearn.cluster import DBSCAN\n",
    "import sklearn.utils\n",
    "from sklearn.preprocessing import StandardScaler\n",
    "import itertools\n",
    "import math\n",
    "import seaborn as sns\n",
    "import pickle\n",
    "import scipy"
   ]
  },
  {
   "cell_type": "code",
   "execution_count": null,
   "id": "366c8100",
   "metadata": {},
   "outputs": [],
   "source": [
    "read_file = pd.read_csv (r'/Volumes/SSD_Yue/TCGA_Data/brca_tcga_pan_can_atlas_2018/data_mrna_seq_v2_rsem.txt', sep='\\t')\n",
    "read_file = read_file[~read_file.Hugo_Symbol.isnull()]\n",
    "read_file.index=read_file.Hugo_Symbol\n",
    "read_file.drop(['Hugo_Symbol', 'Entrez_Gene_Id'],axis=1, inplace=True)\n",
    "read_file=np.log2(read_file+1)\n",
    "read_file=read_file.T\n",
    "read_file.index=[i[0:12] for i in read_file.index]\n",
    "read_file_2=read_file.groupby(read_file.columns.values,axis=1).mean()\n",
    "basal_information=pd.read_csv('/Volumes/SSD_Yue/TCGA_Data/PAM50CLOW.csv')\n",
    "list_basal=basal_information[basal_information.newSUBTYPE=='Basal'].iloc[:,0].tolist()"
   ]
  },
  {
   "cell_type": "code",
   "execution_count": null,
   "id": "0373b272",
   "metadata": {},
   "outputs": [],
   "source": [
    "whole_genome=read_file_2.columns.tolist()"
   ]
  },
  {
   "cell_type": "code",
   "execution_count": null,
   "id": "406fc90c",
   "metadata": {},
   "outputs": [],
   "source": [
    "df_exp_tnbc=read_file_2[read_file_2.index.isin(list_basal)]"
   ]
  },
  {
   "cell_type": "code",
   "execution_count": null,
   "id": "95ace7c5",
   "metadata": {},
   "outputs": [],
   "source": [
    "def centeroidnp(arr):\n",
    "    length = arr.shape[0]\n",
    "    sum_x = np.sum(arr[:, 0])\n",
    "    sum_y = np.sum(arr[:, 1])\n",
    "    return sum_x/length, sum_y/length"
   ]
  },
  {
   "cell_type": "markdown",
   "id": "2dbaacce",
   "metadata": {},
   "source": [
    "### We first did a genome wide DBscan for all breast cancer samples. For each gene, DBscan is run from eps 0.1 to 1.2 every 0.01 (111 eps). For every cluster pair generated for each gene, we calculate the number of TNBC samples in each cluster of the pair, the centroid distance for this cluster pair, the centroid separation (vertical and horizontal)."
   ]
  },
  {
   "cell_type": "code",
   "execution_count": null,
   "id": "10f464de",
   "metadata": {},
   "outputs": [],
   "source": [
    "gene_index_list=[]\n",
    "eps_list=[]\n",
    "cluster_number_list=[]\n",
    "pan_cancer_distribution_list=[]\n",
    "TNBC_distribution_list=[]\n",
    "\n",
    "cluster_combination_list=[]\n",
    "TNBC_distribution_in_this_cluster_list=[]\n",
    "centroid_distance_list=[]\n",
    "cluster_vertical_separation_list=[]\n",
    "cluster_horizontal_separation_list=[]\n",
    "\n",
    "for i in whole_genome:\n",
    "    for j in list_eps:\n",
    "        df_tmp = read_file_2[['MYC', i]]\n",
    "        df_tmp_t = StandardScaler().fit_transform(df_tmp)\n",
    "        db = DBSCAN(eps=j, min_samples=10).fit(df_tmp_t)\n",
    "        labels = db.labels_\n",
    "        df_tmp.insert(2, 'labels', labels)\n",
    "        #df_tmp['labels']= labels\n",
    "        realClusterNum = len(set(labels)) - (1 if -1 in labels else 0)\n",
    "        clusterNum = len(set(labels)) # including the noise cluster\n",
    "        \n",
    "    \n",
    "    \n",
    "\n",
    "        \n",
    "        pan_cancer_distibution={}\n",
    "        df_dis=df_tmp['labels'].value_counts().to_frame()\n",
    "        \n",
    "        for h in df_dis.index.tolist():\n",
    "            pan_cancer_distibution[str(h)]=df_dis.loc[h, 'labels']\n",
    "        \n",
    "        \n",
    "        #s_score_dict={}\n",
    "        #for subset in itertools.combinations(set(labels), 2):\n",
    "        #    df_test = df_tmp[(df_tmp.labels==subset[0]) | (df_tmp.labels==subset[1])]\n",
    "        #    V = df_test[['MYC',i]].values\n",
    "        #    v_labels = df_test['labels'].tolist()\n",
    "        #    score = silhouette_score(V, v_labels, metric='euclidean')\n",
    "        #    s_score_dict[subset]=score\n",
    "        #silhouette_score_list.append(s_score_dict)\n",
    "        \n",
    "        TNBC_distibution={}\n",
    "        df_tnbc_dis=df_tmp[df_tmp.index.isin(list_basal)]['labels'].value_counts().to_frame()\n",
    "        for k in df_tnbc_dis.index.tolist():\n",
    "            TNBC_distibution[str(k)]=df_tnbc_dis.loc[k, 'labels']\n",
    "\n",
    "        if len(set(labels))<2:\n",
    "            gene_index_list.append(i)\n",
    "            eps_list.append(j)\n",
    "            cluster_number_list.append(clusterNum)\n",
    "            pan_cancer_distribution_list.append(pan_cancer_distibution)\n",
    "            TNBC_distribution_list.append(TNBC_distibution)\n",
    "            cluster_combination_list.append(np.nan)\n",
    "            TNBC_distribution_in_this_cluster_list.append(np.nan)\n",
    "            cluster_vertical_separation_list.append(np.nan)\n",
    "            cluster_horizontal_separation_list.append(np.nan)\n",
    "            centroid_distance_list.append(np.nan)\n",
    "        else:\n",
    "            for subset in itertools.combinations(set(labels), 2):\n",
    "                gene_index_list.append(i)\n",
    "                eps_list.append(j)\n",
    "                cluster_number_list.append(clusterNum)\n",
    "                pan_cancer_distribution_list.append(pan_cancer_distibution)\n",
    "                TNBC_distribution_list.append(TNBC_distibution)\n",
    "            \n",
    "                cluster_combination_list.append(subset)\n",
    "            \n",
    "                df_tmp_1=df_tmp[df_tmp.labels==subset[0]]\n",
    "                df_tmp_2=df_tmp[df_tmp.labels==subset[1]]\n",
    "            \n",
    "                TNBC_in_this_cluster_distribution={}\n",
    "            \n",
    "                TNBC_in_this_cluster_distribution[subset[0]]=df_tmp_1[df_tmp_1.index.isin(list_basal)].shape[0]\n",
    "                TNBC_in_this_cluster_distribution[subset[1]]=df_tmp_2[df_tmp_2.index.isin(list_basal)].shape[0]\n",
    "            \n",
    "                TNBC_distribution_in_this_cluster_list.append(TNBC_in_this_cluster_distribution)\n",
    "            \n",
    "                if max(df_tmp_1[i]) >= max(df_tmp_2[i]):\n",
    "                    cluster_vertical_separation_list.append(min(df_tmp_1[i])-max(df_tmp_2[i]))\n",
    "                else:\n",
    "                    cluster_vertical_separation_list.append(min(df_tmp_2[i])-max(df_tmp_1[i])) \n",
    "                \n",
    "                if max(df_tmp_1['MYC']) >= max(df_tmp_2['MYC']):\n",
    "                    cluster_horizontal_separation_list.append(min(df_tmp_1['MYC'])-max(df_tmp_2['MYC']))\n",
    "                else:\n",
    "                    cluster_horizontal_separation_list.append(min(df_tmp_2['MYC'])-max(df_tmp_1['MYC'])) \n",
    "            \n",
    "        \n",
    "                centroid_1=centeroidnp(np.asanyarray(df_tmp_1[['MYC', i]]))\n",
    "                centroid_2=centeroidnp(np.asanyarray(df_tmp_2[['MYC', i]]))\n",
    "        \n",
    "                subset_distance=math.dist(centroid_1, centroid_2)\n",
    "                centroid_distance_list.append(subset_distance)\n",
    "        \n",
    "        \n",
    "df_results_1=pd.DataFrame(list(zip(gene_index_list, eps_list, cluster_number_list, pan_cancer_distribution_list, TNBC_distribution_list, cluster_combination_list,\n",
    "                     TNBC_distribution_in_this_cluster_list, centroid_distance_list, cluster_vertical_separation_list, cluster_horizontal_separation_list)),\n",
    "               columns =['gene', 'eps', 'pan_cancer_cluster_number', 'pan_cancer_distribution', 'TNBC_distribution', 'cluster_combination', 'TNBC_distribution_in_this_cluster', 'centroid_distance_for_this_cluster', 'vertical_separation_for_this_cluster', 'horizontal_separation_for_this_cluster'])\n",
    "#df_results_1.to_csv('20000_20510_TCGA_TNBC_genome_wide_searching_for_genes_separating_cellular_states_another_method_eps_from_0.1_to_1.2_every_0.01_12192022.csv')"
   ]
  },
  {
   "cell_type": "markdown",
   "id": "f2da08b2",
   "metadata": {},
   "source": [
    "### Then we did a first-round filtering chooseing genes with cluster pair distances more than 4 (higher than 95% of the quantile) and there are no less than 10 TNBC samples in each cluster of the pair."
   ]
  },
  {
   "cell_type": "code",
   "execution_count": null,
   "id": "53061c6a",
   "metadata": {},
   "outputs": [],
   "source": [
    "df_all_1=pd.read_csv('/Volumes/SSD_Yue/TNBC_MYC_heterogeneity_data/TCGA_selecting_TNBC_cellualr_state_genes_across_the_genome/0_2000_TCGA_TNBC_genome_wide_searching_for_genes_separating_cellular_states_another_method_eps_from_0.1_to_1.2_every_0.01_12192022.csv')\n",
    "df_all_1=df_all_1[(df_all_1.centroid_distance_for_this_cluster>4)]\n",
    "df_all_1['TNBC_distribution_in_this_cluster']=df_all_1['TNBC_distribution_in_this_cluster'].apply(lambda x: eval(x))\n",
    "df_all_1= df_all_1[~df_all_1['TNBC_distribution_in_this_cluster'].apply(lambda x: -1 in x.keys())]\n",
    "df_all_1=df_all_1[df_all_1['TNBC_distribution_in_this_cluster'].apply(lambda x: [x[key]>0 for key  in list(x.keys())]== [True, True])]"
   ]
  },
  {
   "cell_type": "code",
   "execution_count": null,
   "id": "368b4d8b",
   "metadata": {},
   "outputs": [],
   "source": [
    "df_all_2=pd.read_csv('/Volumes/SSD_Yue/TNBC_MYC_heterogeneity_data/TCGA_selecting_TNBC_cellualr_state_genes_across_the_genome/2000_4000_TCGA_TNBC_genome_wide_searching_for_genes_separating_cellular_states_another_method_eps_from_0.1_to_1.2_every_0.01_12192022.csv')\n",
    "df_all_2=df_all_2[(df_all_2.centroid_distance_for_this_cluster>4)]\n",
    "df_all_2['TNBC_distribution_in_this_cluster']=df_all_2['TNBC_distribution_in_this_cluster'].apply(lambda x: eval(x))\n",
    "df_all_2= df_all_2[~df_all_2['TNBC_distribution_in_this_cluster'].apply(lambda x: -1 in x.keys())]\n",
    "df_all_2=df_all_2[df_all_2['TNBC_distribution_in_this_cluster'].apply(lambda x: [x[key]>0 for key  in list(x.keys())]== [True, True])]"
   ]
  },
  {
   "cell_type": "code",
   "execution_count": null,
   "id": "04ff0c49",
   "metadata": {},
   "outputs": [],
   "source": [
    "df_all_3=pd.read_csv('/Volumes/SSD_Yue/TNBC_MYC_heterogeneity_data/TCGA_selecting_TNBC_cellualr_state_genes_across_the_genome/4000_6000_TCGA_TNBC_genome_wide_searching_for_genes_separating_cellular_states_another_method_eps_from_0.1_to_1.2_every_0.01_12192022.csv')\n",
    "df_all_3=df_all_3[(df_all_3.centroid_distance_for_this_cluster>4)]\n",
    "df_all_3['TNBC_distribution_in_this_cluster']=df_all_3['TNBC_distribution_in_this_cluster'].apply(lambda x: eval(x))\n",
    "df_all_3= df_all_3[~df_all_3['TNBC_distribution_in_this_cluster'].apply(lambda x: -1 in x.keys())]\n",
    "df_all_3=df_all_3[df_all_3['TNBC_distribution_in_this_cluster'].apply(lambda x: [x[key]>0 for key  in list(x.keys())]== [True, True])]"
   ]
  },
  {
   "cell_type": "code",
   "execution_count": null,
   "id": "0f11afdc",
   "metadata": {},
   "outputs": [],
   "source": [
    "df_all_4=pd.read_csv('/Volumes/SSD_Yue/TNBC_MYC_heterogeneity_data/TCGA_selecting_TNBC_cellualr_state_genes_across_the_genome/6000_8000_TCGA_TNBC_genome_wide_searching_for_genes_separating_cellular_states_another_method_eps_from_0.1_to_1.2_every_0.01_12192022.csv')\n",
    "df_all_4=df_all_4[(df_all_4.centroid_distance_for_this_cluster>4)]\n",
    "df_all_4['TNBC_distribution_in_this_cluster']=df_all_4['TNBC_distribution_in_this_cluster'].apply(lambda x: eval(x))\n",
    "df_all_4= df_all_4[~df_all_4['TNBC_distribution_in_this_cluster'].apply(lambda x: -1 in x.keys())]\n",
    "df_all_4=df_all_4[df_all_4['TNBC_distribution_in_this_cluster'].apply(lambda x: [x[key]>0 for key  in list(x.keys())]== [True, True])]"
   ]
  },
  {
   "cell_type": "code",
   "execution_count": null,
   "id": "bbf0b9bb",
   "metadata": {},
   "outputs": [],
   "source": [
    "df_all_5=pd.read_csv('/Volumes/SSD_Yue/TNBC_MYC_heterogeneity_data/TCGA_selecting_TNBC_cellualr_state_genes_across_the_genome/8000_10000_TCGA_TNBC_genome_wide_searching_for_genes_separating_cellular_states_another_method_eps_from_0.1_to_1.2_every_0.01_12192022.csv')\n",
    "df_all_5=df_all_5[(df_all_5.centroid_distance_for_this_cluster>4)]\n",
    "df_all_5['TNBC_distribution_in_this_cluster']=df_all_5['TNBC_distribution_in_this_cluster'].apply(lambda x: eval(x))\n",
    "df_all_5= df_all_5[~df_all_5['TNBC_distribution_in_this_cluster'].apply(lambda x: -1 in x.keys())]\n",
    "df_all_5=df_all_5[df_all_5['TNBC_distribution_in_this_cluster'].apply(lambda x: [x[key]>0 for key  in list(x.keys())]== [True, True])]"
   ]
  },
  {
   "cell_type": "code",
   "execution_count": null,
   "id": "f10ccd31",
   "metadata": {},
   "outputs": [],
   "source": [
    "df_all_6=pd.read_csv('/Volumes/SSD_Yue/TNBC_MYC_heterogeneity_data/TCGA_selecting_TNBC_cellualr_state_genes_across_the_genome/10000_12000_TCGA_TNBC_genome_wide_searching_for_genes_separating_cellular_states_another_method_eps_from_0.1_to_1.2_every_0.01_12192022.csv')\n",
    "df_all_6=df_all_6[(df_all_6.centroid_distance_for_this_cluster>4)]\n",
    "df_all_6['TNBC_distribution_in_this_cluster']=df_all_6['TNBC_distribution_in_this_cluster'].apply(lambda x: eval(x))\n",
    "df_all_6= df_all_6[~df_all_6['TNBC_distribution_in_this_cluster'].apply(lambda x: -1 in x.keys())]\n",
    "df_all_6=df_all_6[df_all_6['TNBC_distribution_in_this_cluster'].apply(lambda x: [x[key]>0 for key  in list(x.keys())]== [True, True])]"
   ]
  },
  {
   "cell_type": "code",
   "execution_count": null,
   "id": "5a540062",
   "metadata": {},
   "outputs": [],
   "source": [
    "df_all_7=pd.read_csv('/Volumes/SSD_Yue/TNBC_MYC_heterogeneity_data/TCGA_selecting_TNBC_cellualr_state_genes_across_the_genome/12000_14000_TCGA_TNBC_genome_wide_searching_for_genes_separating_cellular_states_another_method_eps_from_0.1_to_1.2_every_0.01_12192022.csv')\n",
    "df_all_7=df_all_7[(df_all_7.centroid_distance_for_this_cluster>4)]\n",
    "df_all_7['TNBC_distribution_in_this_cluster']=df_all_7['TNBC_distribution_in_this_cluster'].apply(lambda x: eval(x))\n",
    "df_all_7= df_all_7[~df_all_7['TNBC_distribution_in_this_cluster'].apply(lambda x: -1 in x.keys())]\n",
    "df_all_7=df_all_7[df_all_7['TNBC_distribution_in_this_cluster'].apply(lambda x: [x[key]>0 for key  in list(x.keys())]== [True, True])]"
   ]
  },
  {
   "cell_type": "code",
   "execution_count": null,
   "id": "07fdc136",
   "metadata": {},
   "outputs": [],
   "source": [
    "df_all_8=pd.read_csv('/Volumes/SSD_Yue/TNBC_MYC_heterogeneity_data/TCGA_selecting_TNBC_cellualr_state_genes_across_the_genome/14000_16000_TCGA_TNBC_genome_wide_searching_for_genes_separating_cellular_states_another_method_eps_from_0.1_to_1.2_every_0.01_12192022.csv')\n",
    "df_all_8=df_all_8[(df_all_8.centroid_distance_for_this_cluster>4)]\n",
    "df_all_8['TNBC_distribution_in_this_cluster']=df_all_8['TNBC_distribution_in_this_cluster'].apply(lambda x: eval(x))\n",
    "df_all_8= df_all_8[~df_all_8['TNBC_distribution_in_this_cluster'].apply(lambda x: -1 in x.keys())]\n",
    "df_all_8=df_all_8[df_all_8['TNBC_distribution_in_this_cluster'].apply(lambda x: [x[key]>0 for key  in list(x.keys())]== [True, True])]"
   ]
  },
  {
   "cell_type": "code",
   "execution_count": null,
   "id": "06ea77f5",
   "metadata": {},
   "outputs": [],
   "source": [
    "df_all_9=pd.read_csv('/Volumes/SSD_Yue/TNBC_MYC_heterogeneity_data/TCGA_selecting_TNBC_cellualr_state_genes_across_the_genome/16000_18000_TCGA_TNBC_genome_wide_searching_for_genes_separating_cellular_states_another_method_eps_from_0.1_to_1.2_every_0.01_12192022.csv')\n",
    "df_all_9=df_all_9[(df_all_9.centroid_distance_for_this_cluster>4)]\n",
    "df_all_9['TNBC_distribution_in_this_cluster']=df_all_9['TNBC_distribution_in_this_cluster'].apply(lambda x: eval(x))\n",
    "df_all_9= df_all_9[~df_all_9['TNBC_distribution_in_this_cluster'].apply(lambda x: -1 in x.keys())]\n",
    "df_all_9=df_all_9[df_all_9['TNBC_distribution_in_this_cluster'].apply(lambda x: [x[key]>0 for key  in list(x.keys())]== [True, True])]"
   ]
  },
  {
   "cell_type": "code",
   "execution_count": null,
   "id": "7d1056dc",
   "metadata": {},
   "outputs": [],
   "source": [
    "df_all_10=pd.read_csv('/Volumes/SSD_Yue/TNBC_MYC_heterogeneity_data/TCGA_selecting_TNBC_cellualr_state_genes_across_the_genome/18000_20000_TCGA_TNBC_genome_wide_searching_for_genes_separating_cellular_states_another_method_eps_from_0.1_to_1.2_every_0.01_12192022.csv')\n",
    "df_all_10=df_all_10[(df_all_10.centroid_distance_for_this_cluster>4)]\n",
    "df_all_10['TNBC_distribution_in_this_cluster']=df_all_10['TNBC_distribution_in_this_cluster'].apply(lambda x: eval(x))\n",
    "df_all_10= df_all_10[~df_all_10['TNBC_distribution_in_this_cluster'].apply(lambda x: -1 in x.keys())]\n",
    "df_all_10=df_all_10[df_all_10['TNBC_distribution_in_this_cluster'].apply(lambda x: [x[key]>0 for key  in list(x.keys())]== [True, True])]"
   ]
  },
  {
   "cell_type": "code",
   "execution_count": null,
   "id": "4d91dc00",
   "metadata": {},
   "outputs": [],
   "source": [
    "df_all_11=pd.read_csv('/Volumes/SSD_Yue/TNBC_MYC_heterogeneity_data/TCGA_selecting_TNBC_cellualr_state_genes_across_the_genome/20000_20510_TCGA_TNBC_genome_wide_searching_for_genes_separating_cellular_states_another_method_eps_from_0.1_to_1.2_every_0.01_12192022.csv')\n",
    "df_all_11=df_all_11[(df_all_11.centroid_distance_for_this_cluster>4)]\n",
    "df_all_11['TNBC_distribution_in_this_cluster']=df_all_11['TNBC_distribution_in_this_cluster'].apply(lambda x: eval(x))\n",
    "df_all_11= df_all_11[~df_all_11['TNBC_distribution_in_this_cluster'].apply(lambda x: -1 in x.keys())]\n",
    "df_all_11=df_all_11[df_all_11['TNBC_distribution_in_this_cluster'].apply(lambda x: [x[key]>0 for key  in list(x.keys())]== [True, True])]"
   ]
  },
  {
   "cell_type": "code",
   "execution_count": null,
   "id": "f942af00",
   "metadata": {},
   "outputs": [],
   "source": [
    "df_all=df_all_1.append([df_all_2, df_all_3, df_all_4, df_all_5, df_all_6, df_all_7, df_all_8, df_all_9, df_all_10, df_all_11])"
   ]
  },
  {
   "cell_type": "code",
   "execution_count": null,
   "id": "da036cae",
   "metadata": {},
   "outputs": [],
   "source": [
    "df_all['TNBC_number_in_the_first_cluster']=df_all['TNBC_distribution_in_this_cluster'].apply(lambda x: x[list(x.keys())[0]])"
   ]
  },
  {
   "cell_type": "code",
   "execution_count": null,
   "id": "438ba68d",
   "metadata": {},
   "outputs": [],
   "source": [
    "df_all['TNBC_number_in_the_second_cluster']=df_all['TNBC_distribution_in_this_cluster'].apply(lambda x: x[list(x.keys())[1]])"
   ]
  },
  {
   "cell_type": "code",
   "execution_count": null,
   "id": "78bbd067",
   "metadata": {},
   "outputs": [],
   "source": [
    "list_1=df_all['TNBC_number_in_the_first_cluster'].tolist()\n",
    "list_2=df_all['TNBC_number_in_the_second_cluster'].tolist()\n",
    "list_all=list_1+list_2"
   ]
  },
  {
   "cell_type": "code",
   "execution_count": null,
   "id": "d3a7b22b",
   "metadata": {},
   "outputs": [],
   "source": [
    "df_all_1=pd.read_csv('/Volumes/SSD_Yue/TNBC_MYC_heterogeneity_data/0_2000_TCGA_TNBC_genome_wide_searching_for_genes_separating_cellular_states_another_method_eps_from_0.1_to_1.2_every_0.01_12192022.csv')\n",
    "df_all_1=df_all_1[(df_all_1.centroid_distance_for_this_cluster>4)]\n",
    "df_all_1['TNBC_distribution_in_this_cluster']=df_all_1['TNBC_distribution_in_this_cluster'].apply(lambda x: eval(x))\n",
    "df_all_1= df_all_1[~df_all_1['TNBC_distribution_in_this_cluster'].apply(lambda x: -1 in x.keys())]\n",
    "df_all_1=df_all_1[df_all_1['TNBC_distribution_in_this_cluster'].apply(lambda x: [x[key]>=10 for key  in list(x.keys())]== [True, True])]"
   ]
  },
  {
   "cell_type": "code",
   "execution_count": null,
   "id": "74c3af28",
   "metadata": {},
   "outputs": [],
   "source": [
    "df_all_2=pd.read_csv('/Volumes/SSD_Yue/TNBC_MYC_heterogeneity_data/2000_4000_TCGA_TNBC_genome_wide_searching_for_genes_separating_cellular_states_another_method_eps_from_0.1_to_1.2_every_0.01_12192022.csv')\n",
    "df_all_2=df_all_2[(df_all_2.centroid_distance_for_this_cluster>4)]\n",
    "df_all_2['TNBC_distribution_in_this_cluster']=df_all_2['TNBC_distribution_in_this_cluster'].apply(lambda x: eval(x))\n",
    "df_all_2= df_all_2[~df_all_2['TNBC_distribution_in_this_cluster'].apply(lambda x: -1 in x.keys())]\n",
    "df_all_2=df_all_2[df_all_2['TNBC_distribution_in_this_cluster'].apply(lambda x: [x[key]>=10 for key  in list(x.keys())]== [True, True])]"
   ]
  },
  {
   "cell_type": "code",
   "execution_count": null,
   "id": "7bece752",
   "metadata": {},
   "outputs": [],
   "source": [
    "df_all_3=pd.read_csv('/Volumes/SSD_Yue/TNBC_MYC_heterogeneity_data/4000_6000_TCGA_TNBC_genome_wide_searching_for_genes_separating_cellular_states_another_method_eps_from_0.1_to_1.2_every_0.01_12192022.csv')\n",
    "df_all_3=df_all_3[(df_all_3.centroid_distance_for_this_cluster>4)]\n",
    "df_all_3['TNBC_distribution_in_this_cluster']=df_all_3['TNBC_distribution_in_this_cluster'].apply(lambda x: eval(x))\n",
    "df_all_3= df_all_3[~df_all_3['TNBC_distribution_in_this_cluster'].apply(lambda x: -1 in x.keys())]\n",
    "df_all_3=df_all_3[df_all_3['TNBC_distribution_in_this_cluster'].apply(lambda x: [x[key]>=10 for key  in list(x.keys())]== [True, True])]"
   ]
  },
  {
   "cell_type": "code",
   "execution_count": null,
   "id": "b0ff9a5f",
   "metadata": {},
   "outputs": [],
   "source": [
    "df_all_4=pd.read_csv('/Volumes/SSD_Yue/TNBC_MYC_heterogeneity_data/6000_8000_TCGA_TNBC_genome_wide_searching_for_genes_separating_cellular_states_another_method_eps_from_0.1_to_1.2_every_0.01_12192022.csv')\n",
    "df_all_4=df_all_4[(df_all_4.centroid_distance_for_this_cluster>4)]\n",
    "df_all_4['TNBC_distribution_in_this_cluster']=df_all_4['TNBC_distribution_in_this_cluster'].apply(lambda x: eval(x))\n",
    "df_all_4= df_all_4[~df_all_4['TNBC_distribution_in_this_cluster'].apply(lambda x: -1 in x.keys())]\n",
    "df_all_4=df_all_4[df_all_4['TNBC_distribution_in_this_cluster'].apply(lambda x: [x[key]>=10 for key  in list(x.keys())]== [True, True])]"
   ]
  },
  {
   "cell_type": "code",
   "execution_count": null,
   "id": "84cb8abd",
   "metadata": {},
   "outputs": [],
   "source": [
    "df_all_5=pd.read_csv('/Volumes/SSD_Yue/TNBC_MYC_heterogeneity_data/8000_10000_TCGA_TNBC_genome_wide_searching_for_genes_separating_cellular_states_another_method_eps_from_0.1_to_1.2_every_0.01_12192022.csv')\n",
    "df_all_5=df_all_5[(df_all_5.centroid_distance_for_this_cluster>4)]\n",
    "df_all_5['TNBC_distribution_in_this_cluster']=df_all_5['TNBC_distribution_in_this_cluster'].apply(lambda x: eval(x))\n",
    "df_all_5= df_all_5[~df_all_5['TNBC_distribution_in_this_cluster'].apply(lambda x: -1 in x.keys())]\n",
    "df_all_5=df_all_5[df_all_5['TNBC_distribution_in_this_cluster'].apply(lambda x: [x[key]>=10 for key  in list(x.keys())]== [True, True])]"
   ]
  },
  {
   "cell_type": "code",
   "execution_count": null,
   "id": "943072bc",
   "metadata": {},
   "outputs": [],
   "source": [
    "df_all_6=pd.read_csv('/Volumes/SSD_Yue/TNBC_MYC_heterogeneity_data/10000_12000_TCGA_TNBC_genome_wide_searching_for_genes_separating_cellular_states_another_method_eps_from_0.1_to_1.2_every_0.01_12192022.csv')\n",
    "df_all_6=df_all_6[(df_all_6.centroid_distance_for_this_cluster>4)]\n",
    "df_all_6['TNBC_distribution_in_this_cluster']=df_all_6['TNBC_distribution_in_this_cluster'].apply(lambda x: eval(x))\n",
    "df_all_6= df_all_6[~df_all_6['TNBC_distribution_in_this_cluster'].apply(lambda x: -1 in x.keys())]\n",
    "df_all_6=df_all_6[df_all_6['TNBC_distribution_in_this_cluster'].apply(lambda x: [x[key]>=10 for key  in list(x.keys())]== [True, True])]"
   ]
  },
  {
   "cell_type": "code",
   "execution_count": null,
   "id": "15b89822",
   "metadata": {},
   "outputs": [],
   "source": [
    "df_all_7=pd.read_csv('/Volumes/SSD_Yue/TNBC_MYC_heterogeneity_data/12000_14000_TCGA_TNBC_genome_wide_searching_for_genes_separating_cellular_states_another_method_eps_from_0.1_to_1.2_every_0.01_12192022.csv')\n",
    "df_all_7=df_all_7[(df_all_7.centroid_distance_for_this_cluster>4)]\n",
    "df_all_7['TNBC_distribution_in_this_cluster']=df_all_7['TNBC_distribution_in_this_cluster'].apply(lambda x: eval(x))\n",
    "df_all_7= df_all_7[~df_all_7['TNBC_distribution_in_this_cluster'].apply(lambda x: -1 in x.keys())]\n",
    "df_all_7=df_all_7[df_all_7['TNBC_distribution_in_this_cluster'].apply(lambda x: [x[key]>=10 for key  in list(x.keys())]== [True, True])]"
   ]
  },
  {
   "cell_type": "code",
   "execution_count": null,
   "id": "e70dadae",
   "metadata": {},
   "outputs": [],
   "source": [
    "df_all_8=pd.read_csv('/Volumes/SSD_Yue/TNBC_MYC_heterogeneity_data/14000_16000_TCGA_TNBC_genome_wide_searching_for_genes_separating_cellular_states_another_method_eps_from_0.1_to_1.2_every_0.01_12192022.csv')\n",
    "df_all_8=df_all_8[(df_all_8.centroid_distance_for_this_cluster>4)]\n",
    "df_all_8['TNBC_distribution_in_this_cluster']=df_all_8['TNBC_distribution_in_this_cluster'].apply(lambda x: eval(x))\n",
    "df_all_8= df_all_8[~df_all_8['TNBC_distribution_in_this_cluster'].apply(lambda x: -1 in x.keys())]\n",
    "df_all_8=df_all_8[df_all_8['TNBC_distribution_in_this_cluster'].apply(lambda x: [x[key]>=10 for key  in list(x.keys())]== [True, True])]"
   ]
  },
  {
   "cell_type": "code",
   "execution_count": null,
   "id": "d3fa6150",
   "metadata": {},
   "outputs": [],
   "source": [
    "df_all_9=pd.read_csv('/Volumes/SSD_Yue/TNBC_MYC_heterogeneity_data/16000_18000_TCGA_TNBC_genome_wide_searching_for_genes_separating_cellular_states_another_method_eps_from_0.1_to_1.2_every_0.01_12192022.csv')\n",
    "df_all_9=df_all_9[(df_all_9.centroid_distance_for_this_cluster>4)]\n",
    "df_all_9['TNBC_distribution_in_this_cluster']=df_all_9['TNBC_distribution_in_this_cluster'].apply(lambda x: eval(x))\n",
    "df_all_9= df_all_9[~df_all_9['TNBC_distribution_in_this_cluster'].apply(lambda x: -1 in x.keys())]\n",
    "df_all_9=df_all_9[df_all_9['TNBC_distribution_in_this_cluster'].apply(lambda x: [x[key]>=10 for key  in list(x.keys())]== [True, True])]"
   ]
  },
  {
   "cell_type": "code",
   "execution_count": null,
   "id": "cadba847",
   "metadata": {},
   "outputs": [],
   "source": [
    "df_all_10=pd.read_csv('/Volumes/SSD_Yue/TNBC_MYC_heterogeneity_data/18000_20000_TCGA_TNBC_genome_wide_searching_for_genes_separating_cellular_states_another_method_eps_from_0.1_to_1.2_every_0.01_12192022.csv')\n",
    "df_all_10=df_all_10[(df_all_10.centroid_distance_for_this_cluster>4)]\n",
    "df_all_10['TNBC_distribution_in_this_cluster']=df_all_10['TNBC_distribution_in_this_cluster'].apply(lambda x: eval(x))\n",
    "df_all_10= df_all_10[~df_all_10['TNBC_distribution_in_this_cluster'].apply(lambda x: -1 in x.keys())]\n",
    "df_all_10=df_all_10[df_all_10['TNBC_distribution_in_this_cluster'].apply(lambda x: [x[key]>=10 for key  in list(x.keys())]== [True, True])]"
   ]
  },
  {
   "cell_type": "code",
   "execution_count": null,
   "id": "62b68a57",
   "metadata": {},
   "outputs": [],
   "source": [
    "df_all_11=pd.read_csv('/Volumes/SSD_Yue/TNBC_MYC_heterogeneity_data/20000_20510_TCGA_TNBC_genome_wide_searching_for_genes_separating_cellular_states_another_method_eps_from_0.1_to_1.2_every_0.01_12192022.csv')\n",
    "df_all_11=df_all_11[(df_all_11.centroid_distance_for_this_cluster>4)]\n",
    "df_all_11['TNBC_distribution_in_this_cluster']=df_all_11['TNBC_distribution_in_this_cluster'].apply(lambda x: eval(x))\n",
    "df_all_11= df_all_11[~df_all_11['TNBC_distribution_in_this_cluster'].apply(lambda x: -1 in x.keys())]\n",
    "df_all_11=df_all_11[df_all_11['TNBC_distribution_in_this_cluster'].apply(lambda x: [x[key]>=10 for key  in list(x.keys())]== [True, True])]"
   ]
  },
  {
   "cell_type": "code",
   "execution_count": null,
   "id": "5b583c99",
   "metadata": {},
   "outputs": [],
   "source": [
    "df_all=df_all_1.append([df_all_2, df_all_3, df_all_4, df_all_5, df_all_6, df_all_7, df_all_8, df_all_9, df_all_10, df_all_11])"
   ]
  },
  {
   "cell_type": "code",
   "execution_count": null,
   "id": "12d7ca17",
   "metadata": {},
   "outputs": [],
   "source": [
    "df_all.shape"
   ]
  },
  {
   "cell_type": "code",
   "execution_count": null,
   "id": "341ebd14",
   "metadata": {},
   "outputs": [],
   "source": [
    "len(df_all.gene.unique().tolist())"
   ]
  },
  {
   "cell_type": "code",
   "execution_count": null,
   "id": "7c2a19d7",
   "metadata": {},
   "outputs": [],
   "source": [
    "list_first_filtered=df_all.gene.unique().tolist()"
   ]
  },
  {
   "cell_type": "code",
   "execution_count": null,
   "id": "2a362fac",
   "metadata": {},
   "outputs": [],
   "source": [
    "pd.DataFrame(list_first_filtered, columns=['gene']).to_csv('12192022_TCGA_gene_preliminary_list')"
   ]
  },
  {
   "cell_type": "markdown",
   "id": "52d62456",
   "metadata": {},
   "source": [
    "### So we got 753 genes after the first-round filtering. Then we sent these 753 genes for another round of DBscan. In this round, we did DBscan for only TNBC samples from eps 0.1 to 1.2 every 0.01. `min_sample` parameter is 8. The result is stored in `df_result`."
   ]
  },
  {
   "cell_type": "code",
   "execution_count": null,
   "id": "588df46c",
   "metadata": {},
   "outputs": [],
   "source": [
    "#Second round DBscan filtering for only TNBC samples using the gene selected in the previous round using all breast cancer samples\n",
    "gene_index_list=[]\n",
    "eps_list=[]\n",
    "cluster_number_list=[]\n",
    "TNBC_distribution_list=[]\n",
    "\n",
    "cluster_combination_list=[]\n",
    "TNBC_distribution_in_this_cluster_list=[]\n",
    "centroid_distance_list=[]\n",
    "cluster_vertical_separation_list=[]\n",
    "cluster_horizontal_separation_list=[]\n",
    "\n",
    "for i in list_second_round:\n",
    "    for j in list_eps:\n",
    "        df_tmp = df_exp_tnbc[['MYC', i]]\n",
    "        df_tmp_t = StandardScaler().fit_transform(df_tmp)\n",
    "        db = DBSCAN(eps=j, min_samples=8).fit(df_tmp_t)\n",
    "        labels = db.labels_\n",
    "        df_tmp.insert(2, 'labels', labels)\n",
    "        #df_tmp['labels']= labels\n",
    "        realClusterNum = len(set(labels)) - (1 if -1 in labels else 0)\n",
    "        clusterNum = len(set(labels)) # including the noise cluster\n",
    "        \n",
    "    \n",
    "    \n",
    "\n",
    "        \n",
    "        TNBC_distibution={}\n",
    "        df_dis=df_tmp['labels'].value_counts().to_frame()\n",
    "        \n",
    "        for h in df_dis.index.tolist():\n",
    "            TNBC_distibution[str(h)]=df_dis.loc[h, 'labels']\n",
    "        \n",
    "        \n",
    "        #s_score_dict={}\n",
    "        #for subset in itertools.combinations(set(labels), 2):\n",
    "        #    df_test = df_tmp[(df_tmp.labels==subset[0]) | (df_tmp.labels==subset[1])]\n",
    "        #    V = df_test[['MYC',i]].values\n",
    "        #    v_labels = df_test['labels'].tolist()\n",
    "        #    score = silhouette_score(V, v_labels, metric='euclidean')\n",
    "        #    s_score_dict[subset]=score\n",
    "        #silhouette_score_list.append(s_score_dict)\n",
    "        \n",
    "\n",
    "        if len(set(labels))<2:\n",
    "            gene_index_list.append(i)\n",
    "            eps_list.append(j)\n",
    "            cluster_number_list.append(clusterNum)\n",
    "            TNBC_distribution_list.append(TNBC_distibution)\n",
    "            cluster_combination_list.append(np.nan)\n",
    "            TNBC_distribution_in_this_cluster_list.append(np.nan)\n",
    "            cluster_vertical_separation_list.append(np.nan)\n",
    "            cluster_horizontal_separation_list.append(np.nan)\n",
    "            centroid_distance_list.append(np.nan)\n",
    "        else:\n",
    "            for subset in itertools.combinations(set(labels), 2):\n",
    "                gene_index_list.append(i)\n",
    "                eps_list.append(j)\n",
    "                cluster_number_list.append(clusterNum)\n",
    "                TNBC_distribution_list.append(TNBC_distibution)\n",
    "            \n",
    "                cluster_combination_list.append(subset)\n",
    "            \n",
    "                df_tmp_1=df_tmp[df_tmp.labels==subset[0]]\n",
    "                df_tmp_2=df_tmp[df_tmp.labels==subset[1]]\n",
    "            \n",
    "                TNBC_in_this_cluster_distribution={}\n",
    "            \n",
    "                TNBC_in_this_cluster_distribution[subset[0]]=df_tmp_1.shape[0]\n",
    "                TNBC_in_this_cluster_distribution[subset[1]]=df_tmp_2.shape[0]\n",
    "            \n",
    "                TNBC_distribution_in_this_cluster_list.append(TNBC_in_this_cluster_distribution)\n",
    "            \n",
    "                if max(df_tmp_1[i]) >= max(df_tmp_2[i]):\n",
    "                    cluster_vertical_separation_list.append(min(df_tmp_1[i])-max(df_tmp_2[i]))\n",
    "                else:\n",
    "                    cluster_vertical_separation_list.append(min(df_tmp_2[i])-max(df_tmp_1[i])) \n",
    "                \n",
    "                if max(df_tmp_1['MYC']) >= max(df_tmp_2['MYC']):\n",
    "                    cluster_horizontal_separation_list.append(min(df_tmp_1['MYC'])-max(df_tmp_2['MYC']))\n",
    "                else:\n",
    "                    cluster_horizontal_separation_list.append(min(df_tmp_2['MYC'])-max(df_tmp_1['MYC'])) \n",
    "            \n",
    "        \n",
    "                centroid_1=centeroidnp(np.asanyarray(df_tmp_1[['MYC', i]]))\n",
    "                centroid_2=centeroidnp(np.asanyarray(df_tmp_2[['MYC', i]]))\n",
    "        \n",
    "                subset_distance=math.dist(centroid_1, centroid_2)\n",
    "                centroid_distance_list.append(subset_distance)\n",
    "        \n",
    "        \n",
    "df_result=pd.DataFrame(list(zip(gene_index_list, eps_list, cluster_number_list, TNBC_distribution_list, cluster_combination_list,\n",
    "                     TNBC_distribution_in_this_cluster_list, centroid_distance_list, cluster_vertical_separation_list, cluster_horizontal_separation_list)),\n",
    "               columns =['gene', 'eps', 'cluster_number', 'TNBC_distribution', 'cluster_combination', 'TNBC_distribution_in_this_cluster', 'centroid_distance_for_this_cluster', 'vertical_separation_for_this_cluster', 'horizontal_separation_for_this_cluster'])\n",
    "df_result.to_csv('second_round_TCGA_TNBC_genome_wide_searching_for_genes_separating_cellular_states_another_method_eps_from_0.1_to_1.2_every_0.01_12202022.csv')"
   ]
  },
  {
   "cell_type": "code",
   "execution_count": null,
   "id": "bd874834",
   "metadata": {},
   "outputs": [],
   "source": [
    "df_result=pd.read_csv('/Volumes/SSD_Yue/TNBC_MYC_heterogeneity_data/TCGA_selecting_TNBC_cellualr_state_genes_across_the_genome/second_round_TCGA_TNBC_genome_wide_searching_for_genes_separating_cellular_states_another_method_eps_from_0.1_to_1.2_every_0.01_12202022.csv')"
   ]
  },
  {
   "cell_type": "code",
   "execution_count": null,
   "id": "9b513fc2",
   "metadata": {},
   "outputs": [],
   "source": [
    "df_result.drop('Unnamed: 0', axis=1, inplace=True)"
   ]
  },
  {
   "cell_type": "markdown",
   "id": "a449af5f",
   "metadata": {},
   "source": [
    "### Then we chose genes with cluster pairs that have centroid distance more than 4, and there are at least 8 TNBC samples in each cluster of the pair."
   ]
  },
  {
   "cell_type": "code",
   "execution_count": null,
   "id": "6ebfb3e2",
   "metadata": {},
   "outputs": [],
   "source": [
    "df_result_1=df_result[df_result.centroid_distance_for_this_cluster>4]\n",
    "df_result_1['TNBC_distribution_in_this_cluster']=df_result_1['TNBC_distribution_in_this_cluster'].apply(lambda x: eval(x))\n",
    "df_result_1= df_result_1[~df_result_1['TNBC_distribution_in_this_cluster'].apply(lambda x: -1 in x.keys())]\n",
    "df_result_1=df_result_1[df_result_1['TNBC_distribution_in_this_cluster'].apply(lambda x: [x[key]>0 for key  in list(x.keys())]== [True, True])]"
   ]
  },
  {
   "cell_type": "code",
   "execution_count": null,
   "id": "840fc8ad",
   "metadata": {},
   "outputs": [],
   "source": [
    "df_result_1['TNBC_number_in_the_first_cluster']=df_result_1['TNBC_distribution_in_this_cluster'].apply(lambda x: x[list(x.keys())[0]])\n",
    "df_result_1['TNBC_number_in_the_second_cluster']=df_result_1['TNBC_distribution_in_this_cluster'].apply(lambda x: x[list(x.keys())[1]])"
   ]
  },
  {
   "cell_type": "code",
   "execution_count": null,
   "id": "9ba9f4ae",
   "metadata": {},
   "outputs": [],
   "source": [
    "list_TNBC_1=df_result_1['TNBC_number_in_the_first_cluster'].tolist()\n",
    "list_TNBC_2=df_result_1['TNBC_number_in_the_second_cluster'].tolist()\n",
    "list_TNBC_all=list_TNBC_1+list_TNBC_2"
   ]
  },
  {
   "cell_type": "code",
   "execution_count": null,
   "id": "82f681ca",
   "metadata": {},
   "outputs": [],
   "source": [
    "len(df_result_1.gene.unique().tolist())"
   ]
  },
  {
   "cell_type": "code",
   "execution_count": null,
   "id": "e941a3a4",
   "metadata": {},
   "outputs": [],
   "source": [
    "df_result_1=df_result[df_result.centroid_distance_for_this_cluster>4]\n",
    "df_result_1['TNBC_distribution_in_this_cluster']=df_result_1['TNBC_distribution_in_this_cluster'].apply(lambda x: eval(x))\n",
    "df_result_1= df_result_1[~df_result_1['TNBC_distribution_in_this_cluster'].apply(lambda x: -1 in x.keys())]\n",
    "df_result_1=df_result_1[df_result_1['TNBC_distribution_in_this_cluster'].apply(lambda x: [x[key]>=8 for key  in list(x.keys())]== [True, True])]"
   ]
  },
  {
   "cell_type": "code",
   "execution_count": null,
   "id": "43bedf02",
   "metadata": {},
   "outputs": [],
   "source": [
    "df_to_plot=df_result_1.drop_duplicates('gene', keep='first')\n",
    "df_to_plot['combination']=df_to_plot.apply(lambda x: str(x['gene']) + '_' + str(x['eps']), axis=1)"
   ]
  },
  {
   "cell_type": "code",
   "execution_count": null,
   "id": "96b47ab5",
   "metadata": {},
   "outputs": [],
   "source": [
    "df_to_plot.to_csv('genes_separating_TCGA_TNBC_samples_comparing_against_BC_samples_12232022.csv')"
   ]
  },
  {
   "cell_type": "code",
   "execution_count": null,
   "id": "cca5dc29",
   "metadata": {},
   "outputs": [],
   "source": [
    "#To visualize the selected genes:\n",
    "dict_map={-1: '#808080', 0: '#FFFF00', 1: '#008000', 2: '#FF8000', 3: '#FFC0CB', 4: '#800080', 5: '#FF7F50', 6: '#A52A2A', 7: '#32CD32', 8: '#EE82EE', 9: '#FF00FF', 10: '#808000', 11: '#FF7F50', 12: '#F5DEB3', 14: '#4B0082', 15: '#000080', 16:'#DDA0DD', 17: '#800000'}\n",
    "for i in df_to_plot['combination'].tolist()[0:]:\n",
    "    #df_tmp = df_exp_tnbc[['MYC', i.split('_')[0]]]\n",
    "    #df_tmp_t = StandardScaler().fit_transform(df_tmp)\n",
    "    #db = DBSCAN(eps=float(i.split('_')[1]), min_samples=8).fit(df_tmp_t)\n",
    "    #labels = db.labels_\n",
    "    #df_tmp['labels']= labels\n",
    "    #df_tmp['alpha']=0.1\n",
    "    #df_tmp['color']=df_tmp['labels'].map(dict_map)\n",
    "    #list_labels=[i for i in df_tmp.labels.unique().tolist() if i is not -1]\n",
    "    \n",
    "    df_tmp_1=read_file_2[['MYC', i.split('_')[0]]]\n",
    "    \n",
    "    for j in df_tmp_1.index.tolist():\n",
    "        if j in list_basal:\n",
    "            df_tmp_1.loc[j, 'color']='red'\n",
    "            df_tmp_1.loc[j, 'alpha']=0.4\n",
    "        else:\n",
    "            df_tmp_1.loc[j, 'color']='gray'\n",
    "            df_tmp_1.loc[j, 'alpha']=0.1\n",
    "    fig, ax = plt.subplots()\n",
    "    ax.scatter(df_tmp_1['MYC'], df_tmp_1[i.split('_')[0]], c=df_tmp_1['color'].tolist(), alpha=df_tmp_1['alpha'].tolist())\n",
    "    plt.xlabel(\"MYC\")\n",
    "    plt.ylabel(i.split('_')[0])\n",
    "    plt.savefig('../../../Downloads/{}_vs_MYC_gene_expression_TCGA_12202022.png'.format(i.split('_')[0]), dpi=150)"
   ]
  },
  {
   "cell_type": "code",
   "execution_count": null,
   "id": "d0983490",
   "metadata": {},
   "outputs": [],
   "source": []
  }
 ],
 "metadata": {
  "kernelspec": {
   "display_name": "Python 3",
   "language": "python",
   "name": "python3"
  },
  "language_info": {
   "codemirror_mode": {
    "name": "ipython",
    "version": 3
   },
   "file_extension": ".py",
   "mimetype": "text/x-python",
   "name": "python",
   "nbconvert_exporter": "python",
   "pygments_lexer": "ipython3",
   "version": "3.8.12"
  }
 },
 "nbformat": 4,
 "nbformat_minor": 5
}
