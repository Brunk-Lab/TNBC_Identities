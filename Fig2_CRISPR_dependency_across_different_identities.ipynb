{
 "cells": [
  {
   "cell_type": "code",
   "execution_count": null,
   "id": "fc92f573",
   "metadata": {},
   "outputs": [],
   "source": [
    "import pandas as pd\n",
    "import numpy as np\n",
    "import seaborn as sns\n",
    "import pickle\n",
    "import itertools\n",
    "import random\n",
    "import scipy as sp\n",
    "from scipy import stats\n",
    "import matplotlib.pyplot as plt\n",
    "from matplotlib import interactive\n",
    "interactive(True)\n",
    "import itertools\n",
    "import sklearn.utils\n",
    "from sklearn.preprocessing import StandardScaler\n",
    "from statannot import add_stat_annotation\n",
    "from scipy.stats import ranksums\n",
    "from statsmodels.stats.multitest import multipletests"
   ]
  },
  {
   "cell_type": "code",
   "execution_count": null,
   "id": "4751d0e8",
   "metadata": {},
   "outputs": [],
   "source": [
    "df_crispr=pd.read_csv(\"/Volumes/SSD_Yue/DepMap_Downloads/CRISPR_gene_effect_22Q2.csv\")\n",
    "df_crispr.index=df_crispr.iloc[:, 0]\n",
    "df_crispr.drop('DepMap_ID', axis=1, inplace=True)\n",
    "df_crispr.columns=[i.split(' (')[0] for i in df_crispr.columns]"
   ]
  },
  {
   "cell_type": "code",
   "execution_count": null,
   "id": "23b70d50",
   "metadata": {},
   "outputs": [],
   "source": [
    "h=pd.read_csv(\"/Volumes/SSD_Yue/NMF_Onco_gps_results/NMF_using_524_genes_selected_using_pan_cancer_cell_lines_including_MYC_on_30_updated_TNBC_cell_lines_normalized_for_samples_12222022/7/h.tsv\", sep='\\t', index_col=0)\n",
    "w=pd.read_csv(\"/Volumes/SSD_Yue/NMF_Onco_gps_results/NMF_using_524_genes_selected_using_pan_cancer_cell_lines_including_MYC_on_30_updated_TNBC_cell_lines_normalized_for_samples_12222022/7/w.tsv\", sep='\\t', index_col=0)"
   ]
  },
  {
   "cell_type": "code",
   "execution_count": null,
   "id": "ad410eec",
   "metadata": {},
   "outputs": [],
   "source": [
    "cell_lines_order = ['ACH-000691', 'ACH-000196', 'ACH-000111', 'ACH-000276', 'ACH-000721', 'ACH-000148', 'ACH-001389', 'ACH-000621', 'ACH-000288', 'ACH-000573', 'ACH-000699', 'ACH-001391',\n",
    "                   'ACH-001392', 'ACH-001819', 'ACH-000910', 'ACH-000374', 'ACH-001388', 'ACH-001390', 'ACH-001394',\n",
    "                   'ACH-000643', 'ACH-000624', 'ACH-000857', 'ACH-000223', 'ACH-000668', 'ACH-000258',\n",
    "                   'ACH-000856', 'ACH-000212', 'ACH-000768', 'ACH-000849', 'ACH-000536']"
   ]
  },
  {
   "cell_type": "code",
   "execution_count": null,
   "id": "24ca2529",
   "metadata": {},
   "outputs": [],
   "source": [
    "df1=h.apply(lambda x: x.argmax(), axis=0).to_frame()\n",
    "df1.columns=['state']\n",
    "df1['state']=df1['state'].astype(str)\n",
    "df1['states']= df1['state'].map({'0': 'F0', '1': 'F1', '2': 'F2', '3': 'F3', '4': 'F4', '5': 'F5', '6': 'F6', '7': 'F7', '8': 'F8'})\n",
    "dict_cell_lines={}\n",
    "for i in w.columns.tolist():\n",
    "    dict_cell_lines[i]=df1[df1.states==i].index.tolist()"
   ]
  },
  {
   "cell_type": "code",
   "execution_count": null,
   "id": "683506e7",
   "metadata": {},
   "outputs": [],
   "source": [
    "df_crispr_tnbc = df_crispr.loc[df_crispr.index.isin(cell_lines_order),]"
   ]
  },
  {
   "cell_type": "code",
   "execution_count": null,
   "id": "fcff79f4",
   "metadata": {},
   "outputs": [],
   "source": [
    "list_group=[]\n",
    "for i in df_crispr_tnbc.index.tolist():\n",
    "    if i in dict_cell_lines['F0']:\n",
    "        list_group.append('F0')\n",
    "    else:\n",
    "        list_group.append('other groups')\n",
    "df_crispr_tnbc['group']=list_group"
   ]
  },
  {
   "cell_type": "code",
   "execution_count": null,
   "id": "e70ae6a9",
   "metadata": {},
   "outputs": [],
   "source": [
    "F0_results = []\n",
    "\n",
    "# Loop through each test (column) and perform the Wilcoxon rank-sum test\n",
    "for i in [\"RBPJ\", \"MIB1\"]:\n",
    "    stat, p_val = ranksums(df_crispr_tnbc.loc[df_crispr_tnbc.group == \"F0\", i], df_crispr_tnbc.loc[df_crispr_tnbc.group == \"other groups\", i], alternative=\"less\")\n",
    "    # Append results as a dictionary\n",
    "    F0_results.append({'State': \"F0\",'Gene': i, 'P-Value': p_val, 'Statistic': stat})\n",
    "F0_results_df = pd.DataFrame(F0_results)\n",
    "reject, corrected_p_values, _, _ = multipletests(F0_results_df['P-Value'].tolist(), alpha=0.05, method='fdr_bh')\n",
    "F0_results_df['p_val_adj']=corrected_p_values.tolist()"
   ]
  },
  {
   "cell_type": "code",
   "execution_count": null,
   "id": "fd7ada58",
   "metadata": {},
   "outputs": [],
   "source": [
    "F0_results_df"
   ]
  },
  {
   "cell_type": "code",
   "execution_count": null,
   "id": "8cd9abf5",
   "metadata": {},
   "outputs": [],
   "source": [
    "df_tmpt_all = pd.DataFrame(columns=['Value', 'Gene', 'Group'])\n",
    "for i in [\"RBPJ\", \"MIB1\"]:\n",
    "    plt.figure()\n",
    "    plt.figure(figsize=(8, 6))\n",
    "\n",
    "    df_tmpt = df_crispr_tnbc[[i]]\n",
    "    df_tmpt['Gene']=i\n",
    "    #df_tmpt = df_tmpt.replace([np.inf, -np.inf], np.nan).dropna()\n",
    "    df_tmpt['flag'] = df_tmpt.index.isin([\"ACH-000691\", \"ACH-000196\", \"ACH-000276\", \"ACH-000111\"]).astype(int)\n",
    "    df_tmpt.columns= [\"Value\", \"Gene\", \"Group\"]\n",
    "    df_tmpt_all = df_tmpt_all.append(df_tmpt, ignore_index=True)\n",
    "    #x= df_tmpt.iloc[:,0]\n",
    "    #y= df_tmpt.iloc[:,1]\n",
    "sns.boxplot(data=df_tmpt_all, x='Gene', y='Value', hue='Group')\n",
    "    #plt.scatter(x, y, color='blue', marker='o')\n",
    "    #slope, intercept, r_value, p_value, std_err = stats.linregress(x, y)\n",
    "\n",
    "# Generate predicted y-values for the regression line\n",
    "    #regression_line = slope * x + intercept\n",
    "\n",
    "# Plot regression line\n",
    "    #plt.plot(x, regression_line, color='red', label=\"Regression Line\")\n",
    "plt.title('F0 essential genes')\n",
    "plt.xlabel('Gene')\n",
    "plt.ylabel('CRISPR score')\n",
    "plt.grid(False)\n",
    "#plt.savefig(\"/Volumes/SSD_Yue/TNBC_paper_Fig2_10252024/F0_CRISPR_essential_genes_MIB1_11032024.svg\", format=\"svg\")"
   ]
  },
  {
   "cell_type": "code",
   "execution_count": null,
   "id": "bf2d7cab",
   "metadata": {},
   "outputs": [],
   "source": [
    "list_group=[]\n",
    "for i in df_crispr_tnbc.index.tolist():\n",
    "    if i in dict_cell_lines['F1']:\n",
    "        list_group.append('F1')\n",
    "    else:\n",
    "        list_group.append('other groups')\n",
    "df_crispr_tnbc['group']=list_group"
   ]
  },
  {
   "cell_type": "code",
   "execution_count": null,
   "id": "5ace9375",
   "metadata": {},
   "outputs": [],
   "source": [
    "F1_results = []\n",
    "\n",
    "# Loop through each test (column) and perform the Wilcoxon rank-sum test\n",
    "for i in [\"CDH2\", \"ITGAV\"]:\n",
    "    stat, p_val = ranksums(df_crispr_tnbc.loc[df_crispr_tnbc.group == \"F1\", i], df_crispr_tnbc.loc[df_crispr_tnbc.group == \"other groups\", i], alternative=\"less\")\n",
    "    # Append results as a dictionary\n",
    "    F1_results.append({'State': \"F1\",'Gene': i, 'P-Value': p_val, 'Statistic': stat})\n",
    "F1_results_df = pd.DataFrame(F1_results)\n",
    "reject, corrected_p_values, _, _ = multipletests(F1_results_df['P-Value'].tolist(), alpha=0.05, method='fdr_bh')\n",
    "F1_results_df['p_val_adj']=corrected_p_values.tolist()"
   ]
  },
  {
   "cell_type": "code",
   "execution_count": null,
   "id": "a55d28e6",
   "metadata": {},
   "outputs": [],
   "source": [
    "F1_results_df"
   ]
  },
  {
   "cell_type": "code",
   "execution_count": null,
   "id": "60ced9b8",
   "metadata": {},
   "outputs": [],
   "source": [
    "df_tmpt_all = pd.DataFrame(columns=['Value', 'Gene', 'Group'])\n",
    "for i in [\"CDH2\", \"ITGAV\"]:\n",
    "    plt.figure()\n",
    "    plt.figure(figsize=(8, 6))\n",
    "\n",
    "    df_tmpt = df_crispr_tnbc[[i]]\n",
    "    df_tmpt['Gene']=i\n",
    "    #df_tmpt = df_tmpt.replace([np.inf, -np.inf], np.nan).dropna()\n",
    "    df_tmpt['flag'] = df_tmpt.index.isin([\"ACH-000721\", \"ACH-000148\", \"ACH-001389\", \"ACH-000621\", \"ACH-000288\", \"ACH-000573\", \"ACH-000699\", \"ACH-001391\"]).astype(int)\n",
    "    df_tmpt.columns= [\"Value\", \"Gene\", \"Group\"]\n",
    "    df_tmpt_all = df_tmpt_all.append(df_tmpt, ignore_index=True)\n",
    "    #x= df_tmpt.iloc[:,0]\n",
    "    #y= df_tmpt.iloc[:,1]\n",
    "sns.boxplot(data=df_tmpt_all, x='Gene', y='Value', hue='Group')\n",
    "    #plt.scatter(x, y, color='blue', marker='o')\n",
    "    #slope, intercept, r_value, p_value, std_err = stats.linregress(x, y)\n",
    "\n",
    "# Generate predicted y-values for the regression line\n",
    "    #regression_line = slope * x + intercept\n",
    "\n",
    "# Plot regression line\n",
    "    #plt.plot(x, regression_line, color='red', label=\"Regression Line\")\n",
    "plt.title('F1 essential genes')\n",
    "plt.xlabel('Gene')\n",
    "plt.ylabel('CRISPR score')\n",
    "plt.grid(False)\n",
    "#plt.savefig(\"/Volumes/SSD_Yue/TNBC_paper_Fig2_10252024/F1_CRISPR_essential_genes_10252024.svg\", format=\"svg\")"
   ]
  },
  {
   "cell_type": "code",
   "execution_count": null,
   "id": "7f61c17a",
   "metadata": {},
   "outputs": [],
   "source": [
    "list_group=[]\n",
    "for i in df_crispr_tnbc.index.tolist():\n",
    "    if i in dict_cell_lines['F2']:\n",
    "        list_group.append('F2')\n",
    "    else:\n",
    "        list_group.append('other groups')\n",
    "df_crispr_tnbc['group']=list_group"
   ]
  },
  {
   "cell_type": "code",
   "execution_count": null,
   "id": "b24e77aa",
   "metadata": {},
   "outputs": [],
   "source": [
    "F2_results = []\n",
    "\n",
    "# Loop through each test (column) and perform the Wilcoxon rank-sum test\n",
    "for i in [\"FOXA1\", \"GATA3\", \"PIK3CA\"]:\n",
    "    stat, p_val = ranksums(df_crispr_tnbc.loc[df_crispr_tnbc.group == \"F2\", i], df_crispr_tnbc.loc[df_crispr_tnbc.group == \"other groups\", i], alternative=\"less\")\n",
    "    # Append results as a dictionary\n",
    "    F2_results.append({'State': \"F2\",'Gene': i, 'P-Value': p_val, 'Statistic': stat})\n",
    "F2_results_df = pd.DataFrame(F2_results)\n",
    "reject, corrected_p_values, _, _ = multipletests(F2_results_df['P-Value'].tolist(), alpha=0.05, method='fdr_bh')\n",
    "F2_results_df['p_val_adj']=corrected_p_values.tolist()"
   ]
  },
  {
   "cell_type": "code",
   "execution_count": null,
   "id": "34071e77",
   "metadata": {},
   "outputs": [],
   "source": [
    "F2_results_df"
   ]
  },
  {
   "cell_type": "code",
   "execution_count": null,
   "id": "bdc016d0",
   "metadata": {},
   "outputs": [],
   "source": [
    "df_tmpt_all = pd.DataFrame(columns=['Value', 'Gene', 'Group'])\n",
    "for i in [\"PIK3CA\",\"FOXA1\", \"GATA3\"]:\n",
    "    plt.figure()\n",
    "    plt.figure(figsize=(8, 6))\n",
    "\n",
    "    df_tmpt = df_crispr_tnbc[[i]]\n",
    "    df_tmpt['Gene']=i\n",
    "    #df_tmpt = df_tmpt.replace([np.inf, -np.inf], np.nan).dropna()\n",
    "    df_tmpt['flag'] = df_tmpt.index.isin([\"ACH-001932\", \"ACH-001819\", \"ACH-000910\"]).astype(int)\n",
    "    df_tmpt.columns= [\"Value\", \"Gene\", \"Group\"]\n",
    "    df_tmpt_all = df_tmpt_all.append(df_tmpt, ignore_index=True)\n",
    "    #x= df_tmpt.iloc[:,0]\n",
    "    #y= df_tmpt.iloc[:,1]\n",
    "sns.boxplot(data=df_tmpt_all, x='Gene', y='Value', hue='Group')\n",
    "    #plt.scatter(x, y, color='blue', marker='o')\n",
    "    #slope, intercept, r_value, p_value, std_err = stats.linregress(x, y)\n",
    "\n",
    "# Generate predicted y-values for the regression line\n",
    "    #regression_line = slope * x + intercept\n",
    "\n",
    "# Plot regression line\n",
    "    #plt.plot(x, regression_line, color='red', label=\"Regression Line\")\n",
    "plt.title('F2 essential genes')\n",
    "plt.xlabel('Gene')\n",
    "plt.ylabel('CRISPR score')\n",
    "plt.grid(False)\n",
    "#plt.savefig(\"/Volumes/SSD_Yue/TNBC_paper_Fig2_10252024/F2_CRISPR_essential_genes_10252024.svg\", format=\"svg\")"
   ]
  },
  {
   "cell_type": "code",
   "execution_count": null,
   "id": "a38e111d",
   "metadata": {},
   "outputs": [],
   "source": [
    "list_group=[]\n",
    "for i in df_crispr_tnbc.index.tolist():\n",
    "    if i in dict_cell_lines['F3']:\n",
    "        list_group.append('F3')\n",
    "    else:\n",
    "        list_group.append('other groups')\n",
    "df_crispr_tnbc['group']=list_group"
   ]
  },
  {
   "cell_type": "code",
   "execution_count": null,
   "id": "b7dd9b68",
   "metadata": {},
   "outputs": [],
   "source": [
    "F3_results = []\n",
    "\n",
    "# Loop through each test (column) and perform the Wilcoxon rank-sum test\n",
    "for i in [\"EGFR\", \"TSG101\", \"TRAF2\"]:\n",
    "    stat, p_val = ranksums(df_crispr_tnbc.loc[df_crispr_tnbc.group == \"F3\", i], df_crispr_tnbc.loc[df_crispr_tnbc.group == \"other groups\", i], alternative=\"less\")\n",
    "    # Append results as a dictionary\n",
    "    F3_results.append({'State': \"F3\",'Gene': i, 'P-Value': p_val, 'Statistic': stat})\n",
    "F3_results_df = pd.DataFrame(F3_results)\n",
    "reject, corrected_p_values, _, _ = multipletests(F3_results_df['P-Value'].tolist(), alpha=0.05, method='fdr_bh')\n",
    "F3_results_df['p_val_adj']=corrected_p_values.tolist()"
   ]
  },
  {
   "cell_type": "code",
   "execution_count": null,
   "id": "d9761c28",
   "metadata": {},
   "outputs": [],
   "source": [
    "F3_results_df"
   ]
  },
  {
   "cell_type": "code",
   "execution_count": null,
   "id": "bd18d3e1",
   "metadata": {},
   "outputs": [],
   "source": [
    "df_tmpt_all = pd.DataFrame(columns=['Value', 'Gene', 'Group'])\n",
    "for i in [\"EGFR\", \"TSG101\", \"TRAF2\"]:\n",
    "    plt.figure()\n",
    "    plt.figure(figsize=(8, 6))\n",
    "\n",
    "    df_tmpt = df_crispr_tnbc[[i]]\n",
    "    df_tmpt['Gene']=i\n",
    "    #df_tmpt = df_tmpt.replace([np.inf, -np.inf], np.nan).dropna()\n",
    "    df_tmpt['flag'] = df_tmpt.index.isin([\"ACH-000374\", \"ACH-001388\", \"ACH-001390\", \"ACH-001394\", \"ACH-000643\",\"ACH-000624\", \"ACH-000857\", \"ACH-000223\", \"ACH-000668\"]).astype(int)\n",
    "    df_tmpt.columns= [\"Value\", \"Gene\", \"Group\"]\n",
    "    df_tmpt_all = df_tmpt_all.append(df_tmpt, ignore_index=True)\n",
    "    #x= df_tmpt.iloc[:,0]\n",
    "    #y= df_tmpt.iloc[:,1]\n",
    "sns.boxplot(data=df_tmpt_all, x='Gene', y='Value', hue='Group')\n",
    "    #plt.scatter(x, y, color='blue', marker='o')\n",
    "    #slope, intercept, r_value, p_value, std_err = stats.linregress(x, y)\n",
    "\n",
    "# Generate predicted y-values for the regression line\n",
    "    #regression_line = slope * x + intercept\n",
    "\n",
    "# Plot regression line\n",
    "    #plt.plot(x, regression_line, color='red', label=\"Regression Line\")\n",
    "plt.title('F3 essential genes')\n",
    "plt.xlabel('Gene')\n",
    "plt.ylabel('CRISPR score')\n",
    "plt.grid(False)\n",
    "#plt.savefig(\"/Volumes/SSD_Yue/TNBC_paper_Fig2_10252024/F3_CRISPR_essential_genes_10252024.svg\", format=\"svg\")"
   ]
  },
  {
   "cell_type": "code",
   "execution_count": null,
   "id": "6597374c",
   "metadata": {},
   "outputs": [],
   "source": [
    "list_group=[]\n",
    "for i in df_crispr_tnbc.index.tolist():\n",
    "    if i in dict_cell_lines['F5']:\n",
    "        list_group.append('F5')\n",
    "    else:\n",
    "        list_group.append('other groups')\n",
    "df_crispr_tnbc['group']=list_group"
   ]
  },
  {
   "cell_type": "code",
   "execution_count": null,
   "id": "72701f07",
   "metadata": {},
   "outputs": [],
   "source": [
    "F5_results = []\n",
    "\n",
    "# Loop through each test (column) and perform the Wilcoxon rank-sum test\n",
    "for i in [\"PPAT\", \"PAICS\", \"ATIC\"]:\n",
    "    stat, p_val = ranksums(df_crispr_tnbc.loc[df_crispr_tnbc.group == \"F5\", i], df_crispr_tnbc.loc[df_crispr_tnbc.group == \"other groups\", i], alternative=\"less\")\n",
    "    # Append results as a dictionary\n",
    "    F5_results.append({'State': \"F5\",'Gene': i, 'P-Value': p_val, 'Statistic': stat})\n",
    "F5_results_df = pd.DataFrame(F5_results)\n",
    "reject, corrected_p_values, _, _ = multipletests(F5_results_df['P-Value'].tolist(), alpha=0.05, method='fdr_bh')\n",
    "F5_results_df['p_val_adj']=corrected_p_values.tolist()"
   ]
  },
  {
   "cell_type": "code",
   "execution_count": null,
   "id": "f8dad78c",
   "metadata": {},
   "outputs": [],
   "source": [
    "F5_results_df"
   ]
  },
  {
   "cell_type": "code",
   "execution_count": null,
   "id": "35127d2b",
   "metadata": {},
   "outputs": [],
   "source": [
    "df_tmpt_all = pd.DataFrame(columns=['Value', 'Gene', 'Group'])\n",
    "for i in [\"PPAT\", \"PAICS\", \"ATIC\"]:\n",
    "    plt.figure()\n",
    "    plt.figure(figsize=(8, 6))\n",
    "\n",
    "    df_tmpt = df_crispr_tnbc[[i]]\n",
    "    df_tmpt['Gene']=i\n",
    "    #df_tmpt = df_tmpt.replace([np.inf, -np.inf], np.nan).dropna()\n",
    "    df_tmpt['flag'] = df_tmpt.index.isin([\"ACH-000856\", \"ACH-000212\", \"ACH-000768\"]).astype(int)\n",
    "    df_tmpt.columns= [\"Value\", \"Gene\", \"Group\"]\n",
    "    df_tmpt_all = df_tmpt_all.append(df_tmpt, ignore_index=True)\n",
    "    #x= df_tmpt.iloc[:,0]\n",
    "    #y= df_tmpt.iloc[:,1]\n",
    "sns.boxplot(data=df_tmpt_all, x='Gene', y='Value', hue='Group')\n",
    "    #plt.scatter(x, y, color='blue', marker='o')\n",
    "    #slope, intercept, r_value, p_value, std_err = stats.linregress(x, y)\n",
    "\n",
    "# Generate predicted y-values for the regression line\n",
    "    #regression_line = slope * x + intercept\n",
    "\n",
    "# Plot regression line\n",
    "    #plt.plot(x, regression_line, color='red', label=\"Regression Line\")\n",
    "plt.title('F5 essential genes')\n",
    "plt.xlabel('Gene')\n",
    "plt.ylabel('CRISPR score')\n",
    "plt.grid(False)\n",
    "#plt.savefig(\"/Volumes/SSD_Yue/TNBC_paper_Fig2_10252024/F5_CRISPR_essential_genes_10252024.svg\", format=\"svg\")"
   ]
  }
 ],
 "metadata": {
  "kernelspec": {
   "display_name": "Python 3",
   "language": "python",
   "name": "python3"
  },
  "language_info": {
   "codemirror_mode": {
    "name": "ipython",
    "version": 3
   },
   "file_extension": ".py",
   "mimetype": "text/x-python",
   "name": "python",
   "nbconvert_exporter": "python",
   "pygments_lexer": "ipython3",
   "version": "3.8.12"
  }
 },
 "nbformat": 4,
 "nbformat_minor": 5
}
