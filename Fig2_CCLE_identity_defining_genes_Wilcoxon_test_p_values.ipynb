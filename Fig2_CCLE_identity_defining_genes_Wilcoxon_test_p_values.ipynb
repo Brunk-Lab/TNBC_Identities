{
 "cells": [
  {
   "cell_type": "code",
   "execution_count": null,
   "id": "9c70a888",
   "metadata": {},
   "outputs": [],
   "source": [
    "import pandas as pd\n",
    "import numpy as np\n",
    "import seaborn as sns\n",
    "import pickle\n",
    "import itertools\n",
    "import random\n",
    "import scipy as sp\n",
    "from scipy import stats"
   ]
  },
  {
   "cell_type": "code",
   "execution_count": null,
   "id": "2cb4510b",
   "metadata": {},
   "outputs": [],
   "source": [
    "import matplotlib.pyplot as plt\n",
    "from matplotlib import interactive\n",
    "interactive(True)\n",
    "import itertools\n",
    "from sklearn.metrics import silhouette_score\n",
    "from sklearn.cluster import DBSCAN\n",
    "import sklearn.utils\n",
    "from sklearn.preprocessing import StandardScaler\n",
    "from statannot import add_stat_annotation\n",
    "from scipy.stats import ranksums\n",
    "from statsmodels.stats.multitest import multipletests"
   ]
  },
  {
   "cell_type": "code",
   "execution_count": null,
   "id": "12c63eb4",
   "metadata": {},
   "outputs": [],
   "source": [
    "df_exp=pd.read_csv('../../../Downloads/CCLE_expression_22Q2.csv', index_col=0)\n",
    "df_exp.columns=[i.split(' (')[0] for i in df_exp.columns]\n",
    "df_tnbc_info=pd.read_csv('./updated_TNBC_list_12032022.csv')\n",
    "df_exp_tnbc=df_exp[df_exp.index.isin(df_tnbc_info.DepMap_ID)]"
   ]
  },
  {
   "cell_type": "code",
   "execution_count": null,
   "id": "2140d836",
   "metadata": {},
   "outputs": [],
   "source": [
    "w=pd.read_csv(\"/Volumes/SSD_Yue/NMF_Onco_gps_results/NMF_using_524_genes_selected_using_pan_cancer_cell_lines_including_MYC_on_30_updated_TNBC_cell_lines_normalized_for_samples_12222022/7/w.tsv\", sep='\\t', index_col=0)\n",
    "h=pd.read_csv(\"/Volumes/SSD_Yue/NMF_Onco_gps_results/NMF_using_524_genes_selected_using_pan_cancer_cell_lines_including_MYC_on_30_updated_TNBC_cell_lines_normalized_for_samples_12222022/7/h.tsv\", sep='\\t', index_col=0)\n",
    "df1=h.apply(lambda x: x.argmax(), axis=0).to_frame()\n",
    "df1.columns=['state']\n",
    "df1['state']=df1['state'].astype(str)\n",
    "df1['states']= df1['state'].map({'0': 'F0', '1': 'F1', '2': 'F2', '3': 'F3', '4': 'F4', '5': 'F5', '6': 'F6', '7': 'F7', '8': 'F8'})\n",
    "dict_cell_lines={}\n",
    "for i in w.columns.tolist():\n",
    "    dict_cell_lines[i]=df1[df1.states==i].index.tolist()"
   ]
  },
  {
   "cell_type": "code",
   "execution_count": null,
   "id": "cd0a469b",
   "metadata": {
    "scrolled": true
   },
   "outputs": [],
   "source": [
    "list_group=[]\n",
    "for i in df_exp_tnbc.index.tolist():\n",
    "    if i in dict_cell_lines['F0']:\n",
    "        list_group.append('F0')\n",
    "    else:\n",
    "        list_group.append('other groups')\n",
    "df_exp_tnbc['group']=list_group"
   ]
  },
  {
   "cell_type": "code",
   "execution_count": null,
   "id": "f860199d",
   "metadata": {},
   "outputs": [],
   "source": [
    "F0_results = []\n",
    "\n",
    "# Loop through each test (column) and perform the Wilcoxon rank-sum test\n",
    "for i in [\"ELF3\",\"GRHL2\",\"CLDN4\", \"DSP\", \"CGN\", \"DSC2\",\"ALDH1A3\", \"NOTCH1\",\"NOTCH2\", \"NOTCH3\", \"HES4\", \"HEY2\", \"JAG2\"]:\n",
    "    stat, p_val = ranksums(df_exp_tnbc.loc[df_exp_tnbc.group == \"F0\", i], df_exp_tnbc.loc[df_exp_tnbc.group == \"other groups\", i], alternative=\"greater\")\n",
    "    # Append results as a dictionary\n",
    "    F0_results.append({'State': \"F0\",'Gene': i, 'P-Value': p_val, 'Statistic': stat})\n",
    "F0_results_df = pd.DataFrame(F0_results)\n",
    "reject, corrected_p_values, _, _ = multipletests(F0_results_df['P-Value'].tolist(), alpha=0.05, method='fdr_bh')\n",
    "F0_results_df['p_val_adj']=corrected_p_values.tolist()"
   ]
  },
  {
   "cell_type": "code",
   "execution_count": null,
   "id": "46510969",
   "metadata": {},
   "outputs": [],
   "source": [
    "list_group=[]\n",
    "for i in df_exp_tnbc.index.tolist():\n",
    "    if i in dict_cell_lines['F1']:\n",
    "        list_group.append('F1')\n",
    "    else:\n",
    "        list_group.append('other groups')\n",
    "df_exp_tnbc['group']=list_group"
   ]
  },
  {
   "cell_type": "code",
   "execution_count": null,
   "id": "59be8135",
   "metadata": {},
   "outputs": [],
   "source": [
    "F1_results = []\n",
    "\n",
    "# Loop through each test (column) and perform the Wilcoxon rank-sum test\n",
    "for i in [\"VIM\",\"TGFBI\", \"SNAI2\", \"MMP2\", \"FN1\", \"CDH2\", \"PGAM1\", \"ENO1\", \"LDHA\", \"PKM\",\"GSTP1\",\"LDHB\",\"HK1\",\"MYC\"]:\n",
    "    stat, p_val = ranksums(df_exp_tnbc.loc[df_exp_tnbc.group == \"F1\", i], df_exp_tnbc.loc[df_exp_tnbc.group == \"other groups\", i], alternative=\"greater\")\n",
    "    # Append results as a dictionary\n",
    "    F1_results.append({'State': \"F1\",'Gene': i, 'P-Value': p_val, 'Statistic': stat})\n",
    "F1_results_df = pd.DataFrame(F1_results)\n",
    "reject, corrected_p_values, _, _ = multipletests(F1_results_df['P-Value'].tolist(), alpha=0.05, method='fdr_bh')\n",
    "F1_results_df['p_val_adj']=corrected_p_values.tolist()"
   ]
  },
  {
   "cell_type": "code",
   "execution_count": null,
   "id": "9f7774ee",
   "metadata": {},
   "outputs": [],
   "source": [
    "list_group=[]\n",
    "for i in df_exp_tnbc.index.tolist():\n",
    "    if i in dict_cell_lines['F2']:\n",
    "        list_group.append('F2')\n",
    "    else:\n",
    "        list_group.append('other groups')\n",
    "df_exp_tnbc['group']=list_group"
   ]
  },
  {
   "cell_type": "code",
   "execution_count": null,
   "id": "443909c5",
   "metadata": {},
   "outputs": [],
   "source": [
    "F2_results = []\n",
    "\n",
    "# Loop through each test (column) and perform the Wilcoxon rank-sum test\n",
    "for i in [\"NRG3\", \"ERBB3\", \"TSPAN1\", \"FGFR4\",\"CD24\",\"KRT19\"]:\n",
    "    stat, p_val = ranksums(df_exp_tnbc.loc[df_exp_tnbc.group == \"F2\", i], df_exp_tnbc.loc[df_exp_tnbc.group == \"other groups\", i], alternative=\"greater\")\n",
    "    # Append results as a dictionary\n",
    "    F2_results.append({'State': \"F2\",'Gene': i, 'P-Value': p_val, 'Statistic': stat})\n",
    "F2_results_df = pd.DataFrame(F2_results)\n",
    "reject, corrected_p_values, _, _ = multipletests(F2_results_df['P-Value'].tolist(), alpha=0.05, method='fdr_bh')\n",
    "F2_results_df['p_val_adj']=corrected_p_values.tolist()"
   ]
  },
  {
   "cell_type": "code",
   "execution_count": null,
   "id": "4c09bbe1",
   "metadata": {},
   "outputs": [],
   "source": [
    "list_group=[]\n",
    "for i in df_exp_tnbc.index.tolist():\n",
    "    if i in dict_cell_lines['F3']:\n",
    "        list_group.append('F3')\n",
    "    else:\n",
    "        list_group.append('other groups')\n",
    "df_exp_tnbc['group']=list_group"
   ]
  },
  {
   "cell_type": "code",
   "execution_count": null,
   "id": "7b533be4",
   "metadata": {},
   "outputs": [],
   "source": [
    "F3_results = []\n",
    "\n",
    "# Loop through each test (column) and perform the Wilcoxon rank-sum test\n",
    "for i in [\"AREG\", \"TGFA\", \"BTC\", \"EPGN\", \"EFEMP1\", \"TNS4\",\"GPR87\", \"IL18\", \"TNFAIP2\", \"TNF\"]:\n",
    "    stat, p_val = ranksums(df_exp_tnbc.loc[df_exp_tnbc.group == \"F3\", i], df_exp_tnbc.loc[df_exp_tnbc.group == \"other groups\", i], alternative=\"greater\")\n",
    "    # Append results as a dictionary\n",
    "    F3_results.append({'State': \"F3\",'Gene': i, 'P-Value': p_val, 'Statistic': stat})\n",
    "F3_results_df = pd.DataFrame(F3_results)\n",
    "reject, corrected_p_values, _, _ = multipletests(F3_results_df['P-Value'].tolist(), alpha=0.05, method='fdr_bh')\n",
    "F3_results_df['p_val_adj']=corrected_p_values.tolist()"
   ]
  },
  {
   "cell_type": "code",
   "execution_count": null,
   "id": "2bc568c4",
   "metadata": {},
   "outputs": [],
   "source": [
    "list_group=[]\n",
    "for i in df_exp_tnbc.index.tolist():\n",
    "    if i in dict_cell_lines['F5']:\n",
    "        list_group.append('F5')\n",
    "    else:\n",
    "        list_group.append('other groups')\n",
    "df_exp_tnbc['group']=list_group"
   ]
  },
  {
   "cell_type": "code",
   "execution_count": null,
   "id": "512f2f51",
   "metadata": {},
   "outputs": [],
   "source": [
    "F5_results = []\n",
    "\n",
    "# Loop through each test (column) and perform the Wilcoxon rank-sum test\n",
    "for i in [\"SLFN12\", \"ZNF185\", \"ERCC2\"]:\n",
    "    stat, p_val = ranksums(df_exp_tnbc.loc[df_exp_tnbc.group == \"F5\", i], df_exp_tnbc.loc[df_exp_tnbc.group == \"other groups\", i], alternative=\"greater\")\n",
    "    # Append results as a dictionary\n",
    "    F5_results.append({'State': \"F5\",'Gene': i, 'P-Value': p_val, 'Statistic': stat})\n",
    "F5_results_df = pd.DataFrame(F5_results)\n",
    "reject, corrected_p_values, _, _ = multipletests(F5_results_df['P-Value'].tolist(), alpha=0.05, method='fdr_bh')\n",
    "F5_results_df['p_val_adj']=corrected_p_values.tolist()"
   ]
  },
  {
   "cell_type": "code",
   "execution_count": null,
   "id": "8fc1363b",
   "metadata": {},
   "outputs": [],
   "source": [
    "list_group=[]\n",
    "for i in df_exp_tnbc.index.tolist():\n",
    "    if i in dict_cell_lines['F6']:\n",
    "        list_group.append('F6')\n",
    "    else:\n",
    "        list_group.append('other groups')\n",
    "df_exp_tnbc['group']=list_group"
   ]
  },
  {
   "cell_type": "code",
   "execution_count": null,
   "id": "0371ac97",
   "metadata": {},
   "outputs": [],
   "source": [
    "#we don't really put F6 in the main figure\n",
    "F6_results = []\n",
    "# Loop through each test (column) and perform the Wilcoxon rank-sum test\n",
    "for i in [\"MAGEA2\", \"MAGEA2B\", \"MAGEA3\", \"MAGEA6\", \"MAGEA12\"]:\n",
    "    stat, p_val = ranksums(df_exp_tnbc.loc[df_exp_tnbc.group == \"F6\", i], df_exp_tnbc.loc[df_exp_tnbc.group == \"other groups\", i], alternative=\"greater\")\n",
    "    # Append results as a dictionary\n",
    "    F6_results.append({'State': \"F6\",'Gene': i, 'P-Value': p_val, 'Statistic': stat})\n",
    "F6_results_df = pd.DataFrame(F6_results)\n",
    "reject, corrected_p_values, _, _ = multipletests(F6_results_df['P-Value'].tolist(), alpha=0.05, method='fdr_bh')\n",
    "F6_results_df['p_val_adj']=corrected_p_values.tolist()"
   ]
  },
  {
   "cell_type": "code",
   "execution_count": null,
   "id": "d5453a36",
   "metadata": {},
   "outputs": [],
   "source": [
    "results_df = pd.concat([F0_results_df, F1_results_df, F2_results_df, F3_results_df, F5_results_df,F6_results_df])"
   ]
  },
  {
   "cell_type": "code",
   "execution_count": null,
   "id": "92d93f7f",
   "metadata": {},
   "outputs": [],
   "source": [
    "results_df['p_val_adj_log'] = -np.log(results_df['p_val_adj'])"
   ]
  },
  {
   "cell_type": "code",
   "execution_count": null,
   "id": "1611e461",
   "metadata": {},
   "outputs": [],
   "source": [
    "results_df"
   ]
  },
  {
   "cell_type": "code",
   "execution_count": null,
   "id": "22c2b465",
   "metadata": {},
   "outputs": [],
   "source": [
    "-np.log(0.05)"
   ]
  },
  {
   "cell_type": "code",
   "execution_count": null,
   "id": "a9799535",
   "metadata": {},
   "outputs": [],
   "source": [
    "heatmap_data = results_df[['p_val_adj_log']]"
   ]
  },
  {
   "cell_type": "code",
   "execution_count": null,
   "id": "e9ed86ae",
   "metadata": {},
   "outputs": [],
   "source": [
    "heatmap_data.index=results_df.Gene"
   ]
  },
  {
   "cell_type": "code",
   "execution_count": null,
   "id": "e11f0e9b",
   "metadata": {},
   "outputs": [],
   "source": [
    "heatmap_data.shape"
   ]
  },
  {
   "cell_type": "code",
   "execution_count": null,
   "id": "119a0be7",
   "metadata": {},
   "outputs": [],
   "source": [
    "plt.figure(figsize=(1, 20))\n",
    "#To make the heatmap centered at p_val_adj=0.05. -np.log(0.05)= 2.995732273553991\n",
    "sns.heatmap(heatmap_data, annot=False,cmap='bwr', cbar=True, center=2.995732273553991)\n",
    "plt.savefig('/Volumes/SSD_Yue/TNBC_paper_Fig2_10252024/CCLE_salient_gene_adj_pval_heatmap_12102024.svg')"
   ]
  }
 ],
 "metadata": {
  "kernelspec": {
   "display_name": "Python 3",
   "language": "python",
   "name": "python3"
  },
  "language_info": {
   "codemirror_mode": {
    "name": "ipython",
    "version": 3
   },
   "file_extension": ".py",
   "mimetype": "text/x-python",
   "name": "python",
   "nbconvert_exporter": "python",
   "pygments_lexer": "ipython3",
   "version": "3.8.12"
  }
 },
 "nbformat": 4,
 "nbformat_minor": 5
}
