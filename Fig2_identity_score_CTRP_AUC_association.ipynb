{
 "cells": [
  {
   "cell_type": "code",
   "execution_count": null,
   "id": "496e110b",
   "metadata": {},
   "outputs": [],
   "source": [
    "import pandas as pd\n",
    "import numpy as np\n",
    "import scipy as sp\n",
    "from scipy import stats\n",
    "import matplotlib.pyplot as plt\n",
    "from scipy.stats import pearsonr\n",
    "import seaborn as sns\n",
    "import statsmodels.api as sm\n",
    "from scipy.cluster.hierarchy import linkage, dendrogram\n",
    "from scipy.spatial.distance import pdist, squareform\n",
    "from scipy.optimize import curve_fit\n",
    "from sklearn.metrics import r2_score\n",
    "from scipy.stats import t"
   ]
  },
  {
   "cell_type": "code",
   "execution_count": null,
   "id": "755e8061",
   "metadata": {},
   "outputs": [],
   "source": [
    "df_ctrp=pd.read_csv(\"../../Breast_cancer_heterogeneity_project/Drug_sensitivity_AUC_(CTD^2).csv\")\n",
    "df_ctrp.index=df_ctrp.iloc[:, 0]\n",
    "df_ctrp.drop('Unnamed: 0', axis=1, inplace=True)\n",
    "df_ctrp.columns=[i.split(' (')[0] for i in df_ctrp.columns]"
   ]
  },
  {
   "cell_type": "code",
   "execution_count": null,
   "id": "e216fe79",
   "metadata": {},
   "outputs": [],
   "source": [
    "h=pd.read_csv(\"/Volumes/SSD_Yue/NMF_Onco_gps_results/NMF_using_524_genes_selected_using_pan_cancer_cell_lines_including_MYC_on_30_updated_TNBC_cell_lines_normalized_for_samples_12222022/7/h.tsv\", sep='\\t', index_col=0)"
   ]
  },
  {
   "cell_type": "code",
   "execution_count": null,
   "id": "e18d8679",
   "metadata": {},
   "outputs": [],
   "source": [
    "cell_lines_order = ['ACH-000691', 'ACH-000196', 'ACH-000111', 'ACH-000276', 'ACH-000721', 'ACH-000148', 'ACH-001389', 'ACH-000621', 'ACH-000288', 'ACH-000573', 'ACH-000699', 'ACH-001391',\n",
    "                   'ACH-001392', 'ACH-001819', 'ACH-000910', 'ACH-000374', 'ACH-001388', 'ACH-001390', 'ACH-001394',\n",
    "                   'ACH-000643', 'ACH-000624', 'ACH-000857', 'ACH-000223', 'ACH-000668', 'ACH-000258',\n",
    "                   'ACH-000856', 'ACH-000212', 'ACH-000768', 'ACH-000849', 'ACH-000536']"
   ]
  },
  {
   "cell_type": "code",
   "execution_count": null,
   "id": "58c9e1b6",
   "metadata": {},
   "outputs": [],
   "source": [
    "df_ctrp_tnbc = df_ctrp.loc[df_ctrp.index.isin(cell_lines_order),]\n",
    "nan_counts = df_ctrp_tnbc.isna().sum()\n",
    "columns_to_keep = nan_counts[nan_counts <= 10].index\n",
    "df_ctrp_tnbc_cleaned = df_ctrp_tnbc[columns_to_keep]"
   ]
  },
  {
   "cell_type": "code",
   "execution_count": null,
   "id": "f98accaa",
   "metadata": {},
   "outputs": [],
   "source": [
    "h2=pd.DataFrame(sp.stats.zscore(h, axis=0)) #z-score for each column (column-wise), so that the computated z-score matches the h.html\n",
    "h2.index=h.index\n",
    "h2.columns=h.columns"
   ]
  },
  {
   "cell_type": "code",
   "execution_count": null,
   "id": "afd229d9",
   "metadata": {},
   "outputs": [],
   "source": [
    "#For F0\n",
    "df_f0 =h2.loc[h2.index==\"F0\", h2.columns.isin(df_ctrp_tnbc.index)].transpose()\n",
    "df_merged_f0=pd.merge(df_ctrp_tnbc_cleaned, df_f0, left_index=True, right_index=True)\n",
    "\n",
    "last_col = df_merged_f0.iloc[:, -1]\n",
    "\n",
    "# Loop through each column except the last one\n",
    "correlations = {}\n",
    "for col in df_merged_f0.columns[:-1]: # Exclude the last column\n",
    "    df_tmpt = df_merged_f0[[col, \"F0\"]]\n",
    "    df_tmpt = df_tmpt.replace([np.inf, -np.inf], np.nan).dropna()\n",
    "    correlations[col] = pearsonr(df_tmpt[col], df_tmpt[\"F0\"])\n",
    "    \n",
    "# Convert the dictionary to a DataFrame\n",
    "correlation_df_f0 = pd.DataFrame(correlations.items(), columns=['Drug', 'Info'])\n",
    "correlation_df_f0[['Correlation', 'P-value']] = pd.DataFrame(correlation_df_f0['Info'].tolist(), index=correlation_df_f0.index)\n",
    "correlation_df_f0 = correlation_df_f0.drop(columns=['Info'])"
   ]
  },
  {
   "cell_type": "code",
   "execution_count": null,
   "id": "d3bfa03c",
   "metadata": {},
   "outputs": [],
   "source": [
    "correlation_df_f0[\"CCLE_model_state\"] = \"F0\"\n",
    "correlation_df_f0[\"State_description\"] = \"partial-EMT & NOTCH signaling\"\n",
    "correlation_df_f0[\"Salient_representative_genes\"] = [[\"ELF3\", \"GRHL2\", \"CLDN4\", \"DSP\", \"CGN\", \"DSC2\", \"ALDH1A3\",\"JAG2\", \"NOTCH1\", \"HES4\", \"HEY2\", \"NOTCH2\", \"NOTCH3\"]] * len(correlation_df_f0)"
   ]
  },
  {
   "cell_type": "code",
   "execution_count": null,
   "id": "877bc503",
   "metadata": {},
   "outputs": [],
   "source": [
    "correlation_df_f0.loc[(correlation_df_f0['P-value'] < 0.05) & (correlation_df_f0['Correlation'] < 0),]"
   ]
  },
  {
   "cell_type": "code",
   "execution_count": null,
   "id": "46c95154",
   "metadata": {},
   "outputs": [],
   "source": [
    "plt.figure(figsize=(8, 6))\n",
    "\n",
    "df_tmpt = df_merged_f0[[\"CIL70\", \"F0\"]]\n",
    "df_tmpt = df_tmpt.replace([np.inf, -np.inf], np.nan).dropna()\n",
    "\n",
    "x= df_tmpt.iloc[:,0]\n",
    "y= df_tmpt.iloc[:,1]\n",
    "\n",
    "plt.scatter(x, y, color='black', marker='o',s=200)\n",
    "slope, intercept, r_value, p_value, std_err = stats.linregress(x, y)\n",
    "\n",
    "# Generate predicted y-values for the regression line\n",
    "regression_line = slope * x + intercept\n",
    "\n",
    "# Plot regression line\n",
    "plt.plot(x, regression_line, color='red', label=\"Regression Line\",linewidth=5)\n",
    "plt.xlabel('compound AUC')\n",
    "plt.ylabel('F0 expression')\n",
    "plt.grid(False)\n",
    "#plt.savefig('/Volumes/SSD_Yue/TNBC_paper_Fig2_10252024/CIL70_AUC_vs_F0_zscore_12112024.svg',dpi=300)\n",
    "plt.show()"
   ]
  },
  {
   "cell_type": "code",
   "execution_count": null,
   "id": "972d1426",
   "metadata": {},
   "outputs": [],
   "source": [
    "#For F1\n",
    "df_f1 =h2.loc[h2.index==\"F1\", h2.columns.isin(df_ctrp_tnbc.index)].transpose()\n",
    "df_merged_f1=pd.merge(df_ctrp_tnbc_cleaned, df_f1, left_index=True, right_index=True)\n",
    "\n",
    "last_col = df_merged_f1.iloc[:, -1]\n",
    "\n",
    "# Loop through each column except the last one\n",
    "correlations = {}\n",
    "for col in df_merged_f1.columns[:-1]: # Exclude the last column\n",
    "    df_tmpt = df_merged_f1[[col, \"F1\"]]\n",
    "    df_tmpt = df_tmpt.replace([np.inf, -np.inf], np.nan).dropna()\n",
    "    correlations[col] = pearsonr(df_tmpt[col], df_tmpt[\"F1\"])\n",
    "    \n",
    "# Convert the dictionary to a DataFrame\n",
    "correlation_df_f1 = pd.DataFrame(correlations.items(), columns=['Drug', 'Info'])\n",
    "correlation_df_f1[['Correlation', 'P-value']] = pd.DataFrame(correlation_df_f1['Info'].tolist(), index=correlation_df_f1.index)\n",
    "correlation_df_f1 = correlation_df_f1.drop(columns=['Info'])"
   ]
  },
  {
   "cell_type": "code",
   "execution_count": null,
   "id": "ff7cda69",
   "metadata": {},
   "outputs": [],
   "source": [
    "correlation_df_f1[\"CCLE_model_state\"] = \"F1\"\n",
    "correlation_df_f1[\"State_description\"] = \"MYC-high & EMT & hypoxia | glycolysis\"\n",
    "correlation_df_f1[\"Salient_representative_genes\"] = [[\"MYC\", \"TGFBI\", \"SNAI2\", \"MMP2\", \"FN1\", \"CDH2\", \"VIM\", \"GSTP1\", \"LDHB\"]] * len(correlation_df_f1)"
   ]
  },
  {
   "cell_type": "code",
   "execution_count": null,
   "id": "30b0c66f",
   "metadata": {},
   "outputs": [],
   "source": [
    "plt.figure(figsize=(8, 6))\n",
    "\n",
    "df_tmpt = df_merged_f1[[\"CBB-1007\", \"F1\"]]\n",
    "df_tmpt = df_tmpt.replace([np.inf, -np.inf], np.nan).dropna()\n",
    "\n",
    "x= df_tmpt.iloc[:,0]\n",
    "y= df_tmpt.iloc[:,1]\n",
    "\n",
    "plt.scatter(x, y, color='black', marker='o',s=200)\n",
    "slope, intercept, r_value, p_value, std_err = stats.linregress(x, y)\n",
    "\n",
    "# Generate predicted y-values for the regression line\n",
    "regression_line = slope * x + intercept\n",
    "\n",
    "# Plot regression line\n",
    "plt.plot(x, regression_line, color='red', label=\"Regression Line\",linewidth=5)\n",
    "plt.xlabel('compound AUC')\n",
    "plt.ylabel('F1 expression')\n",
    "plt.grid(False)\n",
    "#plt.savefig('/Volumes/SSD_Yue/TNBC_paper_Fig2_10252024/CBB-1007_AUC_vs_F1_zscore_12112024.svg',dpi=300)\n",
    "plt.show()"
   ]
  },
  {
   "cell_type": "code",
   "execution_count": null,
   "id": "b9b3da39",
   "metadata": {},
   "outputs": [],
   "source": [
    "#For F2\n",
    "df_f2 =h2.loc[h2.index==\"F2\", h2.columns.isin(df_ctrp_tnbc.index)].transpose()\n",
    "df_merged_f2=pd.merge(df_ctrp_tnbc_cleaned, df_f2, left_index=True, right_index=True)\n",
    "\n",
    "last_col = df_merged_f2.iloc[:, -1]\n",
    "\n",
    "# Loop through each column except the last one\n",
    "correlations = {}\n",
    "for col in df_merged_f2.columns[:-1]: # Exclude the last column\n",
    "    df_tmpt = df_merged_f2[[col, \"F2\"]]\n",
    "    df_tmpt = df_tmpt.replace([np.inf, -np.inf], np.nan).dropna()\n",
    "    correlations[col] = pearsonr(df_tmpt[col], df_tmpt[\"F2\"])\n",
    "    \n",
    "# Convert the dictionary to a DataFrame\n",
    "correlation_df_f2 = pd.DataFrame(correlations.items(), columns=['Drug', 'Info'])\n",
    "correlation_df_f2[['Correlation', 'P-value']] = pd.DataFrame(correlation_df_f2['Info'].tolist(), index=correlation_df_f2.index)\n",
    "correlation_df_f2 = correlation_df_f2.drop(columns=['Info'])"
   ]
  },
  {
   "cell_type": "code",
   "execution_count": null,
   "id": "457bfa9b",
   "metadata": {},
   "outputs": [],
   "source": [
    "correlation_df_f2[\"CCLE_model_state\"] = \"F2\"\n",
    "correlation_df_f2[\"State_description\"] = \"luminal-like & PI3K-Akt signaling\"\n",
    "correlation_df_f2[\"Salient_representative_genes\"] = [[\"CD24\", \"KRT19\", \"NRG3\", \"ERBB3\", \"TSPAN1\", \"FGFR4\"]] * len(correlation_df_f2)"
   ]
  },
  {
   "cell_type": "code",
   "execution_count": null,
   "id": "5a9e44da",
   "metadata": {},
   "outputs": [],
   "source": [
    "pd.set_option('display.max_row', None)\n",
    "correlation_df_f2.loc[(correlation_df_f2['P-value'] < 0.05) & (correlation_df_f2['Correlation'] < 0),]"
   ]
  },
  {
   "cell_type": "code",
   "execution_count": null,
   "id": "6294ec5a",
   "metadata": {},
   "outputs": [],
   "source": [
    "plt.figure(figsize=(8, 6))\n",
    "\n",
    "df_tmpt = df_merged_f2[[\"PIK-93\", \"F2\"]]\n",
    "df_tmpt = df_tmpt.replace([np.inf, -np.inf], np.nan).dropna()\n",
    "\n",
    "x= df_tmpt.iloc[:,0]\n",
    "y= df_tmpt.iloc[:,1]\n",
    "\n",
    "plt.scatter(x, y, color='blue', marker='o',s=200)\n",
    "slope, intercept, r_value, p_value, std_err = stats.linregress(x, y)\n",
    "\n",
    "# Generate predicted y-values for the regression line\n",
    "regression_line = slope * x + intercept\n",
    "\n",
    "# Plot regression line\n",
    "plt.plot(x, regression_line, color='red', label=\"Regression Line\",linewidth=5)\n",
    "plt.xlabel('compound AUC')\n",
    "plt.ylabel('F2 score')\n",
    "plt.grid(False)\n",
    "#plt.savefig('/Volumes/SSD_Yue/TNBC_paper_Fig2_10252024/PI-103_CCLE_F2_score_10272024.svg',dpi=300)\n",
    "plt.show()"
   ]
  },
  {
   "cell_type": "code",
   "execution_count": null,
   "id": "e19f13e9",
   "metadata": {},
   "outputs": [],
   "source": [
    "correlation_df_f2.loc[(correlation_df_f2['P-value'] < 0.05) & (correlation_df_f2['Correlation'] < 0),].Drug.tolist()"
   ]
  },
  {
   "cell_type": "code",
   "execution_count": null,
   "id": "7a89f153",
   "metadata": {},
   "outputs": [],
   "source": [
    "#For F3\n",
    "df_f3 =h2.loc[h2.index==\"F3\", h2.columns.isin(df_ctrp_tnbc.index)].transpose()\n",
    "df_merged_f3=pd.merge(df_ctrp_tnbc_cleaned, df_f3, left_index=True, right_index=True)\n",
    "\n",
    "last_col = df_merged_f3.iloc[:, -1]\n",
    "\n",
    "# Loop through each column except the last one\n",
    "correlations = {}\n",
    "for col in df_merged_f3.columns[:-1]: # Exclude the last column\n",
    "    df_tmpt = df_merged_f3[[col, \"F3\"]]\n",
    "    df_tmpt = df_tmpt.replace([np.inf, -np.inf], np.nan).dropna()\n",
    "    correlations[col] = pearsonr(df_tmpt[col], df_tmpt[\"F3\"])\n",
    "    \n",
    "# Convert the dictionary to a DataFrame\n",
    "correlation_df_f3 = pd.DataFrame(correlations.items(), columns=['Drug', 'Info'])\n",
    "correlation_df_f3[['Correlation', 'P-value']] = pd.DataFrame(correlation_df_f3['Info'].tolist(), index=correlation_df_f3.index)\n",
    "correlation_df_f3 = correlation_df_f3.drop(columns=['Info'])"
   ]
  },
  {
   "cell_type": "code",
   "execution_count": null,
   "id": "05a7e32f",
   "metadata": {},
   "outputs": [],
   "source": [
    "correlation_df_f3[\"CCLE_model_state\"] = \"F3\"\n",
    "correlation_df_f3[\"State_description\"] = \"EGFR signaling & NF-kB signaling\"\n",
    "correlation_df_f3[\"Salient_representative_genes\"] = [[\"AREG\", \"TGFA\", \"BTC\", \"EPGN\", \"EFEMP1\", \"TNS4\", \"GPR87\", \"IL18\", \"TNIP2\", \"TNF\", \"TNFAIP2\"]] * len(correlation_df_f3)"
   ]
  },
  {
   "cell_type": "code",
   "execution_count": null,
   "id": "d1b4a5fd",
   "metadata": {},
   "outputs": [],
   "source": [
    "correlation_df_f3.loc[(correlation_df_f3['P-value'] < 0.1) & (correlation_df_f3['Correlation'] < 0),]"
   ]
  },
  {
   "cell_type": "code",
   "execution_count": null,
   "id": "485f70c8",
   "metadata": {},
   "outputs": [],
   "source": [
    "plt.figure(figsize=(8, 6))\n",
    "\n",
    "df_tmpt = df_merged_f3[[\"erlotinib\", \"F3\"]]\n",
    "df_tmpt = df_tmpt.replace([np.inf, -np.inf], np.nan).dropna()\n",
    "\n",
    "x= df_tmpt.iloc[:,0]\n",
    "y= df_tmpt.iloc[:,1]\n",
    "\n",
    "plt.scatter(x, y, color='black', marker='o',s=200)\n",
    "slope, intercept, r_value, p_value, std_err = stats.linregress(x, y)\n",
    "\n",
    "# Generate predicted y-values for the regression line\n",
    "regression_line = slope * x + intercept\n",
    "\n",
    "# Plot regression line\n",
    "plt.plot(x, regression_line, color='red', label=\"Regression Line\",linewidth=5)\n",
    "plt.xlabel('compound AUC')\n",
    "plt.ylabel('F3 expression')\n",
    "plt.grid(False)\n",
    "#plt.savefig('/Volumes/SSD_Yue/TNBC_paper_Fig2_10252024/Erlotinib_AUC_vs_EGFR_expression_11152024.svg',dpi=300)\n",
    "plt.show()"
   ]
  },
  {
   "cell_type": "code",
   "execution_count": null,
   "id": "32806c4f",
   "metadata": {},
   "outputs": [],
   "source": [
    "plt.figure(figsize=(8, 6))\n",
    "\n",
    "df_tmpt = df_merged_f3[[\"vandetanib\", \"F3\"]]\n",
    "df_tmpt = df_tmpt.replace([np.inf, -np.inf], np.nan).dropna()\n",
    "\n",
    "x= df_tmpt.iloc[:,0]\n",
    "y= df_tmpt.iloc[:,1]\n",
    "\n",
    "plt.scatter(x, y, color='blue', marker='o',s=200)\n",
    "slope, intercept, r_value, p_value, std_err = stats.linregress(x, y)\n",
    "\n",
    "# Generate predicted y-values for the regression line\n",
    "regression_line = slope * x + intercept\n",
    "\n",
    "# Plot regression line\n",
    "plt.plot(x, regression_line, color='red', label=\"Regression Line\",linewidth=5)\n",
    "plt.xlabel('compound AUC')\n",
    "plt.ylabel('F3 score')\n",
    "plt.grid(False)\n",
    "plt.savefig('/Volumes/SSD_Yue/TNBC_paper_Fig2_10252024/vandetanib_CCLE_F3_score_10272024.svg',dpi=300)\n",
    "plt.show()"
   ]
  },
  {
   "cell_type": "code",
   "execution_count": null,
   "id": "5920333c",
   "metadata": {},
   "outputs": [],
   "source": [
    "#For F5\n",
    "df_f5 =h2.loc[h2.index==\"F5\", h2.columns.isin(df_ctrp_tnbc.index)].transpose()\n",
    "df_merged_f5=pd.merge(df_ctrp_tnbc_cleaned, df_f5, left_index=True, right_index=True)\n",
    "\n",
    "last_col = df_merged_f5.iloc[:, -1]\n",
    "\n",
    "# Loop through each column except the last one\n",
    "correlations = {}\n",
    "for col in df_merged_f5.columns[:-1]: # Exclude the last column\n",
    "    df_tmpt = df_merged_f5[[col, \"F5\"]]\n",
    "    df_tmpt = df_tmpt.replace([np.inf, -np.inf], np.nan).dropna()\n",
    "    correlations[col] = pearsonr(df_tmpt[col], df_tmpt[\"F5\"])\n",
    "    \n",
    "# Convert the dictionary to a DataFrame\n",
    "correlation_df_f5 = pd.DataFrame(correlations.items(), columns=['Drug', 'Info'])\n",
    "correlation_df_f5[['Correlation', 'P-value']] = pd.DataFrame(correlation_df_f5['Info'].tolist(), index=correlation_df_f5.index)\n",
    "correlation_df_f5 = correlation_df_f5.drop(columns=['Info'])"
   ]
  },
  {
   "cell_type": "code",
   "execution_count": null,
   "id": "0f966f6d",
   "metadata": {},
   "outputs": [],
   "source": [
    "correlation_df_f5[\"CCLE_model_state\"] = \"F5\"\n",
    "correlation_df_f5[\"State_description\"] = \"EMT & DNA damage response\"\n",
    "correlation_df_f5[\"Salient_representative_genes\"] = [[\"SLFN12\", \"ZNF185\", \"GSDME\", \"ERCC2\"]] * len(correlation_df_f5)"
   ]
  },
  {
   "cell_type": "code",
   "execution_count": null,
   "id": "c6e73bbc",
   "metadata": {
    "scrolled": true
   },
   "outputs": [],
   "source": [
    "correlation_df_f5.loc[(correlation_df_f5['P-value'] < 0.05) & (correlation_df_f5['Correlation']< 0),].Drug.tolist()"
   ]
  },
  {
   "cell_type": "code",
   "execution_count": null,
   "id": "ccbddad7",
   "metadata": {},
   "outputs": [],
   "source": [
    "plt.figure(figsize=(8, 6))\n",
    "\n",
    "df_tmpt = df_merged_f5[[\"thalidomide\", \"F5\"]]\n",
    "df_tmpt = df_tmpt.replace([np.inf, -np.inf], np.nan).dropna()\n",
    "\n",
    "x= df_tmpt.iloc[:,0]\n",
    "y= df_tmpt.iloc[:,1]\n",
    "\n",
    "plt.scatter(x, y, color='black', marker='o',s=200)\n",
    "slope, intercept, r_value, p_value, std_err = stats.linregress(x, y)\n",
    "\n",
    "# Generate predicted y-values for the regression line\n",
    "regression_line = slope * x + intercept\n",
    "\n",
    "# Plot regression line\n",
    "plt.plot(x, regression_line, color='red', label=\"Regression Line\",linewidth=5)\n",
    "plt.xlabel('compound AUC')\n",
    "plt.ylabel('F5 expression')\n",
    "plt.grid(False)\n",
    "plt.savefig('/Volumes/SSD_Yue/TNBC_paper_Fig2_10252024/Thalidomide_AUC_vs_F5_zscore_12112024.svg',dpi=300)\n",
    "plt.show()"
   ]
  },
  {
   "cell_type": "code",
   "execution_count": null,
   "id": "c1c99f8d",
   "metadata": {},
   "outputs": [],
   "source": [
    "#For F6\n",
    "df_f6 =h2.loc[h2.index==\"F6\", h2.columns.isin(df_ctrp_tnbc.index)].transpose()\n",
    "df_merged_f6=pd.merge(df_ctrp_tnbc_cleaned, df_f6, left_index=True, right_index=True)\n",
    "\n",
    "last_col = df_merged_f6.iloc[:, -1]\n",
    "\n",
    "# Loop through each column except the last one\n",
    "correlations = {}\n",
    "for col in df_merged_f6.columns[:-1]: # Exclude the last column\n",
    "    df_tmpt = df_merged_f6[[col, \"F6\"]]\n",
    "    df_tmpt = df_tmpt.replace([np.inf, -np.inf], np.nan).dropna()\n",
    "    correlations[col] = pearsonr(df_tmpt[col], df_tmpt[\"F6\"])\n",
    "    \n",
    "# Convert the dictionary to a DataFrame\n",
    "correlation_df_f6 = pd.DataFrame(correlations.items(), columns=['Drug', 'Info'])\n",
    "correlation_df_f6[['Correlation', 'P-value']] = pd.DataFrame(correlation_df_f6['Info'].tolist(), index=correlation_df_f6.index)\n",
    "correlation_df_f6 = correlation_df_f6.drop(columns=['Info'])"
   ]
  },
  {
   "cell_type": "code",
   "execution_count": null,
   "id": "9c3f7bc9",
   "metadata": {},
   "outputs": [],
   "source": [
    "correlation_df_f6[\"CCLE_model_state\"] = \"F6\"\n",
    "correlation_df_f6[\"State_description\"] = \"MAGE protein family\"\n",
    "correlation_df_f6[\"Salient_representative_genes\"] = [[\"MAGEA2\", \"MAGEA2B\", \"MAGEA3\", \"MAGEA6\", \"MAGEA12\"]] * len(correlation_df_f6)"
   ]
  },
  {
   "cell_type": "code",
   "execution_count": null,
   "id": "92087f29",
   "metadata": {},
   "outputs": [],
   "source": [
    "correlation_df_f6.loc[correlation_df_f6['P-value'] < 0.05,].Drug.tolist()"
   ]
  },
  {
   "cell_type": "code",
   "execution_count": null,
   "id": "0312b157",
   "metadata": {},
   "outputs": [],
   "source": [
    "df_concat = pd.concat([correlation_df_f0, correlation_df_f1, correlation_df_f2, correlation_df_f3, correlation_df_f5, correlation_df_f6], ignore_index=True)"
   ]
  },
  {
   "cell_type": "code",
   "execution_count": null,
   "id": "1548f506",
   "metadata": {},
   "outputs": [],
   "source": [
    "df_concat.to_csv(\"CCLE_NMF_state_score_association_with_CTRP_AUC_09172024.csv\")"
   ]
  },
  {
   "cell_type": "code",
   "execution_count": null,
   "id": "95e40aa1",
   "metadata": {},
   "outputs": [],
   "source": [
    "df_concat = pd.read_csv('CCLE_NMF_state_score_association_with_CTRP_AUC_09172024.csv')"
   ]
  }
 ],
 "metadata": {
  "kernelspec": {
   "display_name": "Python 3",
   "language": "python",
   "name": "python3"
  },
  "language_info": {
   "codemirror_mode": {
    "name": "ipython",
    "version": 3
   },
   "file_extension": ".py",
   "mimetype": "text/x-python",
   "name": "python",
   "nbconvert_exporter": "python",
   "pygments_lexer": "ipython3",
   "version": "3.8.12"
  }
 },
 "nbformat": 4,
 "nbformat_minor": 5
}
