{
 "cells": [
  {
   "cell_type": "code",
   "execution_count": null,
   "id": "496e110b",
   "metadata": {},
   "outputs": [],
   "source": [
    "import pandas as pd\n",
    "import numpy as np\n",
    "import scipy as sp\n",
    "from scipy import stats\n",
    "import matplotlib.pyplot as plt\n",
    "from scipy.stats import pearsonr\n",
    "import seaborn as sns\n",
    "from statsmodels.stats.multitest import multipletests\n",
    "from scipy.stats import ranksums"
   ]
  },
  {
   "cell_type": "code",
   "execution_count": null,
   "id": "95c4dd0a",
   "metadata": {},
   "outputs": [],
   "source": [
    "df_crispr=pd.read_csv(\"/Volumes/SSD_Yue/DepMap_Downloads/CRISPR_gene_effect_22Q2.csv\")\n",
    "df_crispr.index=df_crispr.iloc[:, 0]\n",
    "df_crispr.drop('DepMap_ID', axis=1, inplace=True)\n",
    "df_crispr.columns=[i.split(' (')[0] for i in df_crispr.columns]"
   ]
  },
  {
   "cell_type": "code",
   "execution_count": null,
   "id": "e216fe79",
   "metadata": {},
   "outputs": [],
   "source": [
    "h=pd.read_csv(\"/Volumes/SSD_Yue/NMF_Onco_gps_results/NMF_using_524_genes_selected_using_pan_cancer_cell_lines_including_MYC_on_30_updated_TNBC_cell_lines_normalized_for_samples_12222022/7/h.tsv\", sep='\\t', index_col=0)\n",
    "w=pd.read_csv(\"/Volumes/SSD_Yue/NMF_Onco_gps_results/NMF_using_524_genes_selected_using_pan_cancer_cell_lines_including_MYC_on_30_updated_TNBC_cell_lines_normalized_for_samples_12222022/7/w.tsv\", sep='\\t', index_col=0)"
   ]
  },
  {
   "cell_type": "code",
   "execution_count": null,
   "id": "e18d8679",
   "metadata": {},
   "outputs": [],
   "source": [
    "cell_lines_order = ['ACH-000691', 'ACH-000196', 'ACH-000111', 'ACH-000276', 'ACH-000721', 'ACH-000148', 'ACH-001389', 'ACH-000621', 'ACH-000288', 'ACH-000573', 'ACH-000699', 'ACH-001391',\n",
    "                   'ACH-001392', 'ACH-001819', 'ACH-000910', 'ACH-000374', 'ACH-001388', 'ACH-001390', 'ACH-001394',\n",
    "                   'ACH-000643', 'ACH-000624', 'ACH-000857', 'ACH-000223', 'ACH-000668', 'ACH-000258',\n",
    "                   'ACH-000856', 'ACH-000212', 'ACH-000768', 'ACH-000849', 'ACH-000536']"
   ]
  },
  {
   "cell_type": "code",
   "execution_count": null,
   "id": "f129e83c",
   "metadata": {},
   "outputs": [],
   "source": [
    "df1=h.apply(lambda x: x.argmax(), axis=0).to_frame()\n",
    "df1.columns=['state']\n",
    "df1['state']=df1['state'].astype(str)\n",
    "df1['states']= df1['state'].map({'0': 'F0', '1': 'F1', '2': 'F2', '3': 'F3', '4': 'F4', '5': 'F5', '6': 'F6', '7': 'F7', '8': 'F8'})\n",
    "dict_cell_lines={}\n",
    "for i in w.columns.tolist():\n",
    "    dict_cell_lines[i]=df1[df1.states==i].index.tolist()"
   ]
  },
  {
   "cell_type": "code",
   "execution_count": null,
   "id": "58c9e1b6",
   "metadata": {},
   "outputs": [],
   "source": [
    "df_crispr_tnbc = df_crispr.loc[df_crispr.index.isin(cell_lines_order),]"
   ]
  },
  {
   "cell_type": "code",
   "execution_count": null,
   "id": "f98accaa",
   "metadata": {},
   "outputs": [],
   "source": [
    "h2=pd.DataFrame(sp.stats.zscore(h, axis=0)) #z-score for each column (column-wise), so that the computated z-score matches the h.html\n",
    "h2.index=h.index\n",
    "h2.columns=h.columns"
   ]
  },
  {
   "cell_type": "code",
   "execution_count": null,
   "id": "afd229d9",
   "metadata": {},
   "outputs": [],
   "source": [
    "#For F0\n",
    "df_f0 =h2.loc[h2.index==\"F0\", h2.columns.isin(df_crispr_tnbc.index)].transpose()\n",
    "df_merged_f0=pd.merge(df_crispr_tnbc, df_f0, left_index=True, right_index=True)\n",
    "\n",
    "last_col = df_merged_f0.iloc[:, -1]\n",
    "\n",
    "# Loop through each column except the last one\n",
    "correlations = {}\n",
    "for col in df_merged_f0.columns[:-1]: # Exclude the last column\n",
    "    df_tmpt = df_merged_f0[[col, \"F0\"]]\n",
    "    df_tmpt = df_tmpt.replace([np.inf, -np.inf], np.nan).dropna()\n",
    "    correlations[col] = pearsonr(df_tmpt[col], df_tmpt[\"F0\"])\n",
    "    \n",
    "# Convert the dictionary to a DataFrame\n",
    "correlation_df_f0 = pd.DataFrame(correlations.items(), columns=['Drug', 'Info'])\n",
    "correlation_df_f0[['Correlation', 'P-value']] = pd.DataFrame(correlation_df_f0['Info'].tolist(), index=correlation_df_f0.index)\n",
    "correlation_df_f0 = correlation_df_f0.drop(columns=['Info'])"
   ]
  },
  {
   "cell_type": "code",
   "execution_count": null,
   "id": "81cc83a5",
   "metadata": {},
   "outputs": [],
   "source": [
    "correlation_df_f0[\"CCLE_model_state\"] = \"F0\"\n",
    "correlation_df_f0[\"State_description\"] = \"partial-EMT\"\n",
    "correlation_df_f0[\"Salient_representative_genes\"] = [[\"ELF3\", \"GRHL2\", \"CLDN4\", \"DSP\", \"CGN\", \"DSC2\", \"ALDH1A3\",\"JAG2\", \"NOTCH1\", \"HES4\", \"HEY2\", \"NOTCH2\", \"NOTCH3\"]] * len(correlation_df_f0)"
   ]
  },
  {
   "cell_type": "code",
   "execution_count": null,
   "id": "8ab03d92",
   "metadata": {
    "scrolled": true
   },
   "outputs": [],
   "source": [
    "pd.set_option('display.max_rows', None)\n",
    "correlation_df_f0.loc[(correlation_df_f0['P-value'] < 0.05) &(correlation_df_f0['Correlation'] < -0.6),]"
   ]
  },
  {
   "cell_type": "code",
   "execution_count": null,
   "id": "facbddd4",
   "metadata": {
    "scrolled": true
   },
   "outputs": [],
   "source": [
    "df_tmpt_all = pd.DataFrame(columns=['Value', 'Gene', 'Group'])\n",
    "for i in [\"RBPJ\", \"MIB1\"]:\n",
    "    plt.figure()\n",
    "    plt.figure(figsize=(8, 6))\n",
    "\n",
    "    df_tmpt = df_merged_f0[[i]]\n",
    "    df_tmpt['Gene']=i\n",
    "    #df_tmpt = df_tmpt.replace([np.inf, -np.inf], np.nan).dropna()\n",
    "    df_tmpt['flag'] = df_tmpt.index.isin([\"ACH-000691\", \"ACH-000196\", \"ACH-000276\", \"ACH-000111\"]).astype(int)\n",
    "    df_tmpt.columns= [\"Value\", \"Gene\", \"Group\"]\n",
    "    df_tmpt_all = df_tmpt_all.append(df_tmpt, ignore_index=True)\n",
    "    #x= df_tmpt.iloc[:,0]\n",
    "    #y= df_tmpt.iloc[:,1]\n",
    "sns.boxplot(data=df_tmpt_all, x='Gene', y='Value', hue='Group')\n",
    "    #plt.scatter(x, y, color='blue', marker='o')\n",
    "    #slope, intercept, r_value, p_value, std_err = stats.linregress(x, y)\n",
    "\n",
    "# Generate predicted y-values for the regression line\n",
    "    #regression_line = slope * x + intercept\n",
    "\n",
    "# Plot regression line\n",
    "    #plt.plot(x, regression_line, color='red', label=\"Regression Line\")\n",
    "plt.title('F0 essential genes')\n",
    "plt.xlabel('Gene')\n",
    "plt.ylabel('CRISPR score')\n",
    "plt.grid(False)\n",
    "#plt.savefig(\"/Volumes/SSD_Yue/TNBC_paper_Fig2_10252024/F0_CRISPR_essential_genes_MIB1_11032024.svg\", format=\"svg\")"
   ]
  },
  {
   "cell_type": "code",
   "execution_count": null,
   "id": "972d1426",
   "metadata": {},
   "outputs": [],
   "source": [
    "#For F1\n",
    "df_f1 =h2.loc[h2.index==\"F1\", h2.columns.isin(df_crispr_tnbc.index)].transpose()\n",
    "df_merged_f1=pd.merge(df_crispr_tnbc, df_f1, left_index=True, right_index=True)\n",
    "\n",
    "last_col = df_merged_f1.iloc[:, -1]\n",
    "\n",
    "# Loop through each column except the last one\n",
    "correlations = {}\n",
    "for col in df_merged_f1.columns[:-1]: # Exclude the last column\n",
    "    df_tmpt = df_merged_f1[[col, \"F1\"]]\n",
    "    df_tmpt = df_tmpt.replace([np.inf, -np.inf], np.nan).dropna()\n",
    "    correlations[col] = pearsonr(df_tmpt[col], df_tmpt[\"F1\"])\n",
    "    \n",
    "# Convert the dictionary to a DataFrame\n",
    "correlation_df_f1 = pd.DataFrame(correlations.items(), columns=['Drug', 'Info'])\n",
    "correlation_df_f1[['Correlation', 'P-value']] = pd.DataFrame(correlation_df_f1['Info'].tolist(), index=correlation_df_f1.index)\n",
    "correlation_df_f1 = correlation_df_f1.drop(columns=['Info'])"
   ]
  },
  {
   "cell_type": "code",
   "execution_count": null,
   "id": "a75d1669",
   "metadata": {},
   "outputs": [],
   "source": [
    "correlation_df_f1[\"CCLE_model_state\"] = \"F1\"\n",
    "correlation_df_f1[\"State_description\"] = \"MYC-high & EMT & hypoxia | glycolysis\"\n",
    "correlation_df_f1[\"Salient_representative_genes\"] = [[\"MYC\", \"TGFBI\", \"SNAI2\", \"MMP2\", \"FN1\", \"CDH2\", \"VIM\", \"GSTP1\", \"LDHB\"]] * len(correlation_df_f1)"
   ]
  },
  {
   "cell_type": "code",
   "execution_count": null,
   "id": "09f1986a",
   "metadata": {
    "scrolled": true
   },
   "outputs": [],
   "source": [
    "correlation_df_f1.loc[(correlation_df_f1['P-value'] < 0.05) &(correlation_df_f1['Correlation'] < -0.5),]"
   ]
  },
  {
   "cell_type": "code",
   "execution_count": null,
   "id": "3f15a5ff",
   "metadata": {
    "scrolled": true
   },
   "outputs": [],
   "source": [
    "df_tmpt_all = pd.DataFrame(columns=['Value', 'Gene', 'Group'])\n",
    "for i in [\"CDH2\", \"ITGAV\"]:\n",
    "    plt.figure()\n",
    "    plt.figure(figsize=(8, 6))\n",
    "\n",
    "    df_tmpt = df_merged_f1[[i]]\n",
    "    df_tmpt['Gene']=i\n",
    "    #df_tmpt = df_tmpt.replace([np.inf, -np.inf], np.nan).dropna()\n",
    "    df_tmpt['flag'] = df_tmpt.index.isin([\"ACH-000721\", \"ACH-000148\", \"ACH-001389\", \"ACH-000621\", \"ACH-000288\", \"ACH-000573\", \"ACH-000699\", \"ACH-001391\"]).astype(int)\n",
    "    df_tmpt.columns= [\"Value\", \"Gene\", \"Group\"]\n",
    "    df_tmpt_all = df_tmpt_all.append(df_tmpt, ignore_index=True)\n",
    "    #x= df_tmpt.iloc[:,0]\n",
    "    #y= df_tmpt.iloc[:,1]\n",
    "sns.boxplot(data=df_tmpt_all, x='Gene', y='Value', hue='Group')\n",
    "    #plt.scatter(x, y, color='blue', marker='o')\n",
    "    #slope, intercept, r_value, p_value, std_err = stats.linregress(x, y)\n",
    "\n",
    "# Generate predicted y-values for the regression line\n",
    "    #regression_line = slope * x + intercept\n",
    "\n",
    "# Plot regression line\n",
    "    #plt.plot(x, regression_line, color='red', label=\"Regression Line\")\n",
    "plt.title('F1 essential genes')\n",
    "plt.xlabel('Gene')\n",
    "plt.ylabel('CRISPR score')\n",
    "plt.grid(False)\n",
    "plt.savefig(\"/Volumes/SSD_Yue/TNBC_paper_Fig2_10252024/F1_CRISPR_essential_genes_10252024.svg\", format=\"svg\")"
   ]
  },
  {
   "cell_type": "code",
   "execution_count": null,
   "id": "b9b3da39",
   "metadata": {},
   "outputs": [],
   "source": [
    "#For F2\n",
    "df_f2 =h2.loc[h2.index==\"F2\", h2.columns.isin(df_crispr_tnbc.index)].transpose()\n",
    "df_merged_f2=pd.merge(df_crispr_tnbc, df_f2, left_index=True, right_index=True)\n",
    "\n",
    "last_col = df_merged_f2.iloc[:, -1]\n",
    "\n",
    "# Loop through each column except the last one\n",
    "correlations = {}\n",
    "for col in df_merged_f2.columns[:-1]: # Exclude the last column\n",
    "    df_tmpt = df_merged_f2[[col, \"F2_y\"]]\n",
    "    df_tmpt = df_tmpt.replace([np.inf, -np.inf], np.nan).dropna()\n",
    "    correlations[col] = pearsonr(df_tmpt[col], df_tmpt[\"F2_y\"])\n",
    "    \n",
    "# Convert the dictionary to a DataFrame\n",
    "correlation_df_f2 = pd.DataFrame(correlations.items(), columns=['Drug', 'Info'])\n",
    "correlation_df_f2[['Correlation', 'P-value']] = pd.DataFrame(correlation_df_f2['Info'].tolist(), index=correlation_df_f2.index)\n",
    "correlation_df_f2 = correlation_df_f2.drop(columns=['Info'])"
   ]
  },
  {
   "cell_type": "code",
   "execution_count": null,
   "id": "60ca5f07",
   "metadata": {},
   "outputs": [],
   "source": [
    "correlation_df_f2[\"CCLE_model_state\"] = \"F2\"\n",
    "correlation_df_f2[\"State_description\"] = \"luminal-like & PI3K-Akt signaling\"\n",
    "correlation_df_f2[\"Salient_representative_genes\"] = [[\"CD24\", \"KRT19\", \"NRG3\", \"ERBB3\", \"TSPAN1\", \"FGFR4\"]] * len(correlation_df_f2)"
   ]
  },
  {
   "cell_type": "code",
   "execution_count": null,
   "id": "36d91f68",
   "metadata": {
    "scrolled": true
   },
   "outputs": [],
   "source": [
    "df_tmpt_all = pd.DataFrame(columns=['Value', 'Gene', 'Group'])\n",
    "for i in [\"PIK3CA\",\"FOXA1\", \"GATA3\"]:\n",
    "    plt.figure()\n",
    "    plt.figure(figsize=(8, 6))\n",
    "\n",
    "    df_tmpt = df_merged_f2[[i]]\n",
    "    df_tmpt['Gene']=i\n",
    "    #df_tmpt = df_tmpt.replace([np.inf, -np.inf], np.nan).dropna()\n",
    "    df_tmpt['flag'] = df_tmpt.index.isin([\"ACH-001932\", \"ACH-001819\", \"ACH-000910\"]).astype(int)\n",
    "    df_tmpt.columns= [\"Value\", \"Gene\", \"Group\"]\n",
    "    df_tmpt_all = df_tmpt_all.append(df_tmpt, ignore_index=True)\n",
    "    #x= df_tmpt.iloc[:,0]\n",
    "    #y= df_tmpt.iloc[:,1]\n",
    "sns.boxplot(data=df_tmpt_all, x='Gene', y='Value', hue='Group')\n",
    "    #plt.scatter(x, y, color='blue', marker='o')\n",
    "    #slope, intercept, r_value, p_value, std_err = stats.linregress(x, y)\n",
    "\n",
    "# Generate predicted y-values for the regression line\n",
    "    #regression_line = slope * x + intercept\n",
    "\n",
    "# Plot regression line\n",
    "    #plt.plot(x, regression_line, color='red', label=\"Regression Line\")\n",
    "plt.title('F2 essential genes')\n",
    "plt.xlabel('Gene')\n",
    "plt.ylabel('CRISPR score')\n",
    "plt.grid(False)\n",
    "plt.savefig(\"/Volumes/SSD_Yue/TNBC_paper_Fig2_10252024/F2_CRISPR_essential_genes_10252024.svg\", format=\"svg\")"
   ]
  },
  {
   "cell_type": "code",
   "execution_count": null,
   "id": "7a89f153",
   "metadata": {},
   "outputs": [],
   "source": [
    "#For F3\n",
    "df_f3 =h2.loc[h2.index==\"F3\", h2.columns.isin(df_crispr_tnbc.index)].transpose()\n",
    "df_merged_f3=pd.merge(df_crispr_tnbc, df_f3, left_index=True, right_index=True)\n",
    "\n",
    "last_col = df_merged_f3.iloc[:, -1]\n",
    "\n",
    "# Loop through each column except the last one\n",
    "correlations = {}\n",
    "for col in df_merged_f3.columns[:-1]: # Exclude the last column\n",
    "    df_tmpt = df_merged_f3[[col, \"F3_y\"]]\n",
    "    df_tmpt = df_tmpt.replace([np.inf, -np.inf], np.nan).dropna()\n",
    "    correlations[col] = pearsonr(df_tmpt[col], df_tmpt[\"F3_y\"])\n",
    "    \n",
    "# Convert the dictionary to a DataFrame\n",
    "correlation_df_f3 = pd.DataFrame(correlations.items(), columns=['Drug', 'Info'])\n",
    "correlation_df_f3[['Correlation', 'P-value']] = pd.DataFrame(correlation_df_f3['Info'].tolist(), index=correlation_df_f3.index)\n",
    "correlation_df_f3 = correlation_df_f3.drop(columns=['Info'])"
   ]
  },
  {
   "cell_type": "code",
   "execution_count": null,
   "id": "0501561c",
   "metadata": {},
   "outputs": [],
   "source": [
    "correlation_df_f3[\"CCLE_model_state\"] = \"F3\"\n",
    "correlation_df_f3[\"State_description\"] = \"EGFR signaling & NF-kB signaling\"\n",
    "correlation_df_f3[\"Salient_representative_genes\"] = [[\"AREG\", \"TGFA\", \"BTC\", \"EPGN\", \"EFEMP1\", \"TNS4\", \"GPR87\", \"IL18\", \"TNIP2\", \"TNF\", \"TNFAIP2\"]] * len(correlation_df_f3)"
   ]
  },
  {
   "cell_type": "code",
   "execution_count": null,
   "id": "a4f8de4a",
   "metadata": {
    "scrolled": true
   },
   "outputs": [],
   "source": [
    "pd.set_option('display.max_rows', None)\n",
    "correlation_df_f3.loc[(correlation_df_f3['P-value'] < 0.05) & (correlation_df_f3['Correlation'] < -0.5),]"
   ]
  },
  {
   "cell_type": "code",
   "execution_count": null,
   "id": "9676ee92",
   "metadata": {
    "scrolled": true
   },
   "outputs": [],
   "source": [
    "df_tmpt_all = pd.DataFrame(columns=['Value', 'Gene', 'Group'])\n",
    "for i in [\"EGFR\", \"TSG101\", \"TRAF2\"]:\n",
    "    plt.figure()\n",
    "    plt.figure(figsize=(8, 6))\n",
    "\n",
    "    df_tmpt = df_merged_f3[[i]]\n",
    "    df_tmpt['Gene']=i\n",
    "    #df_tmpt = df_tmpt.replace([np.inf, -np.inf], np.nan).dropna()\n",
    "    df_tmpt['flag'] = df_tmpt.index.isin([\"ACH-000374\", \"ACH-001388\", \"ACH-001390\", \"ACH-001394\", \"ACH-000643\",\"ACH-000624\", \"ACH-000857\", \"ACH-000223\", \"ACH-000668\"]).astype(int)\n",
    "    df_tmpt.columns= [\"Value\", \"Gene\", \"Group\"]\n",
    "    df_tmpt_all = df_tmpt_all.append(df_tmpt, ignore_index=True)\n",
    "    #x= df_tmpt.iloc[:,0]\n",
    "    #y= df_tmpt.iloc[:,1]\n",
    "sns.boxplot(data=df_tmpt_all, x='Gene', y='Value', hue='Group')\n",
    "    #plt.scatter(x, y, color='blue', marker='o')\n",
    "    #slope, intercept, r_value, p_value, std_err = stats.linregress(x, y)\n",
    "\n",
    "# Generate predicted y-values for the regression line\n",
    "    #regression_line = slope * x + intercept\n",
    "\n",
    "# Plot regression line\n",
    "    #plt.plot(x, regression_line, color='red', label=\"Regression Line\")\n",
    "plt.title('F3 essential genes')\n",
    "plt.xlabel('Gene')\n",
    "plt.ylabel('CRISPR score')\n",
    "plt.grid(False)\n",
    "plt.savefig(\"/Volumes/SSD_Yue/TNBC_paper_Fig2_10252024/F3_CRISPR_essential_genes_10252024.svg\", format=\"svg\")"
   ]
  },
  {
   "cell_type": "code",
   "execution_count": null,
   "id": "5920333c",
   "metadata": {},
   "outputs": [],
   "source": [
    "#For F5\n",
    "df_f5 =h2.loc[h2.index==\"F5\", h2.columns.isin(df_crispr_tnbc.index)].transpose()\n",
    "df_merged_f5=pd.merge(df_crispr_tnbc, df_f5, left_index=True, right_index=True)\n",
    "\n",
    "last_col = df_merged_f5.iloc[:, -1]\n",
    "\n",
    "# Loop through each column except the last one\n",
    "correlations = {}\n",
    "for col in df_merged_f5.columns[:-1]: # Exclude the last column\n",
    "    df_tmpt = df_merged_f5[[col, \"F5_y\"]]\n",
    "    df_tmpt = df_tmpt.replace([np.inf, -np.inf], np.nan).dropna()\n",
    "    correlations[col] = pearsonr(df_tmpt[col], df_tmpt[\"F5_y\"])\n",
    "    \n",
    "# Convert the dictionary to a DataFrame\n",
    "correlation_df_f5 = pd.DataFrame(correlations.items(), columns=['Drug', 'Info'])\n",
    "correlation_df_f5[['Correlation', 'P-value']] = pd.DataFrame(correlation_df_f5['Info'].tolist(), index=correlation_df_f5.index)\n",
    "correlation_df_f5 = correlation_df_f5.drop(columns=['Info'])"
   ]
  },
  {
   "cell_type": "code",
   "execution_count": null,
   "id": "cd973e64",
   "metadata": {},
   "outputs": [],
   "source": [
    "correlation_df_f5[\"CCLE_model_state\"] = \"F5\"\n",
    "correlation_df_f5[\"State_description\"] = \"DNA damage response\"\n",
    "correlation_df_f5[\"Salient_representative_genes\"] = [[\"SLFN12\", \"ZNF185\", \"GSDME\", \"ERCC2\"]] * len(correlation_df_f5)"
   ]
  },
  {
   "cell_type": "code",
   "execution_count": null,
   "id": "01144234",
   "metadata": {
    "scrolled": true
   },
   "outputs": [],
   "source": [
    "pd.set_option('display.max_rows', None)\n",
    "correlation_df_f5.loc[(correlation_df_f5['P-value'] < 0.05) &(correlation_df_f5['Correlation'] < -0.5),]"
   ]
  },
  {
   "cell_type": "code",
   "execution_count": null,
   "id": "70377a81",
   "metadata": {},
   "outputs": [],
   "source": [
    "df_tmpt_all = pd.DataFrame(columns=['Value', 'Gene', 'Group'])\n",
    "for i in [\"PPAT\", \"PAICS\", \"ATIC\"]:\n",
    "    plt.figure()\n",
    "    plt.figure(figsize=(8, 6))\n",
    "\n",
    "    df_tmpt = df_merged_f5[[i]]\n",
    "    df_tmpt['Gene']=i\n",
    "    #df_tmpt = df_tmpt.replace([np.inf, -np.inf], np.nan).dropna()\n",
    "    df_tmpt['flag'] = df_tmpt.index.isin([\"ACH-000856\", \"ACH-000212\", \"ACH-000768\"]).astype(int)\n",
    "    df_tmpt.columns= [\"Value\", \"Gene\", \"Group\"]\n",
    "    df_tmpt_all = df_tmpt_all.append(df_tmpt, ignore_index=True)\n",
    "    #x= df_tmpt.iloc[:,0]\n",
    "    #y= df_tmpt.iloc[:,1]\n",
    "sns.boxplot(data=df_tmpt_all, x='Gene', y='Value', hue='Group')\n",
    "    #plt.scatter(x, y, color='blue', marker='o')\n",
    "    #slope, intercept, r_value, p_value, std_err = stats.linregress(x, y)\n",
    "\n",
    "# Generate predicted y-values for the regression line\n",
    "    #regression_line = slope * x + intercept\n",
    "\n",
    "# Plot regression line\n",
    "    #plt.plot(x, regression_line, color='red', label=\"Regression Line\")\n",
    "plt.title('F5 essential genes')\n",
    "plt.xlabel('Gene')\n",
    "plt.ylabel('CRISPR score')\n",
    "plt.grid(False)\n",
    "plt.savefig(\"/Volumes/SSD_Yue/TNBC_paper_Fig2_10252024/F5_CRISPR_essential_genes_10252024.svg\", format=\"svg\")"
   ]
  },
  {
   "cell_type": "code",
   "execution_count": null,
   "id": "c1c99f8d",
   "metadata": {},
   "outputs": [],
   "source": [
    "#For F6\n",
    "df_f6 =h2.loc[h2.index==\"F6\", h2.columns.isin(df_crispr_tnbc.index)].transpose()\n",
    "df_merged_f6 = pd.merge(df_crispr_tnbc, df_f6, left_index=True, right_index=True)\n",
    "\n",
    "last_col = df_merged_f6.iloc[:, -1]\n",
    "\n",
    "# Loop through each column except the last one\n",
    "correlations = {}\n",
    "for col in df_merged_f6.columns[:-1]: # Exclude the last column\n",
    "    df_tmpt = df_merged_f6[[col, \"F6\"]]\n",
    "    df_tmpt = df_tmpt.replace([np.inf, -np.inf], np.nan).dropna()\n",
    "    correlations[col] = pearsonr(df_tmpt[col], df_tmpt[\"F6\"])\n",
    "    \n",
    "# Convert the dictionary to a DataFrame\n",
    "correlation_df_f6 = pd.DataFrame(correlations.items(), columns=['Drug', 'Info'])\n",
    "correlation_df_f6[['Correlation', 'P-value']] = pd.DataFrame(correlation_df_f6['Info'].tolist(), index=correlation_df_f6.index)\n",
    "correlation_df_f6 = correlation_df_f6.drop(columns=['Info'])"
   ]
  },
  {
   "cell_type": "code",
   "execution_count": null,
   "id": "e25db01b",
   "metadata": {},
   "outputs": [],
   "source": [
    "correlation_df_f6[\"CCLE_model_state\"] = \"F6\"\n",
    "correlation_df_f6[\"State_description\"] = \"MAGE protein family\"\n",
    "correlation_df_f6[\"Salient_representative_genes\"] = [[\"MAGEA2\", \"MAGEA2B\", \"MAGEA3\", \"MAGEA6\", \"MAGEA12\"]] * len(correlation_df_f6)"
   ]
  },
  {
   "cell_type": "code",
   "execution_count": null,
   "id": "d94be14b",
   "metadata": {
    "scrolled": true
   },
   "outputs": [],
   "source": [
    "correlation_df_f6.loc[(correlation_df_f6['P-value'] < 0.05) & (correlation_df_f6['Correlation'] < -0.6),]"
   ]
  },
  {
   "cell_type": "code",
   "execution_count": null,
   "id": "7828e33f",
   "metadata": {},
   "outputs": [],
   "source": [
    "df_concat = pd.concat([correlation_df_f0, correlation_df_f1, correlation_df_f2, correlation_df_f3, correlation_df_f5, correlation_df_f6], ignore_index=True)"
   ]
  },
  {
   "cell_type": "code",
   "execution_count": null,
   "id": "fb035290",
   "metadata": {},
   "outputs": [],
   "source": [
    "df_concat.to_csv(\"CCLE_NMF_state_score_association_with_DepMap_CRISPR_09172024.csv\")"
   ]
  }
 ],
 "metadata": {
  "kernelspec": {
   "display_name": "Python 3",
   "language": "python",
   "name": "python3"
  },
  "language_info": {
   "codemirror_mode": {
    "name": "ipython",
    "version": 3
   },
   "file_extension": ".py",
   "mimetype": "text/x-python",
   "name": "python",
   "nbconvert_exporter": "python",
   "pygments_lexer": "ipython3",
   "version": "3.8.12"
  }
 },
 "nbformat": 4,
 "nbformat_minor": 5
}
