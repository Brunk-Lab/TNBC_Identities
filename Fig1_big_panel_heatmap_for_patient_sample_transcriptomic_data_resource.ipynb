{
 "cells": [
  {
   "cell_type": "code",
   "execution_count": null,
   "id": "f62ea329",
   "metadata": {},
   "outputs": [],
   "source": [
    "import pandas as pd\n",
    "import numpy as np\n",
    "import scipy as sp\n",
    "from scipy import stats\n",
    "from matplotlib.colors import ListedColormap\n",
    "import seaborn as sns\n",
    "import matplotlib.pyplot as plt\n",
    "from functools import reduce"
   ]
  },
  {
   "cell_type": "code",
   "execution_count": null,
   "id": "fdb0efc0",
   "metadata": {},
   "outputs": [],
   "source": [
    "list_genes_TCGA_F0 =[\"IGFBP2\", \"EN1\", \"SOX8\", \"LGR6\", \"DNER\"]\n",
    "list_genes_TCGA_F1=[\"HIF1A\", \"S100A9\", \"S100A8\", \"CA9\", \"PTK6\", \"GSDMC\"]\n",
    "list_genes_TCGA_F2=[\"MYC\", \"CCL18\", \"UCHL1\", \"AFAP1-AS1\", \"MSLN\", \"MUC16\", \"CXCL13\", \"LAMP3\", \"CDKN2A\",\"GZMB\", \"LAG3\", \"HAVCR2\", \"IL2RA\", 'IL2RG', 'FOXP3', 'IL10', 'PDCD1', 'OLR1']\n",
    "list_genes_TCGA_F3=[\"ELF5\"]\n",
    "list_genes_TCGA_F5=[\"MAGEA2\", \"MAGEA3\", \"MAGEA4\", \"MAGEA6\"]"
   ]
  },
  {
   "cell_type": "code",
   "execution_count": null,
   "id": "3db7d7d9",
   "metadata": {},
   "outputs": [],
   "source": [
    "list_genes_TCGA=list_genes_TCGA_F0 + list_genes_TCGA_F1 + list_genes_TCGA_F2 + list_genes_TCGA_F3 + list_genes_TCGA_F5"
   ]
  },
  {
   "cell_type": "code",
   "execution_count": null,
   "id": "e86e6d0c",
   "metadata": {},
   "outputs": [],
   "source": [
    "#import TCGA TNBC gene expression data\n",
    "read_file = pd.read_csv (r'/Volumes/SSD_Yue/TCGA_Data/brca_tcga_pan_can_atlas_2018/data_mrna_seq_v2_rsem.txt', sep='\\t')\n",
    "read_file = read_file[~read_file.Hugo_Symbol.isnull()]\n",
    "read_file.index=read_file.Hugo_Symbol\n",
    "read_file.drop(['Hugo_Symbol', 'Entrez_Gene_Id'],axis=1, inplace=True)\n",
    "read_file=np.log2(read_file+1)\n",
    "read_file=read_file.T\n",
    "read_file.index=[i[0:12] for i in read_file.index]\n",
    "read_file_2=read_file.groupby(read_file.columns.values,axis=1).mean()\n",
    "basal_information=pd.read_csv('/Volumes/SSD_Yue/TCGA_Data/PAM50CLOW.csv')\n",
    "list_basal=basal_information[basal_information.newSUBTYPE=='Basal'].iloc[:,0].tolist()"
   ]
  },
  {
   "cell_type": "code",
   "execution_count": null,
   "id": "391fdf52",
   "metadata": {},
   "outputs": [],
   "source": [
    "df_exp_tnbc_tcga=read_file_2[read_file_2.index.isin(list_basal)]"
   ]
  },
  {
   "cell_type": "code",
   "execution_count": null,
   "id": "7f2f57a3",
   "metadata": {},
   "outputs": [],
   "source": [
    "D = df_exp_tnbc_tcga.T\n",
    "df_exp_tnbc_tcga = ((D - D.mean(axis=0))/D.std(axis=0))\n",
    "df_exp_tnbc_tcga = 10 * df_exp_tnbc_tcga"
   ]
  },
  {
   "cell_type": "code",
   "execution_count": null,
   "id": "eac84a57",
   "metadata": {},
   "outputs": [],
   "source": [
    "df_exp_tnbc_tcga = df_exp_tnbc_tcga[df_exp_tnbc_tcga.index.isin(list_genes_TCGA)]\n",
    "df_exp_tnbc_tcga = df_exp_tnbc_tcga.reindex(list_genes_TCGA)"
   ]
  },
  {
   "cell_type": "code",
   "execution_count": null,
   "id": "74f30918",
   "metadata": {},
   "outputs": [],
   "source": [
    "df_exp_tnbc_tcga=stats.zscore(df_exp_tnbc_tcga, axis=1)"
   ]
  },
  {
   "cell_type": "code",
   "execution_count": null,
   "id": "d13ecfe9",
   "metadata": {},
   "outputs": [],
   "source": [
    "h_cluster=pd.read_csv(\"/Volumes/SSD_Yue/NMF_Onco_gps_results/NMF_using_489_genes_selected_using_TCGA_breast_cancer_samples_including_MYC_on_185_TCGA_TNBC_samples_normalized_for_samples_12232022/6/H/6/cluster_x_column.tsv\", sep='\\t', index_col=0)\n",
    "list_samples_TCGA_F0 = h_cluster.T[h_cluster.T.C0==1].index.tolist() #F0 n=53\n",
    "list_samples_TCGA_F1 = h_cluster.T[h_cluster.T.C4==1].index.tolist() #F1 n=18\n",
    "list_samples_TCGA_F2 = h_cluster.T[h_cluster.T.C3==1].index.tolist() #F2 n=21\n",
    "list_samples_TCGA_F1_and_F2_mix = h_cluster.T[h_cluster.T.C5==1].index.tolist() #F1_and_F2_mixture n=35\n",
    "list_samples_TCGA_F3 = h_cluster.T[h_cluster.T.C1==1].index.tolist() #F3 n=36\n",
    "list_samples_TCGA_F5 = h_cluster.T[h_cluster.T.C2==1].index.tolist() #F5 n=22\n",
    "\n",
    "list_samples_TCGA_all=list_samples_TCGA_F0 + list_samples_TCGA_F1 + list_samples_TCGA_F2 + list_samples_TCGA_F1_and_F2_mix + list_samples_TCGA_F3 + list_samples_TCGA_F5"
   ]
  },
  {
   "cell_type": "code",
   "execution_count": null,
   "id": "bd2dd106",
   "metadata": {},
   "outputs": [],
   "source": [
    "df_exp_tnbc_tcga = df_exp_tnbc_tcga[list_samples_TCGA_all]"
   ]
  },
  {
   "cell_type": "code",
   "execution_count": null,
   "id": "43d3face",
   "metadata": {},
   "outputs": [],
   "source": [
    "Belgium_P1 = pd.read_csv('/Volumes/SSD_Yue/Belgium_TNBC_patient_figures/Belgium_P1_pseudo_bulk_03272024.csv')\n",
    "Belgium_P2 = pd.read_csv('/Volumes/SSD_Yue/Belgium_TNBC_patient_figures/Belgium_P2_pseudo_bulk_03272024.csv')\n",
    "Belgium_P9 = pd.read_csv('/Volumes/SSD_Yue/Belgium_TNBC_patient_figures/Belgium_P9_pseudo_bulk_03272024.csv')\n",
    "Belgium_P10 = pd.read_csv('/Volumes/SSD_Yue/Belgium_TNBC_patient_figures/Belgium_P10_pseudo_bulk_03272024.csv')\n",
    "Belgium_P11 = pd.read_csv('/Volumes/SSD_Yue/Belgium_TNBC_patient_figures/Belgium_P11_pseudo_bulk_03272024.csv')\n",
    "Belgium_P14 = pd.read_csv('/Volumes/SSD_Yue/Belgium_TNBC_patient_figures/Belgium_P14_pseudo_bulk_03272024.csv')\n",
    "Belgium_P15 = pd.read_csv('/Volumes/SSD_Yue/Belgium_TNBC_patient_figures/Belgium_P15_pseudo_bulk_03272024.csv')\n",
    "Belgium_P16 = pd.read_csv('/Volumes/SSD_Yue/Belgium_TNBC_patient_figures/Belgium_P16_pseudo_bulk_03272024.csv')\n",
    "Belgium_P19 = pd.read_csv('/Volumes/SSD_Yue/Belgium_TNBC_patient_figures/Belgium_P19_pseudo_bulk_03272024.csv')\n",
    "Belgium_P25 = pd.read_csv('/Volumes/SSD_Yue/Belgium_TNBC_patient_figures/Belgium_P25_pseudo_bulk_03272024.csv')\n",
    "Belgium_P26 = pd.read_csv('/Volumes/SSD_Yue/Belgium_TNBC_patient_figures/Belgium_P26_pseudo_bulk_03272024.csv')\n",
    "Belgium_P31 = pd.read_csv('/Volumes/SSD_Yue/Belgium_TNBC_patient_figures/Belgium_P31_pseudo_bulk_03272024.csv')\n",
    "Belgium_P33 = pd.read_csv('/Volumes/SSD_Yue/Belgium_TNBC_patient_figures/Belgium_P33_pseudo_bulk_03312024.csv')\n",
    "Belgium_P34 = pd.read_csv('/Volumes/SSD_Yue/Belgium_TNBC_patient_figures/Belgium_P34_pseudo_bulk_03312024.csv')\n",
    "Belgium_P35 = pd.read_csv('/Volumes/SSD_Yue/Belgium_TNBC_patient_figures/Belgium_P35_pseudo_bulk_03312024.csv')\n",
    "Belgium_P36 = pd.read_csv('/Volumes/SSD_Yue/Belgium_TNBC_patient_figures/Belgium_P36_pseudo_bulk_03312024.csv')\n",
    "Belgium_P39 = pd.read_csv('/Volumes/SSD_Yue/Belgium_TNBC_patient_figures/Belgium_P39_pseudo_bulk_03312024.csv')\n",
    "Belgium_P41 = pd.read_csv('/Volumes/SSD_Yue/Belgium_TNBC_patient_figures/Belgium_P41_pseudo_bulk_03312024.csv')"
   ]
  },
  {
   "cell_type": "code",
   "execution_count": null,
   "id": "47c8af1a",
   "metadata": {},
   "outputs": [],
   "source": [
    "dfs = [Belgium_P1, Belgium_P2, Belgium_P9, Belgium_P10, Belgium_P11, Belgium_P14, Belgium_P15, Belgium_P16, Belgium_P19, Belgium_P25, Belgium_P26, Belgium_P31,\n",
    "      Belgium_P33, Belgium_P34, Belgium_P35, Belgium_P36, Belgium_P39, Belgium_P41]\n",
    "\n",
    "# Merging all DataFrames on 'key' column\n",
    "merged_belgium_df = reduce(lambda left, right: pd.merge(left, right, left_on = \"Unnamed: 0\", right_on= \"Unnamed: 0\" ,how='outer'), dfs)"
   ]
  },
  {
   "cell_type": "code",
   "execution_count": null,
   "id": "ff14d3a6",
   "metadata": {},
   "outputs": [],
   "source": [
    "merged_belgium_df.index = merged_belgium_df.iloc[:,0]\n",
    "merged_belgium_df= merged_belgium_df.iloc[:, 1:]\n",
    "merged_belgium_df.columns=[\"Belgium_P1\", \"Belgium_P2\", \"Belgium_P9\", \"Belgium_P10\", \"Belgium_P11\", \"Belgium_P14\", \"Belgium_P15\", \"Belgium_P16\", \"Belgium_P19\", \"Belgium_P25\", \"Belgium_P26\", \"Belgium_P31\", \"Belgium_P33\",\n",
    "                          \"Belgium_P34\", \"Belgium_P35\", \"Belgium_P36\", \"Belgium_P39\", \"Belgium_P41\"]\n",
    "merged_belgium_df = ((merged_belgium_df - merged_belgium_df.mean(axis=0,skipna=True))/merged_belgium_df.std(axis=0, skipna=True))\n",
    "merged_belgium_df = merged_belgium_df[merged_belgium_df.index.isin(list_genes_TCGA)]\n",
    "merged_belgium_df = merged_belgium_df.reindex(list_genes_TCGA)\n",
    "merged_belgium_df = stats.zscore(merged_belgium_df, axis=1, nan_policy='omit')\n",
    "df_concat = pd.concat([df_exp_tnbc_tcga, merged_belgium_df], axis=1)"
   ]
  },
  {
   "cell_type": "code",
   "execution_count": null,
   "id": "92786f47",
   "metadata": {},
   "outputs": [],
   "source": [
    "CID3963 = pd.read_csv('/Volumes/SSD_Yue/Belgium_TNBC_patient_figures/CID3963_pseudo_bulk_03272024.csv')\n",
    "CID3946 = pd.read_csv('/Volumes/SSD_Yue/Belgium_TNBC_patient_figures/CID3946_pseudo_bulk_03272024.csv')\n",
    "CID4465 = pd.read_csv('/Volumes/SSD_Yue/Belgium_TNBC_patient_figures/CID4465_pseudo_bulk_03272024.csv')\n",
    "CID44041 = pd.read_csv('/Volumes/SSD_Yue/Belgium_TNBC_patient_figures/CID44041_pseudo_bulk_03272024.csv')\n",
    "CID4495 = pd.read_csv('/Volumes/SSD_Yue/Belgium_TNBC_patient_figures/CID4495_pseudo_bulk_03272024.csv')\n",
    "CID44971 = pd.read_csv('/Volumes/SSD_Yue/Belgium_TNBC_patient_figures/CID44971_pseudo_bulk_03272024.csv')\n",
    "CID44991 = pd.read_csv('/Volumes/SSD_Yue/Belgium_TNBC_patient_figures/CID44991_pseudo_bulk_03272024.csv')\n",
    "CID4513 = pd.read_csv('/Volumes/SSD_Yue/Belgium_TNBC_patient_figures/CID4513_pseudo_bulk_03272024.csv')\n",
    "CID4515 = pd.read_csv('/Volumes/SSD_Yue/Belgium_TNBC_patient_figures/CID4515_pseudo_bulk_03272024.csv')\n",
    "CID4523 = pd.read_csv('/Volumes/SSD_Yue/Belgium_TNBC_patient_figures/CID4523_pseudo_bulk_03272024.csv')"
   ]
  },
  {
   "cell_type": "code",
   "execution_count": null,
   "id": "cb25109b",
   "metadata": {},
   "outputs": [],
   "source": [
    "dfs = [CID3963, CID3946, CID4465, CID44041, CID4495, CID44971, CID44991, CID4513, CID4515, CID4523]\n",
    "\n",
    "# Merging all DataFrames on 'key' column\n",
    "merged_aus_df = reduce(lambda left, right: pd.merge(left, right, left_on=\"Unnamed: 0\", right_on=\"Unnamed: 0\",how='outer'), dfs)"
   ]
  },
  {
   "cell_type": "code",
   "execution_count": null,
   "id": "d0668fd8",
   "metadata": {},
   "outputs": [],
   "source": [
    "merged_aus_df.index = merged_aus_df.iloc[:,0]\n",
    "merged_aus_df= merged_aus_df.iloc[:, 1:]\n",
    "merged_aus_df.columns = [\"CID3963\", \"CID3946\", \"CID4465\", \"CID44041\", \"CID4495\", \"CID44971\", \"CID44991\", \"CID4513\", \"CID4515\", \"CID4523\"]\n",
    "merged_aus_df = ((merged_aus_df - merged_aus_df.mean(axis=0,skipna=True))/merged_aus_df.std(axis=0, skipna=True))\n",
    "merged_aus_df = merged_aus_df[merged_aus_df.index.isin(list_genes_TCGA)]\n",
    "merged_aus_df = merged_aus_df.reindex(list_genes_TCGA)\n",
    "merged_aus_df = stats.zscore(merged_aus_df, axis=1, nan_policy='omit')\n",
    "df_concat = pd.concat([df_concat, merged_aus_df], axis=1)"
   ]
  },
  {
   "cell_type": "code",
   "execution_count": null,
   "id": "17137cb4",
   "metadata": {},
   "outputs": [],
   "source": [
    "cmap = sns.color_palette(\"bwr\", as_cmap=True)\n",
    "cmap = ListedColormap(cmap(np.linspace(0, 1, cmap.N)))\n",
    "cmap.set_bad(color='lightgrey')"
   ]
  },
  {
   "cell_type": "code",
   "execution_count": null,
   "id": "594da1c8",
   "metadata": {},
   "outputs": [],
   "source": [
    "plt.figure(figsize=(30, 15))  # Set the figure size\n",
    "sns.heatmap(df_concat, annot=False, cmap=cmap, cbar=True, center=0)\n",
    "plt.savefig('/Volumes/SSD_Yue/TNBC_paper_Fig1_11252024/TNBC_patient_samples_big_panel_heatmap_12052024.svg')\n",
    "#plt.savefig('TNBC_cell_lines_and_patient_samples_big_panel_heatmap_09182024.png', dpi=300)\n",
    "#plt.savefig('TNBC_cell_lines_and_patient_samples_big_panel_heatmap_03312023.png', dpi=300)"
   ]
  }
 ],
 "metadata": {
  "kernelspec": {
   "display_name": "Python 3",
   "language": "python",
   "name": "python3"
  },
  "language_info": {
   "codemirror_mode": {
    "name": "ipython",
    "version": 3
   },
   "file_extension": ".py",
   "mimetype": "text/x-python",
   "name": "python",
   "nbconvert_exporter": "python",
   "pygments_lexer": "ipython3",
   "version": "3.8.12"
  }
 },
 "nbformat": 4,
 "nbformat_minor": 5
}
