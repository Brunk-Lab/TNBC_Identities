{
 "cells": [
  {
   "cell_type": "code",
   "execution_count": null,
   "id": "f2c67810",
   "metadata": {},
   "outputs": [],
   "source": [
    "import pandas as pd\n",
    "import numpy as np\n",
    "import seaborn as sns\n",
    "import os\n",
    "import scipy as sp\n",
    "from scipy import stats"
   ]
  },
  {
   "cell_type": "code",
   "execution_count": null,
   "id": "f703fc67",
   "metadata": {},
   "outputs": [],
   "source": [
    "w=pd.read_csv(\"/Volumes/SSD_Yue/NMF_Onco_gps_results/NMF_using_524_genes_selected_using_pan_cancer_cell_lines_including_MYC_on_30_updated_TNBC_cell_lines_normalized_for_samples_12222022/7/w.tsv\", sep='\\t', index_col=0)\n",
    "w2=pd.DataFrame(sp.stats.zscore(w, axis=1))\n",
    "w2.index=w.index\n",
    "w2.columns=w.columns"
   ]
  },
  {
   "cell_type": "code",
   "execution_count": null,
   "id": "a6d15e48",
   "metadata": {},
   "outputs": [],
   "source": [
    "w2_2 = w2[['F0', 'F1', 'F2', 'F3', 'F4', 'F5']]"
   ]
  },
  {
   "cell_type": "code",
   "execution_count": null,
   "id": "96a808d0",
   "metadata": {},
   "outputs": [],
   "source": [
    "df_indexmax = pd.DataFrame(w2_2.idxmax(axis=1))"
   ]
  },
  {
   "cell_type": "code",
   "execution_count": null,
   "id": "7a9a9ac2",
   "metadata": {},
   "outputs": [],
   "source": [
    "df_indexmax.columns = [\"max_state\"]"
   ]
  },
  {
   "cell_type": "code",
   "execution_count": null,
   "id": "164db0ec",
   "metadata": {},
   "outputs": [],
   "source": [
    "df_indexmax.value_counts(\"max_state\")"
   ]
  },
  {
   "cell_type": "code",
   "execution_count": null,
   "id": "b9f0a090",
   "metadata": {},
   "outputs": [],
   "source": [
    "salient_F0_gene_list = df_indexmax.loc[df_indexmax.max_state == \"F0\",].index.tolist()\n",
    "salient_F1_gene_list = df_indexmax.loc[df_indexmax.max_state == \"F1\",].index.tolist()\n",
    "salient_F2_gene_list = df_indexmax.loc[df_indexmax.max_state == \"F2\",].index.tolist()\n",
    "salient_F3_gene_list = df_indexmax.loc[df_indexmax.max_state == \"F3\",].index.tolist()\n",
    "salient_F4_gene_list = df_indexmax.loc[df_indexmax.max_state == \"F4\",].index.tolist()\n",
    "salient_F5_gene_list = df_indexmax.loc[df_indexmax.max_state == \"F5\",].index.tolist()"
   ]
  },
  {
   "cell_type": "code",
   "execution_count": null,
   "id": "cc9c6dd4",
   "metadata": {},
   "outputs": [],
   "source": [
    "# Define the folder path\n",
    "folder_path = \"/Volumes/SSD_Yue/MsigDB_genesets/hallmark_genesets_2024/\"\n",
    "\n",
    "# Initialize a dictionary to store the DataFrames\n",
    "MsigDB_hallmark_pathways = {}\n",
    "\n",
    "# Iterate over all files in the folder\n",
    "for filename in os.listdir(folder_path):\n",
    "    # Check if the file is a TSV file\n",
    "    if filename.endswith(\".tsv\"):\n",
    "        # Construct the full file path\n",
    "        file_path = os.path.join(folder_path, filename)\n",
    "        df = pd.read_csv(file_path, sep='\\t')\n",
    "        genes_cell = df.iloc[16, 1]  # Adjust the row and column as necessary\n",
    "        gene_list = genes_cell.split(',')\n",
    "        key = os.path.splitext(filename)[0]\n",
    "        MsigDB_hallmark_pathways[key] = gene_list\n",
    "\n",
    "# Accessing the DataFrames\n",
    "for key, gene_list in MsigDB_hallmark_pathways.items():\n",
    "    print(f\"pathway for {key}:\")"
   ]
  },
  {
   "cell_type": "code",
   "execution_count": null,
   "id": "c39136af",
   "metadata": {},
   "outputs": [],
   "source": [
    "lists_to_compare = [salient_F0_gene_list, salient_F1_gene_list, salient_F2_gene_list, salient_F3_gene_list, salient_F4_gene_list, salient_F5_gene_list]\n",
    "\n",
    "overlap_results = []\n",
    "\n",
    "# For each of the 6 lists\n",
    "for i, comp_list in enumerate(lists_to_compare, start=0):\n",
    "    # Compare with each list in the dictionary\n",
    "    for key, dict_list in MsigDB_hallmark_pathways.items():\n",
    "        overlap = set(comp_list) & set(dict_list)  # Find intersection\n",
    "        overlap_results.append({\n",
    "            \"Comparison List\": f\"list_F{i}\",\n",
    "            \"Dictionary List\": key,\n",
    "            \"Overlap\": list(overlap),\n",
    "            \"Overlap Count\": len(overlap)  # Optional: size of the overlap\n",
    "        })\n",
    "\n",
    "# Convert results to a DataFrame\n",
    "overlap_df = pd.DataFrame(overlap_results)"
   ]
  },
  {
   "cell_type": "code",
   "execution_count": null,
   "id": "a48bf83a",
   "metadata": {
    "scrolled": true
   },
   "outputs": [],
   "source": [
    "pd.set_option('display.max_rows', None)\n",
    "overlap_df"
   ]
  },
  {
   "cell_type": "code",
   "execution_count": null,
   "id": "dc1f8d5f",
   "metadata": {},
   "outputs": [],
   "source": [
    "#We get rid of the biologically \"vague\" pathway gene sets\n",
    "overlap_df_filtered = overlap_df[~overlap_df['Dictionary List'].isin([\n",
    "    'HALLMARK_UNFOLDED_PROTEIN_RESPONSE.v2024.1.Hs','HALLMARK_SPERMATOGENESIS.v2024.1.Hs',\n",
    "    'HALLMARK_ALLOGRAFT_REJECTION.v2024.1.Hs','HALLMARK_APICAL_JUNCTION.v2024.1.Hs',\n",
    "    'HALLMARK_APICAL_SURFACE.v2024.1.Hs','HALLMARK_ADIPOGENESIS.v2024.1.Hs','HALLMARK_COAGULATION.v2024.1.Hs','HALLMARK_COMPLEMENT.v2024.1.Hs',\n",
    "    'HALLMARK_CHOLESTEROL_HOMEOSTASIS.v2024.1.Hs','HALLMARK_BILE_ACID_METABOLISM.v2024.1.Hs',\n",
    "    'HALLMARK_HEME_METABOLISM.v2024.1.Hs','HALLMARK_INFLAMMATORY_RESPONSE.v2024.1.Hs','HALLMARK_MITOTIC_SPINDLE.v2024.1.Hs',\n",
    "    'HALLMARK_MYOGENESIS.v2024.1.Hs','HALLMARK_OXIDATIVE_PHOSPHORYLATION.v2024.1.Hs',\n",
    "    'HALLMARK_PANCREAS_BETA_CELLS.v2024.1.Hs','HALLMARK_PEROXISOME.v2024.1.Hs',\n",
    "    'HALLMARK_PROTEIN_SECRETION.v2024.1.Hs','HALLMARK_REACTIVE_OXYGEN_SPECIES_PATHWAY.v2024.1.Hs',\n",
    "    'HALLMARK_XENOBIOTIC_METABOLISM.v2024.1.Hs'\n",
    "])]"
   ]
  },
  {
   "cell_type": "code",
   "execution_count": null,
   "id": "96335470",
   "metadata": {},
   "outputs": [],
   "source": [
    "overlap_df_filtered.loc[overlap_df_filtered['Comparison List'] == 'list_F2',:].sort_values(\"Overlap Count\", ascending=False)"
   ]
  },
  {
   "cell_type": "code",
   "execution_count": null,
   "id": "f9770f1f",
   "metadata": {},
   "outputs": [],
   "source": []
  }
 ],
 "metadata": {
  "kernelspec": {
   "display_name": "Python 3",
   "language": "python",
   "name": "python3"
  },
  "language_info": {
   "codemirror_mode": {
    "name": "ipython",
    "version": 3
   },
   "file_extension": ".py",
   "mimetype": "text/x-python",
   "name": "python",
   "nbconvert_exporter": "python",
   "pygments_lexer": "ipython3",
   "version": "3.8.12"
  }
 },
 "nbformat": 4,
 "nbformat_minor": 5
}
