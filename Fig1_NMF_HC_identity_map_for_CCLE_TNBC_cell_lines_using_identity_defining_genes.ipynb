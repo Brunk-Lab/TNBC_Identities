{
 "cells": [
  {
   "cell_type": "code",
   "execution_count": null,
   "id": "1724e682",
   "metadata": {},
   "outputs": [],
   "source": [
    "import pandas as pd\n",
    "import numpy as np\n",
    "import scipy as sp\n",
    "import sys\n",
    "sys.path.append('/Users/yuewang/Desktop/Desktop_Yue_MacBook_Pro/Nrf2_Project/')\n",
    "import ccal"
   ]
  },
  {
   "cell_type": "code",
   "execution_count": null,
   "id": "a848dccf",
   "metadata": {},
   "outputs": [],
   "source": [
    "df_exp=pd.read_csv('../../../Downloads/CCLE_expression_22Q2.csv', index_col=0)\n",
    "df_exp.columns=[i.split(' (')[0] for i in df_exp.columns]\n",
    "df_tnbc_info=pd.read_csv('./updated_TNBC_list_12032022.csv')\n",
    "df_exp_tnbc=df_exp[df_exp.index.isin(df_tnbc_info.DepMap_ID)]"
   ]
  },
  {
   "cell_type": "code",
   "execution_count": null,
   "id": "51ea91a0",
   "metadata": {},
   "outputs": [],
   "source": [
    "df_523=pd.read_csv('CCLE_TNBC_cell_lines_cellular_state_separating_gene_selection_results_12202022.csv')\n",
    "df_523.drop('Unnamed: 0', inplace=True, axis=1)\n",
    "df_523.drop_duplicates('gene', keep='first', inplace=True)\n",
    "gene_list_523=df_523.gene.unique().tolist()"
   ]
  },
  {
   "cell_type": "code",
   "execution_count": null,
   "id": "1f7ad477",
   "metadata": {},
   "outputs": [],
   "source": [
    "df_exp_tnbc_523=df_exp_tnbc[df_exp_tnbc.columns.intersection(gene_list_523+['MYC'])]"
   ]
  },
  {
   "cell_type": "code",
   "execution_count": null,
   "id": "c77f90a0",
   "metadata": {},
   "outputs": [],
   "source": [
    "D = df_exp_tnbc_523.T\n",
    "D1 = ((D - D.mean(axis=0))/D.std(axis=0))\n",
    "D2  = 100 * ((D1 - D1.min(axis=0))/(D1.max(axis=0) - D1.min(axis=0)))\n",
    "df_exp_tnbc_523_2 = D2"
   ]
  },
  {
   "cell_type": "code",
   "execution_count": null,
   "id": "b3291952",
   "metadata": {},
   "outputs": [],
   "source": [
    "#performing NMF\n",
    "k_nmf= ccal.mf_consensus_cluster_with_ks(\n",
    "    df_exp_tnbc_523_2,\n",
    "    list(range(4,10)),\n",
    "    n_job=4,\n",
    "    plot_df=False,\n",
    "    plot_w=True,\n",
    "    plot_h=True,\n",
    "    directory_path='/Volumes/SSD_Yue/NMF_Onco_gps_results/NMF_using_524_genes_selected_using_pan_cancer_cell_lines_including_MYC_on_30_updated_TNBC_cell_lines_normalized_for_samples_12222022/'\n",
    "#     n_clustering=1,\n",
    ")"
   ]
  },
  {
   "cell_type": "code",
   "execution_count": null,
   "id": "3e37ef09",
   "metadata": {},
   "outputs": [],
   "source": [
    "#Performing hierarchical clustering (HC) on H and W matrices\n",
    "for k in range(4, 10): \n",
    "    w=pd.read_csv('/Volumes/SSD_Yue/NMF_Onco_gps_results/NMF_using_524_genes_selected_using_pan_cancer_cell_lines_including_MYC_on_30_updated_TNBC_cell_lines_normalized_for_samples_12222022/{}/w.tsv'.format(k), sep='\\t', index_col=0)\n",
    "\n",
    "    h=pd.read_csv('/Volumes/SSD_Yue/NMF_Onco_gps_results/NMF_using_524_genes_selected_using_pan_cancer_cell_lines_including_MYC_on_30_updated_TNBC_cell_lines_normalized_for_samples_12222022/{}/h.tsv'.format(k), sep='\\t', index_col=0)\n",
    "\n",
    "    k_hcc = ccal.hierarchical_consensus_cluster_with_ks(\n",
    "        w,\n",
    "        list(range(4,10)),\n",
    "        n_job = 1,\n",
    "        distance_function = ccal.compute_correlation_distance,\n",
    "        n_clustering = 40,\n",
    "        plot_df = True,\n",
    "    directory_path='/Volumes/SSD_Yue/NMF_Onco_gps_results/NMF_using_524_genes_selected_using_pan_cancer_cell_lines_including_MYC_on_30_updated_TNBC_cell_lines_normalized_for_samples_12222022/{}/W'.format(k))\n",
    "    \n",
    "    k_hcc = ccal.hierarchical_consensus_cluster_with_ks(\n",
    "        h,\n",
    "        list(range(4,10)),\n",
    "        n_job = 1,\n",
    "        distance_function = ccal.compute_correlation_distance,\n",
    "        n_clustering = 40,\n",
    "        plot_df = True,\n",
    "    directory_path='/Volumes/SSD_Yue/NMF_Onco_gps_results/NMF_using_524_genes_selected_using_pan_cancer_cell_lines_including_MYC_on_30_updated_TNBC_cell_lines_normalized_for_samples_12222022/{}/H'.format(k))"
   ]
  },
  {
   "cell_type": "code",
   "execution_count": null,
   "id": "fa900155",
   "metadata": {},
   "outputs": [],
   "source": [
    "#This color is consistent with the CCLE state colors in the paper figure\n",
    "Onco_GPS_colors = [\n",
    "                '#0000FF',  # F1 EMT \n",
    "                '#8B0000',  # F3 EGFR signaling + NFKB signaling\n",
    "                '#ADD8E6',  # F0 NOTCH signaling + partial-EMT state\n",
    "                '#E9967A',  # F5 DNA damage response\n",
    "                '#FF7F24',  # F2 PI3K-Akt + luminal-like state\n",
    "                '#7FFFD4',  # F6 MAGE protein family\n",
    "                '#EE3B3B',  # F4\n",
    "                '#cc99cc',  # 3 Dark magenta  \n",
    "                '#fce94f',  # 4 Butter\n",
    "\n",
    "                '#fe2c54',  # 6 Redish pink \n",
    "                '#AFF8DB',  # 7 Green\n",
    "                '#ffad01',  # 8 Orange yellow\n",
    "\n",
    "                '#AAAAFF',  # 10 Periwinkle\n",
    "\n",
    "                '#FA8072',  # 12 Salmon\n",
    "                '#ffccf9',  # 13 Pink \n",
    "                '#90EE90',  # 14 Light green \n",
    "                '#c4a000',  # 15\n",
    "                '#e6194b',  # 16\n",
    "                '#3cb44b',  # 17\n",
    "                '#ffe119']  # 18"
   ]
  },
  {
   "cell_type": "code",
   "execution_count": null,
   "id": "f4a421ba",
   "metadata": {},
   "outputs": [],
   "source": [
    "#To generate CCLE TNBC cell line identity map\n",
    "w=pd.read_csv('/Volumes/SSD_Yue/NMF_Onco_gps_results/NMF_using_524_genes_selected_using_pan_cancer_cell_lines_including_MYC_on_30_updated_TNBC_cell_lines_normalized_for_samples_12222022/for_map_generation/CCLE_model_w_edited.tsv', sep='\\t', index_col=0)\n",
    "h=pd.read_csv('/Volumes/SSD_Yue/NMF_Onco_gps_results/NMF_using_524_genes_selected_using_pan_cancer_cell_lines_including_MYC_on_30_updated_TNBC_cell_lines_normalized_for_samples_12222022/for_map_generation/CCLE_model_h_edited.tsv', sep='\\t', index_col=0)\n",
    "wT =w.T\n",
    "wT.index.name = h.index.name\n",
    "\n",
    "h_clustering = pd.read_csv('/Volumes/SSD_Yue/NMF_Onco_gps_results/NMF_using_524_genes_selected_using_pan_cancer_cell_lines_including_MYC_on_30_updated_TNBC_cell_lines_normalized_for_samples_12222022/for_map_generation/CCLE_model_HC_cluster_x_column_edited.tsv', sep='\\t', index_col=0)\n",
    "h_element_labels = h_clustering.apply(lambda column: column.argmax())#.str.lstrip('C').astype(int)\n",
    "h_element_labels.value_counts()\n",
    "\n",
    "        \n",
    "gps_map = ccal.GPSMap(\n",
    "                w = wT,\n",
    "                h = h,\n",
    "                w_n_pull = 3,\n",
    "                w_pull_power = 3,\n",
    "                h_n_pull = 3,\n",
    "                h_pull_power = 3,\n",
    "                plot = False,\n",
    "                mds_random_seed = 27)\n",
    "\n",
    "gps_map.set_element_labels(\n",
    "                        w_or_h = 'h',\n",
    "                        element_labels = h_element_labels,\n",
    "                        n_grid = 64,\n",
    "                        label_colors = Onco_GPS_colors[0:7],\n",
    "                        bandwidth_factor = 6)\n",
    "\n",
    "\n",
    "gps_map.plot_gps_map(\n",
    "                w_or_h = 'h',\n",
    "                element_marker_size = 24,\n",
    "                title = \n",
    "                   'CCLE TNBC Model State Map',\n",
    "                html_file_path = \n",
    "                   '/Volumes/SSD_Yue/NMF_Onco_gps_results/NMF_using_524_genes_selected_using_pan_cancer_cell_lines_including_MYC_on_30_updated_TNBC_cell_lines_normalized_for_samples_12222022/maps/CCLE_TNBC_model_cellular_state_map_11132024.html')     "
   ]
  }
 ],
 "metadata": {
  "kernelspec": {
   "display_name": "Python 3",
   "language": "python",
   "name": "python3"
  },
  "language_info": {
   "codemirror_mode": {
    "name": "ipython",
    "version": 3
   },
   "file_extension": ".py",
   "mimetype": "text/x-python",
   "name": "python",
   "nbconvert_exporter": "python",
   "pygments_lexer": "ipython3",
   "version": "3.8.12"
  }
 },
 "nbformat": 4,
 "nbformat_minor": 5
}
