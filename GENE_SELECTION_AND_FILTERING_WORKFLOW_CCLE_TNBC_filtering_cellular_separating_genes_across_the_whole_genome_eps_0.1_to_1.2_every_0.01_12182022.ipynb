{
 "cells": [
  {
   "cell_type": "code",
   "execution_count": null,
   "id": "36a119f5",
   "metadata": {},
   "outputs": [],
   "source": [
    "import pandas as pd\n",
    "import numpy as np\n",
    "import matplotlib.pyplot as plt\n",
    "from matplotlib import interactive\n",
    "interactive(True)\n",
    "import itertools\n",
    "from sklearn.metrics import silhouette_score\n",
    "from sklearn.cluster import DBSCAN\n",
    "import sklearn.utils\n",
    "from sklearn.preprocessing import StandardScaler\n",
    "import itertools\n",
    "import math\n",
    "import seaborn as sns\n",
    "import scipy as sp\n",
    "import pickle"
   ]
  },
  {
   "cell_type": "code",
   "execution_count": null,
   "id": "366c8100",
   "metadata": {},
   "outputs": [],
   "source": [
    "df_exp=pd.read_csv('../../../Downloads/CCLE_expression_22Q2.csv', index_col=0)\n",
    "df_exp.columns=[i.split(' (')[0] for i in df_exp.columns]\n",
    "df_tnbc_info=pd.read_csv('updated_TNBC_list_12032022.csv')\n",
    "whole_genome=df_exp.columns.tolist()\n",
    "df_exp_tnbc=df_exp[df_exp.index.isin(df_tnbc_info.DepMap_ID)]"
   ]
  },
  {
   "cell_type": "code",
   "execution_count": null,
   "id": "51c9810f",
   "metadata": {},
   "outputs": [],
   "source": [
    "df_tmp = df_exp[['MYC', 'WNT6']]\n",
    "\n",
    "df_tmp_t = StandardScaler().fit_transform(df_tmp)\n",
    "\n",
    "db = DBSCAN(eps=0.2, min_samples=10).fit(df_tmp_t)\n",
    "labels = db.labels_\n",
    "\n",
    "realClusterNum = len(set(labels)) - (1 if -1 in labels else 0)\n",
    "clusterNum = len(set(labels))\n",
    "\n",
    "set(labels)\n",
    "\n",
    "labels = db.labels_\n",
    "\n",
    "no_clusters = len(np.unique(labels) )\n",
    "no_noise = np.sum(np.array(labels) == -1, axis=0)\n",
    "\n",
    "print('Estimated no. of clusters: %d' % clusterNum)\n",
    "print('Estimated no. of noise points: %d' % no_noise)\n",
    "\n",
    "X = df_tmp_t\n",
    "\n",
    "# Generate scatter plot for training data\n",
    "plt.scatter(df_tmp['MYC'], df_tmp['WNT6'], c=db.labels_.astype(float), marker=\"o\", picker=True)\n",
    "plt.title('ANXA8 vs MYC')\n",
    "plt.xlabel('MYC')\n",
    "plt.ylabel('ANXA8')\n",
    "plt.show()"
   ]
  },
  {
   "cell_type": "code",
   "execution_count": null,
   "id": "e0270003",
   "metadata": {},
   "outputs": [],
   "source": []
  },
  {
   "cell_type": "markdown",
   "id": "f9f608b7",
   "metadata": {},
   "source": [
    "###  The codes to run DBscan on a series of eps: 0.1-1.2, every 0.01. Together, there are 111 eps tested."
   ]
  },
  {
   "cell_type": "code",
   "execution_count": null,
   "id": "65f4cd6a",
   "metadata": {},
   "outputs": [],
   "source": [
    "list_eps=np.arange(0.1, 1.21, 0.01).tolist()\n",
    "def centeroidnp(arr):\n",
    "    length = arr.shape[0]\n",
    "    sum_x = np.sum(arr[:, 0])\n",
    "    sum_y = np.sum(arr[:, 1])\n",
    "    return sum_x/length, sum_y/length"
   ]
  },
  {
   "cell_type": "code",
   "execution_count": null,
   "id": "29224405",
   "metadata": {},
   "outputs": [],
   "source": [
    "gene_index_list=[]\n",
    "eps_list=[]\n",
    "cluster_number_list=[]\n",
    "pan_cancer_distribution_list=[]\n",
    "TNBC_distribution_list=[]\n",
    "\n",
    "cluster_combination_list=[]\n",
    "TNBC_distribution_in_this_cluster_list=[]\n",
    "centroid_distance_list=[]\n",
    "cluster_separation_list=[]\n",
    "\n",
    "for i in whole_genome[18000:]:\n",
    "    for j in list_eps:\n",
    "        df_tmp = df_exp[['MYC', i]]\n",
    "        df_tmp_t = StandardScaler().fit_transform(df_tmp)\n",
    "        db = DBSCAN(eps=j, min_samples=30).fit(df_tmp_t)\n",
    "        labels = db.labels_\n",
    "        df_tmp['labels']= labels\n",
    "        realClusterNum = len(set(labels)) - (1 if -1 in labels else 0)\n",
    "        clusterNum = len(set(labels))\n",
    "        \n",
    "    \n",
    "    \n",
    "\n",
    "        \n",
    "        pan_cancer_distibution={}\n",
    "        df_dis=df_tmp['labels'].value_counts().to_frame()\n",
    "        \n",
    "        for h in df_dis.index.tolist():\n",
    "            pan_cancer_distibution[str(h)]=df_dis.loc[h, 'labels']\n",
    "        \n",
    "        \n",
    "        #s_score_dict={}\n",
    "        #for subset in itertools.combinations(set(labels), 2):\n",
    "        #    df_test = df_tmp[(df_tmp.labels==subset[0]) | (df_tmp.labels==subset[1])]\n",
    "        #    V = df_test[['MYC',i]].values\n",
    "        #    v_labels = df_test['labels'].tolist()\n",
    "        #    score = silhouette_score(V, v_labels, metric='euclidean')\n",
    "        #    s_score_dict[subset]=score\n",
    "        #silhouette_score_list.append(s_score_dict)\n",
    "        \n",
    "        TNBC_distibution={}\n",
    "        df_tnbc_dis=df_tmp[df_tmp.index.isin(df_tnbc_info.DepMap_ID)]['labels'].value_counts().to_frame()\n",
    "        for k in df_tnbc_dis.index.tolist():\n",
    "            TNBC_distibution[str(k)]=df_tnbc_dis.loc[k, 'labels']\n",
    "\n",
    "        if len(set(labels))<2:\n",
    "            gene_index_list.append(i)\n",
    "            eps_list.append(j)\n",
    "            cluster_number_list.append(clusterNum)\n",
    "            pan_cancer_distribution_list.append(pan_cancer_distibution)\n",
    "            TNBC_distribution_list.append(TNBC_distibution)\n",
    "            cluster_combination_list.append(np.nan)\n",
    "            TNBC_distribution_in_this_cluster_list.append(np.nan)\n",
    "            cluster_separation_list.append(np.nan)\n",
    "            centroid_distance_list.append(np.nan)\n",
    "        else:\n",
    "            for subset in itertools.combinations(set(labels), 2):\n",
    "                gene_index_list.append(i)\n",
    "                eps_list.append(j)\n",
    "                cluster_number_list.append(clusterNum)\n",
    "                pan_cancer_distribution_list.append(pan_cancer_distibution)\n",
    "                TNBC_distribution_list.append(TNBC_distibution)\n",
    "            \n",
    "                cluster_combination_list.append(subset)\n",
    "            \n",
    "                df_tmp_1=df_tmp[df_tmp.labels==subset[0]]\n",
    "                df_tmp_2=df_tmp[df_tmp.labels==subset[1]]\n",
    "            \n",
    "                TNBC_in_this_cluster_distribution={}\n",
    "            \n",
    "                TNBC_in_this_cluster_distribution[subset[0]]=df_tmp_1[df_tmp_1.index.isin(tnbc_list)].shape[0]\n",
    "                TNBC_in_this_cluster_distribution[subset[1]]=df_tmp_2[df_tmp_2.index.isin(tnbc_list)].shape[0]\n",
    "            \n",
    "                TNBC_distribution_in_this_cluster_list.append(TNBC_in_this_cluster_distribution)\n",
    "            \n",
    "                if max(df_tmp_1[i.split('_')[0]]) > max(df_tmp_2[i.split('_')[0]]):\n",
    "                    cluster_separation_list.append(min(df_tmp_1[i.split('_')[0]])-max(df_tmp_2[i.split('_')[0]]))\n",
    "                else:\n",
    "                    cluster_separation_list.append(min(df_tmp_2[i.split('_')[0]])-max(df_tmp_1[i.split('_')[0]])) \n",
    "\n",
    "            \n",
    "        \n",
    "                centroid_1=centeroidnp(np.asanyarray(df_tmp_1[['MYC', i.split('_')[0]]]))\n",
    "                centroid_2=centeroidnp(np.asanyarray(df_tmp_2[['MYC', i.split('_')[0]]]))\n",
    "        \n",
    "                subset_distance=math.dist(centroid_1, centroid_2)\n",
    "                centroid_distance_list.append(subset_distance)\n",
    "        \n",
    "        \n",
    "#df_results_1=pd.DataFrame(list(zip(gene_index_list, eps_list, cluster_number_list, pan_cancer_distribution_list, TNBC_distribution_list, cluster_combination_list,\n",
    "#                     TNBC_distribution_in_this_cluster_list, centroid_distance_list, cluster_separation_list)),\n",
    "#               columns =['gene', 'eps', 'pan_cancer_cluster_number', 'pan_cancer_distribution', 'TNBC_distribution', 'cluster_combination', 'TNBC_distribution_in_this_cluster', 'centroid_distance', 'cluster_separation'])\n",
    "#df_results_1.to_csv('18000_19221_CCLE_TNBC_genome_wide_searching_for_genes_separating_cellular_states_another_method_eps_from_0.1_to_1.2_every_0.01_12172022.csv')"
   ]
  },
  {
   "cell_type": "markdown",
   "id": "97faafdd",
   "metadata": {},
   "source": [
    "### The DBscan results are stored in the dataframe `df_all`."
   ]
  },
  {
   "cell_type": "code",
   "execution_count": null,
   "id": "28c99874",
   "metadata": {},
   "outputs": [],
   "source": [
    "df_all=pd.read_csv('/Volumes/SSD_Yue/TNBC_MYC_heterogeneity_data/CCLE_TNBC_raw_gene_filtering_result_for_eps_0.1_to_1.2_every_0.01_across_the_whole_genome_using_another_method_12182022.csv', index_col=0)"
   ]
  },
  {
   "cell_type": "code",
   "execution_count": null,
   "id": "609ffd3e",
   "metadata": {},
   "outputs": [],
   "source": [
    "# You should drop all the columns named 'Unnamed:'."
   ]
  },
  {
   "cell_type": "code",
   "execution_count": null,
   "id": "5e9ade37",
   "metadata": {},
   "outputs": [],
   "source": [
    "df_all.head()"
   ]
  },
  {
   "cell_type": "code",
   "execution_count": null,
   "id": "9d0b34bc",
   "metadata": {},
   "outputs": [],
   "source": [
    "df_all.shape"
   ]
  },
  {
   "cell_type": "code",
   "execution_count": null,
   "id": "4e9a3c2e",
   "metadata": {},
   "outputs": [],
   "source": [
    "df_all['pan_cancer_distribution']=df_all['pan_cancer_distribution'].apply(lambda x: eval(x))"
   ]
  },
  {
   "cell_type": "code",
   "execution_count": null,
   "id": "92cf034c",
   "metadata": {},
   "outputs": [],
   "source": [
    "df_all['TNBC_distribution']=df_all['TNBC_distribution'].apply(lambda x: eval(x))"
   ]
  },
  {
   "cell_type": "code",
   "execution_count": null,
   "id": "29774cc3",
   "metadata": {},
   "outputs": [],
   "source": [
    "df_all=df_all[~df_all.TNBC_distribution_in_this_cluster.isnull()]"
   ]
  },
  {
   "cell_type": "code",
   "execution_count": null,
   "id": "fe543af3",
   "metadata": {},
   "outputs": [],
   "source": [
    "df_all['TNBC_distribution_in_this_cluster']=df_all['TNBC_distribution_in_this_cluster'].apply(lambda x: eval(x))"
   ]
  },
  {
   "cell_type": "code",
   "execution_count": null,
   "id": "d654e9a9",
   "metadata": {},
   "outputs": [],
   "source": [
    "df_all['cluster_combination']=df_all['cluster_combination'].apply(lambda x: eval(x))"
   ]
  },
  {
   "cell_type": "markdown",
   "id": "72955009",
   "metadata": {},
   "source": [
    "### Filter 1: To filter out genes that have max expressions among TNBC cell lines that are lower than 3; To filter out genes with expression differences among TNBC cell lines that are lower than 3"
   ]
  },
  {
   "cell_type": "code",
   "execution_count": null,
   "id": "6c35a4be",
   "metadata": {},
   "outputs": [],
   "source": [
    "list_1=[]\n",
    "for i in whole_genome:\n",
    "    if df_exp_tnbc[i].max() >3:\n",
    "        if df_exp_tnbc[i].max()- df_exp_tnbc[i].min() >3:\n",
    "            list_1.append(i)"
   ]
  },
  {
   "cell_type": "code",
   "execution_count": null,
   "id": "6f24fbe0",
   "metadata": {},
   "outputs": [],
   "source": [
    "len(list_1)"
   ]
  },
  {
   "cell_type": "code",
   "execution_count": null,
   "id": "01cb4028",
   "metadata": {},
   "outputs": [],
   "source": [
    "df_selection_1=df_all[df_all.gene.isin(list_1)]\n",
    "df_selection_1.reset_index(drop=True, inplace=True)"
   ]
  },
  {
   "cell_type": "code",
   "execution_count": null,
   "id": "8a98152a",
   "metadata": {},
   "outputs": [],
   "source": [
    "df_selection_1.shape"
   ]
  },
  {
   "cell_type": "code",
   "execution_count": null,
   "id": "a3fa3dd6",
   "metadata": {},
   "outputs": [],
   "source": [
    "df_selection_1.head()"
   ]
  },
  {
   "cell_type": "markdown",
   "id": "511822f0",
   "metadata": {},
   "source": [
    "### Filter 2: To select genes with at least one cluster combination where at least 3 TNBC cell lines in each cluster, and centroid distance above 3 and cluster separation above 1."
   ]
  },
  {
   "cell_type": "code",
   "execution_count": null,
   "id": "2b881aa5",
   "metadata": {},
   "outputs": [],
   "source": [
    "df_selection_2= df_selection_1[~df_selection_1['TNBC_distribution_in_this_cluster'].apply(lambda x: -1 in x.keys())]"
   ]
  },
  {
   "cell_type": "code",
   "execution_count": null,
   "id": "d3a0828d",
   "metadata": {},
   "outputs": [],
   "source": [
    "df_selection_2.head()"
   ]
  },
  {
   "cell_type": "code",
   "execution_count": null,
   "id": "f686f1ec",
   "metadata": {},
   "outputs": [],
   "source": [
    "df_selection_2.shape"
   ]
  },
  {
   "cell_type": "code",
   "execution_count": null,
   "id": "92e595dc",
   "metadata": {},
   "outputs": [],
   "source": [
    "df_selection_3=df_selection_2[df_selection_2['TNBC_distribution_in_this_cluster'].apply(lambda x: [x[key]>=3 for key  in list(x.keys())]== [True, True])]"
   ]
  },
  {
   "cell_type": "code",
   "execution_count": null,
   "id": "aeed256a",
   "metadata": {},
   "outputs": [],
   "source": [
    "df_selection_4=df_selection_3[(df_selection_3.centroid_distance_for_this_cluster_combination>3) & (df_selection_3.cluster_separation_for_this_cluster_combination>1)]"
   ]
  },
  {
   "cell_type": "code",
   "execution_count": null,
   "id": "2daea616",
   "metadata": {},
   "outputs": [],
   "source": [
    "df_selection_4.shape"
   ]
  },
  {
   "cell_type": "code",
   "execution_count": null,
   "id": "9325dde6",
   "metadata": {},
   "outputs": [],
   "source": [
    "df_selection_4.head()"
   ]
  },
  {
   "cell_type": "code",
   "execution_count": null,
   "id": "c06d237c",
   "metadata": {},
   "outputs": [],
   "source": [
    "len(df_selection_4.gene.unique().tolist())"
   ]
  },
  {
   "cell_type": "code",
   "execution_count": null,
   "id": "b023c932",
   "metadata": {},
   "outputs": [],
   "source": [
    "list_gene_selected= df_selection_4.gene.unique().tolist()"
   ]
  },
  {
   "cell_type": "code",
   "execution_count": null,
   "id": "7e68b3a3",
   "metadata": {},
   "outputs": [],
   "source": [
    "df_selection_4.to_csv('CCLE_TNBC_cell_lines_cellular_state_separating_gene_selection_results_12202022.csv')"
   ]
  },
  {
   "cell_type": "markdown",
   "id": "fee63303",
   "metadata": {},
   "source": [
    "### We are going to compare these 523 genes with the 399 genes we got previously"
   ]
  },
  {
   "cell_type": "code",
   "execution_count": null,
   "id": "81003bb7",
   "metadata": {},
   "outputs": [],
   "source": [
    "df_previous=pd.read_csv('gene_filtering_results_after_a_denser_series_of_eps_across_the_whole_genome_using_updated_30_TNBC_cell_lines_12032022.csv')"
   ]
  },
  {
   "cell_type": "code",
   "execution_count": null,
   "id": "267c7a68",
   "metadata": {},
   "outputs": [],
   "source": [
    "list_previous=df_previous.gene.unique().tolist()"
   ]
  },
  {
   "cell_type": "code",
   "execution_count": null,
   "id": "379dab81",
   "metadata": {},
   "outputs": [],
   "source": [
    "len(list_previous)"
   ]
  },
  {
   "cell_type": "code",
   "execution_count": null,
   "id": "c5cebdb2",
   "metadata": {},
   "outputs": [],
   "source": [
    "len(list(set(list_previous) & set(list_gene_selected)))"
   ]
  },
  {
   "cell_type": "code",
   "execution_count": null,
   "id": "e9c84ca1",
   "metadata": {},
   "outputs": [],
   "source": [
    "list_2=[]\n",
    "for i in list_previous:\n",
    "    if i not in list_gene_selected:\n",
    "        list_2.append(i)"
   ]
  },
  {
   "cell_type": "code",
   "execution_count": null,
   "id": "2475667d",
   "metadata": {},
   "outputs": [],
   "source": [
    "list_2"
   ]
  },
  {
   "cell_type": "code",
   "execution_count": null,
   "id": "24269955",
   "metadata": {},
   "outputs": [],
   "source": [
    "i=list_2[0]\n",
    "df_tmp = df_exp[['MYC', i]]\n",
    "\n",
    "df_tmp_t = StandardScaler().fit_transform(df_tmp)\n",
    "\n",
    "db = DBSCAN(eps=0.18, min_samples=30).fit(df_tmp_t)\n",
    "labels = db.labels_\n",
    "df_tmp['labels']=labels\n",
    "\n",
    "realClusterNum = len(set(labels)) - (1 if -1 in labels else 0)\n",
    "clusterNum = len(set(labels))\n",
    "\n",
    "set(labels)\n",
    "\n",
    "labels = db.labels_\n",
    "\n",
    "no_clusters = len(np.unique(labels) )\n",
    "no_noise = np.sum(np.array(labels) == -1, axis=0)\n",
    "\n",
    "print('Estimated no. of clusters: %d' % clusterNum)\n",
    "print('Estimated no. of noise points: %d' % no_noise)\n",
    "\n",
    "X = df_tmp\n",
    "\n",
    "# Generate scatter plot for training data\n",
    "plt.scatter(X.iloc[:,0], X.iloc[:,1], c=db.labels_.astype(float), marker=\"o\", picker=True)\n",
    "plt.title('{} vs MYC'.format(i))\n",
    "plt.xlabel('MYC')\n",
    "plt.ylabel('{}'.format(i))\n",
    "plt.show()\n",
    "\n",
    "for subset in itertools.combinations(set(labels), 2):\n",
    "    if subset == (0, 1):\n",
    "        df_tmp_1=df_tmp[df_tmp.labels==subset[0]]\n",
    "        df_tmp_2=df_tmp[df_tmp.labels==subset[1]]\n",
    "        if max(df_tmp_1[i]) > max(df_tmp_2[i]):\n",
    "            aa= min(df_tmp_1[i])-max(df_tmp_2[i])\n",
    "        else:\n",
    "            aa = min(df_tmp_2[i])-max(df_tmp_1[i])\n",
    "        centroid_1=centeroidnp(np.asanyarray(df_tmp_1[['MYC', i]]))\n",
    "        centroid_2=centeroidnp(np.asanyarray(df_tmp_2[['MYC', i]]))\n",
    "        b= math.dist(centroid_1, centroid_2)\n",
    "\n",
    "TNBC_distibution={}\n",
    "df_tnbc_dis=df_tmp[df_tmp.index.isin(df_tnbc_info.DepMap_ID)]['labels'].value_counts().to_frame()\n",
    "for k in df_tnbc_dis.index.tolist():\n",
    "    TNBC_distibution[str(k)]=df_tnbc_dis.loc[k, 'labels']\n",
    "\n",
    "print('Cluster separation: %d' % aa)\n",
    "print('Centroid distance: %d' % b)\n",
    "print(TNBC_distibution)"
   ]
  },
  {
   "cell_type": "code",
   "execution_count": null,
   "id": "7891f4a5",
   "metadata": {},
   "outputs": [],
   "source": [
    "df_selected_to_plot=df_selection_4.drop_duplicates('gene', inplace=False, keep='first')"
   ]
  },
  {
   "cell_type": "code",
   "execution_count": null,
   "id": "d31adb1d",
   "metadata": {},
   "outputs": [],
   "source": [
    "df_selected_to_plot['combination']=df_selected_to_plot.apply(lambda x: str(x['gene']) + '_' + str(x['eps']), axis=1)"
   ]
  },
  {
   "cell_type": "code",
   "execution_count": null,
   "id": "e370aa0c",
   "metadata": {},
   "outputs": [],
   "source": [
    "list_test_2=df_selected_to_plot.combination.tolist()"
   ]
  },
  {
   "cell_type": "code",
   "execution_count": null,
   "id": "734e7449",
   "metadata": {},
   "outputs": [],
   "source": [
    "tnbc_list=df_tnbc_info.DepMap_ID.tolist()"
   ]
  },
  {
   "cell_type": "code",
   "execution_count": null,
   "id": "acd06e13",
   "metadata": {},
   "outputs": [],
   "source": [
    "list_scRNA_available=['ACH-000374', 'ACH-001390', 'ACH-001391', 'ACH-000768', 'ACH-000288', 'ACH-000849', 'ACH-000910', 'ACH-000668', 'ACH-000573', 'ACH-000111']\n",
    "#list_except=[i for i in tnbc_list if i not in list_scRNA_available]"
   ]
  },
  {
   "cell_type": "code",
   "execution_count": null,
   "id": "521afbad",
   "metadata": {},
   "outputs": [],
   "source": [
    "dict_map={-1: 'gray', 0: 'yellow', 1: 'green', 2: 'orange', 3: 'pink', 4: 'purple', 5: 'cyan', 6: 'brown'}\n",
    "list_except=[i for i in tnbc_list if i not in list_scRNA_available]\n",
    "list_annotation=[]\n",
    "for i in df_exp.index.tolist():\n",
    "    if i in list_scRNA_available:\n",
    "        list_annotation.append(df_tnbc_info.loc[df_tnbc_info.DepMap_ID==i, 'stripped_cell_line_name'].tolist()[0])\n",
    "    else:\n",
    "        list_annotation.append('')"
   ]
  },
  {
   "cell_type": "markdown",
   "id": "45552878",
   "metadata": {},
   "source": [
    "### We plot the expressions of these 399 genes against MYC expression for 1406 CCLE cell lines and annotate different clusters identified by dbscan and TNBC cell lines (TNBC cell lines with scRNA-seq data are colored in red and TNBC cell lines without scRNA-seq data are colored in blue)."
   ]
  },
  {
   "cell_type": "code",
   "execution_count": null,
   "id": "91a736d9",
   "metadata": {},
   "outputs": [],
   "source": [
    "list_extra=[]\n",
    "for i in list_gene_selected:\n",
    "    if i not in list_previous:\n",
    "        list_extra.append(i)"
   ]
  },
  {
   "cell_type": "code",
   "execution_count": null,
   "id": "af438662",
   "metadata": {},
   "outputs": [],
   "source": [
    "df_selection_4['eps']=df_selection_4.eps.round(2)"
   ]
  },
  {
   "cell_type": "code",
   "execution_count": null,
   "id": "21a43b4e",
   "metadata": {},
   "outputs": [],
   "source": [
    "df_selection_4['combination']=df_selection_4.apply(lambda x: str(x['gene']) + '_' + str(x['eps']), axis=1)\n",
    "df_previous['combination']=df_previous.apply(lambda x: str(x['gene']) + '_' + str(x['eps']), axis=1)"
   ]
  },
  {
   "cell_type": "code",
   "execution_count": null,
   "id": "52b08e55",
   "metadata": {},
   "outputs": [],
   "source": [
    "df_merged=pd.merge(df_previous,df_selection_4, left_on='combination', right_on='combination')"
   ]
  },
  {
   "cell_type": "code",
   "execution_count": null,
   "id": "f2b73c07",
   "metadata": {},
   "outputs": [],
   "source": [
    "df_merged.shape"
   ]
  },
  {
   "cell_type": "code",
   "execution_count": null,
   "id": "345a51d1",
   "metadata": {},
   "outputs": [],
   "source": [
    "df_selection_4.shape"
   ]
  },
  {
   "cell_type": "code",
   "execution_count": null,
   "id": "46291007",
   "metadata": {},
   "outputs": [],
   "source": [
    "len(df_merged.gene_x.unique().tolist())"
   ]
  },
  {
   "cell_type": "code",
   "execution_count": null,
   "id": "51564e2a",
   "metadata": {},
   "outputs": [],
   "source": [
    "len(df_merged[(df_merged.centroid_distance==df_merged.centroid_distance_for_this_cluster_combination)& (df_merged.cluster_separation_for_this_cluster_combination==df_merged.centroid_separation)].gene_x.unique().tolist())"
   ]
  },
  {
   "cell_type": "code",
   "execution_count": null,
   "id": "8f8b267e",
   "metadata": {},
   "outputs": [],
   "source": [
    "list_to_plot_3=df_selected_to_plot[df_selected_to_plot.gene.isin(list_extra)].combination.tolist()"
   ]
  },
  {
   "cell_type": "code",
   "execution_count": null,
   "id": "f838b8d6",
   "metadata": {},
   "outputs": [],
   "source": [
    "len(list_extra)"
   ]
  },
  {
   "cell_type": "code",
   "execution_count": null,
   "id": "848e6640",
   "metadata": {
    "scrolled": true
   },
   "outputs": [],
   "source": [
    "for i in list_to_plot_3:\n",
    "    df_tmp = df_exp[['MYC', i.split('_')[0]]]\n",
    "    df_tmp_t = StandardScaler().fit_transform(df_tmp)\n",
    "    db = DBSCAN(eps=float(i.split('_')[1]), min_samples=30).fit(df_tmp_t)\n",
    "    labels = db.labels_\n",
    "    df_tmp['labels']= labels\n",
    "    df_tmp['alpha']=0.1\n",
    "    df_tmp['color']=df_tmp['labels'].map(dict_map)\n",
    "    list_labels=[i for i in df_tmp.labels.unique().tolist() if i is not -1]\n",
    "    \n",
    "    for j in df_tmp.index.tolist():\n",
    "        if j in list_except:\n",
    "            df_tmp.loc[j, 'color']='blue'\n",
    "            df_tmp.loc[j, 'alpha']=1\n",
    "        elif j in list_scRNA_available:\n",
    "            df_tmp.loc[j, 'color']='red'\n",
    "            df_tmp.loc[j, 'alpha']=1\n",
    "    \n",
    "    fig, ax = plt.subplots()\n",
    "    ax.scatter(df_exp['MYC'], df_exp[i.split('_')[0]], c=df_tmp['color'].tolist(), alpha=df_tmp['alpha'].tolist())\n",
    "    plt.xlabel(\"MYC\")\n",
    "    plt.ylabel(i.split('_')[0])\n",
    "\n",
    "    for k, txt in enumerate(list_annotation):\n",
    "        ax.annotate(txt, (df_exp['MYC'][k], df_exp[i.split('_')[0]][k]), fontsize=7)\n",
    "   # for h in list_labels:\n",
    "    #    ax.annotate('cluster {} : '.format(h) + '{}'.format(df_TNBC_cell_line_cluster_assignment.loc[df_TNBC_cell_line_cluster_assignment.gene==i.split('_')[0], 'cluster_{}'.format(h)].tolist()[0]), (0, df_exp[i.split('_')[0]].max()-(h+0.15)), fontsize=7)\n",
    "   # plt.savefig('./399_filtered_genes_after_using_a_denser_eps_series_across_the_whole_genome_for_updated_30_TNBC_cell_lines_12032022/{}_vs_MYC_gene_expression_12032022.png'.format(i.split('_')[0]), dpi=150)"
   ]
  },
  {
   "cell_type": "code",
   "execution_count": null,
   "id": "fb47ed67",
   "metadata": {},
   "outputs": [],
   "source": []
  }
 ],
 "metadata": {
  "kernelspec": {
   "display_name": "Python 3",
   "language": "python",
   "name": "python3"
  },
  "language_info": {
   "codemirror_mode": {
    "name": "ipython",
    "version": 3
   },
   "file_extension": ".py",
   "mimetype": "text/x-python",
   "name": "python",
   "nbconvert_exporter": "python",
   "pygments_lexer": "ipython3",
   "version": "3.8.12"
  }
 },
 "nbformat": 4,
 "nbformat_minor": 5
}
