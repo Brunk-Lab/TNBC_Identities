{
 "cells": [
  {
   "cell_type": "code",
   "execution_count": null,
   "id": "306627a2",
   "metadata": {},
   "outputs": [],
   "source": [
    "import pandas as pd\n",
    "import numpy as np\n",
    "import matplotlib.pyplot as plt\n",
    "from matplotlib import interactive\n",
    "interactive(True)\n",
    "import itertools\n",
    "from sklearn.metrics import silhouette_score\n",
    "from sklearn.cluster import DBSCAN\n",
    "import sklearn.utils\n",
    "from sklearn.preprocessing import StandardScaler\n",
    "import itertools\n",
    "import math\n",
    "import seaborn as sns\n",
    "import scipy as sp\n",
    "import pickle"
   ]
  },
  {
   "cell_type": "code",
   "execution_count": null,
   "id": "464c1711",
   "metadata": {},
   "outputs": [],
   "source": [
    "df_exp=pd.read_csv('../../../Downloads/CCLE_expression_22Q2.csv', index_col=0)\n",
    "df_exp.columns=[i.split(' (')[0] for i in df_exp.columns]\n",
    "df_tnbc_info=pd.read_csv('updated_TNBC_list_12032022.csv')\n",
    "whole_genome=df_exp.columns.tolist()\n",
    "df_exp_tnbc=df_exp[df_exp.index.isin(df_tnbc_info.DepMap_ID)]"
   ]
  },
  {
   "cell_type": "code",
   "execution_count": null,
   "id": "87f783e1",
   "metadata": {},
   "outputs": [],
   "source": [
    "#To play around with the 2-dimensional datasheet with random genes\n",
    "df_tmp = df_exp[['MYC', 'WNT6']]\n",
    "\n",
    "df_tmp_t = StandardScaler().fit_transform(df_tmp)\n",
    "\n",
    "db = DBSCAN(eps=0.2, min_samples=10).fit(df_tmp_t)\n",
    "labels = db.labels_\n",
    "\n",
    "realClusterNum = len(set(labels)) - (1 if -1 in labels else 0)\n",
    "clusterNum = len(set(labels))\n",
    "\n",
    "set(labels)\n",
    "\n",
    "labels = db.labels_\n",
    "\n",
    "no_clusters = len(np.unique(labels) )\n",
    "no_noise = np.sum(np.array(labels) == -1, axis=0)\n",
    "\n",
    "print('Estimated no. of clusters: %d' % clusterNum)\n",
    "print('Estimated no. of noise points: %d' % no_noise)\n",
    "\n",
    "X = df_tmp_t\n",
    "\n",
    "# Generate scatter plot for training data\n",
    "plt.scatter(df_tmp['MYC'], df_tmp['WNT6'], c=db.labels_.astype(float), marker=\"o\", picker=True)\n",
    "plt.title('WNT6 vs MYC')\n",
    "plt.xlabel('MYC')\n",
    "plt.ylabel('WNT6')\n",
    "plt.show()"
   ]
  },
  {
   "cell_type": "markdown",
   "id": "54509221",
   "metadata": {},
   "source": [
    "###  The codes to run DBscan on a series of eps: 0.1-1.2, every 0.01. Together, there are 111 eps tested."
   ]
  },
  {
   "cell_type": "code",
   "execution_count": null,
   "id": "3986fa60",
   "metadata": {},
   "outputs": [],
   "source": [
    "list_eps=np.arange(0.1, 1.21, 0.01).tolist()\n",
    "def centeroidnp(arr):\n",
    "    length = arr.shape[0]\n",
    "    sum_x = np.sum(arr[:, 0])\n",
    "    sum_y = np.sum(arr[:, 1])\n",
    "    return sum_x/length, sum_y/length"
   ]
  },
  {
   "cell_type": "code",
   "execution_count": null,
   "id": "5444f2e1",
   "metadata": {},
   "outputs": [],
   "source": [
    "gene_index_list=[]\n",
    "eps_list=[]\n",
    "cluster_number_list=[]\n",
    "pan_cancer_distribution_list=[]\n",
    "TNBC_distribution_list=[]\n",
    "\n",
    "cluster_combination_list=[]\n",
    "TNBC_distribution_in_this_cluster_list=[]\n",
    "centroid_distance_list=[]\n",
    "cluster_separation_list=[]\n",
    "\n",
    "#2000 genes were ran for each time. For example, 1:2000, 2000:4000, 4000:6000...\n",
    "for i in whole_genome[18000:]:\n",
    "    for j in list_eps:\n",
    "        df_tmp = df_exp[['MYC', i]]\n",
    "        df_tmp_t = StandardScaler().fit_transform(df_tmp)\n",
    "        db = DBSCAN(eps=j, min_samples=30).fit(df_tmp_t)\n",
    "        labels = db.labels_\n",
    "        df_tmp['labels']= labels\n",
    "        realClusterNum = len(set(labels)) - (1 if -1 in labels else 0)\n",
    "        clusterNum = len(set(labels))\n",
    "        \n",
    "    \n",
    "    \n",
    "\n",
    "        \n",
    "        pan_cancer_distibution={}\n",
    "        df_dis=df_tmp['labels'].value_counts().to_frame()\n",
    "        \n",
    "        for h in df_dis.index.tolist():\n",
    "            pan_cancer_distibution[str(h)]=df_dis.loc[h, 'labels']\n",
    "        \n",
    "        \n",
    "        #s_score_dict={}\n",
    "        #for subset in itertools.combinations(set(labels), 2):\n",
    "        #    df_test = df_tmp[(df_tmp.labels==subset[0]) | (df_tmp.labels==subset[1])]\n",
    "        #    V = df_test[['MYC',i]].values\n",
    "        #    v_labels = df_test['labels'].tolist()\n",
    "        #    score = silhouette_score(V, v_labels, metric='euclidean')\n",
    "        #    s_score_dict[subset]=score\n",
    "        #silhouette_score_list.append(s_score_dict)\n",
    "        \n",
    "        TNBC_distibution={}\n",
    "        df_tnbc_dis=df_tmp[df_tmp.index.isin(df_tnbc_info.DepMap_ID)]['labels'].value_counts().to_frame()\n",
    "        for k in df_tnbc_dis.index.tolist():\n",
    "            TNBC_distibution[str(k)]=df_tnbc_dis.loc[k, 'labels']\n",
    "\n",
    "        if len(set(labels))<2:\n",
    "            gene_index_list.append(i)\n",
    "            eps_list.append(j)\n",
    "            cluster_number_list.append(clusterNum)\n",
    "            pan_cancer_distribution_list.append(pan_cancer_distibution)\n",
    "            TNBC_distribution_list.append(TNBC_distibution)\n",
    "            cluster_combination_list.append(np.nan)\n",
    "            TNBC_distribution_in_this_cluster_list.append(np.nan)\n",
    "            cluster_separation_list.append(np.nan)\n",
    "            centroid_distance_list.append(np.nan)\n",
    "        else:\n",
    "            for subset in itertools.combinations(set(labels), 2):\n",
    "                gene_index_list.append(i)\n",
    "                eps_list.append(j)\n",
    "                cluster_number_list.append(clusterNum)\n",
    "                pan_cancer_distribution_list.append(pan_cancer_distibution)\n",
    "                TNBC_distribution_list.append(TNBC_distibution)\n",
    "            \n",
    "                cluster_combination_list.append(subset)\n",
    "            \n",
    "                df_tmp_1=df_tmp[df_tmp.labels==subset[0]]\n",
    "                df_tmp_2=df_tmp[df_tmp.labels==subset[1]]\n",
    "            \n",
    "                TNBC_in_this_cluster_distribution={}\n",
    "            \n",
    "                TNBC_in_this_cluster_distribution[subset[0]]=df_tmp_1[df_tmp_1.index.isin(tnbc_list)].shape[0]\n",
    "                TNBC_in_this_cluster_distribution[subset[1]]=df_tmp_2[df_tmp_2.index.isin(tnbc_list)].shape[0]\n",
    "            \n",
    "                TNBC_distribution_in_this_cluster_list.append(TNBC_in_this_cluster_distribution)\n",
    "            \n",
    "                if max(df_tmp_1[i.split('_')[0]]) > max(df_tmp_2[i.split('_')[0]]):\n",
    "                    cluster_separation_list.append(min(df_tmp_1[i.split('_')[0]])-max(df_tmp_2[i.split('_')[0]]))\n",
    "                else:\n",
    "                    cluster_separation_list.append(min(df_tmp_2[i.split('_')[0]])-max(df_tmp_1[i.split('_')[0]])) \n",
    "\n",
    "            \n",
    "        \n",
    "                centroid_1=centeroidnp(np.asanyarray(df_tmp_1[['MYC', i.split('_')[0]]]))\n",
    "                centroid_2=centeroidnp(np.asanyarray(df_tmp_2[['MYC', i.split('_')[0]]]))\n",
    "        \n",
    "                subset_distance=math.dist(centroid_1, centroid_2)\n",
    "                centroid_distance_list.append(subset_distance)\n",
    "        \n",
    "        \n",
    "#df_results_1=pd.DataFrame(list(zip(gene_index_list, eps_list, cluster_number_list, pan_cancer_distribution_list, TNBC_distribution_list, cluster_combination_list,\n",
    "#                     TNBC_distribution_in_this_cluster_list, centroid_distance_list, cluster_separation_list)),\n",
    "#               columns =['gene', 'eps', 'pan_cancer_cluster_number', 'pan_cancer_distribution', 'TNBC_distribution', 'cluster_combination', 'TNBC_distribution_in_this_cluster', 'centroid_distance', 'cluster_separation'])\n",
    "#df_results_1.to_csv('18000_19221_CCLE_TNBC_genome_wide_searching_for_genes_separating_cellular_states_another_method_eps_from_0.1_to_1.2_every_0.01_12172022.csv')"
   ]
  },
  {
   "cell_type": "markdown",
   "id": "e7d7468e",
   "metadata": {},
   "source": [
    "### The DBscan results are stored in the dataframe `df_all`."
   ]
  },
  {
   "cell_type": "code",
   "execution_count": null,
   "id": "65d75db0",
   "metadata": {},
   "outputs": [],
   "source": [
    "#The results for all the 19221 genes are compiled in this datasheet:\n",
    "df_all=pd.read_csv('/Volumes/SSD_Yue/TNBC_MYC_heterogeneity_data/CCLE_TNBC_raw_gene_filtering_result_for_eps_0.1_to_1.2_every_0.01_across_the_whole_genome_using_another_method_12182022.csv', index_col=0)"
   ]
  },
  {
   "cell_type": "code",
   "execution_count": null,
   "id": "9e3b9946",
   "metadata": {},
   "outputs": [],
   "source": [
    "# You should drop all the columns named 'Unnamed:'."
   ]
  },
  {
   "cell_type": "code",
   "execution_count": null,
   "id": "cc0f2714",
   "metadata": {},
   "outputs": [],
   "source": [
    "df_all.head()"
   ]
  },
  {
   "cell_type": "code",
   "execution_count": null,
   "id": "617789b7",
   "metadata": {},
   "outputs": [],
   "source": [
    "df_all.shape"
   ]
  },
  {
   "cell_type": "code",
   "execution_count": null,
   "id": "cc8b81bf",
   "metadata": {},
   "outputs": [],
   "source": [
    "df_all['pan_cancer_distribution']=df_all['pan_cancer_distribution'].apply(lambda x: eval(x))"
   ]
  },
  {
   "cell_type": "code",
   "execution_count": null,
   "id": "7e282ef1",
   "metadata": {},
   "outputs": [],
   "source": [
    "df_all['TNBC_distribution']=df_all['TNBC_distribution'].apply(lambda x: eval(x))"
   ]
  },
  {
   "cell_type": "code",
   "execution_count": null,
   "id": "0b21bdd9",
   "metadata": {},
   "outputs": [],
   "source": [
    "df_all=df_all[~df_all.TNBC_distribution_in_this_cluster.isnull()]"
   ]
  },
  {
   "cell_type": "code",
   "execution_count": null,
   "id": "182395f5",
   "metadata": {},
   "outputs": [],
   "source": [
    "df_all['TNBC_distribution_in_this_cluster']=df_all['TNBC_distribution_in_this_cluster'].apply(lambda x: eval(x))"
   ]
  },
  {
   "cell_type": "code",
   "execution_count": null,
   "id": "1de3187c",
   "metadata": {},
   "outputs": [],
   "source": [
    "df_all['cluster_combination']=df_all['cluster_combination'].apply(lambda x: eval(x))"
   ]
  },
  {
   "cell_type": "markdown",
   "id": "82d76d03",
   "metadata": {},
   "source": [
    "### Filter 1: To filter out genes that have max expressions among TNBC cell lines that are lower than 3; To filter out genes with expression differences among TNBC cell lines that are lower than 3"
   ]
  },
  {
   "cell_type": "code",
   "execution_count": null,
   "id": "fdf31216",
   "metadata": {},
   "outputs": [],
   "source": [
    "list_1=[]\n",
    "for i in whole_genome:\n",
    "    if df_exp_tnbc[i].max() >3:\n",
    "        if df_exp_tnbc[i].max()- df_exp_tnbc[i].min() >3:\n",
    "            list_1.append(i)"
   ]
  },
  {
   "cell_type": "code",
   "execution_count": null,
   "id": "b926e57e",
   "metadata": {},
   "outputs": [],
   "source": [
    "len(list_1)"
   ]
  },
  {
   "cell_type": "code",
   "execution_count": null,
   "id": "68b4e982",
   "metadata": {},
   "outputs": [],
   "source": [
    "df_selection_1=df_all[df_all.gene.isin(list_1)]\n",
    "df_selection_1.reset_index(drop=True, inplace=True)"
   ]
  },
  {
   "cell_type": "code",
   "execution_count": null,
   "id": "c3916e1d",
   "metadata": {},
   "outputs": [],
   "source": [
    "df_selection_1.shape"
   ]
  },
  {
   "cell_type": "code",
   "execution_count": null,
   "id": "a3354ccf",
   "metadata": {},
   "outputs": [],
   "source": [
    "df_selection_1.head()"
   ]
  },
  {
   "cell_type": "markdown",
   "id": "621c2a87",
   "metadata": {},
   "source": [
    "### Filter 2: To select genes with at least one cluster combination where at least 3 TNBC cell lines in each cluster, and centroid distance above 3 and cluster separation above 1."
   ]
  },
  {
   "cell_type": "code",
   "execution_count": null,
   "id": "493594c7",
   "metadata": {},
   "outputs": [],
   "source": [
    "df_selection_2= df_selection_1[~df_selection_1['TNBC_distribution_in_this_cluster'].apply(lambda x: -1 in x.keys())]"
   ]
  },
  {
   "cell_type": "code",
   "execution_count": null,
   "id": "acb33dc4",
   "metadata": {},
   "outputs": [],
   "source": [
    "df_selection_2.head()"
   ]
  },
  {
   "cell_type": "code",
   "execution_count": null,
   "id": "833eb45f",
   "metadata": {},
   "outputs": [],
   "source": [
    "df_selection_2.shape"
   ]
  },
  {
   "cell_type": "code",
   "execution_count": null,
   "id": "b7e329d9",
   "metadata": {},
   "outputs": [],
   "source": [
    "df_selection_3=df_selection_2[df_selection_2['TNBC_distribution_in_this_cluster'].apply(lambda x: [x[key]>=3 for key  in list(x.keys())]== [True, True])]"
   ]
  },
  {
   "cell_type": "code",
   "execution_count": null,
   "id": "51ab84ec",
   "metadata": {},
   "outputs": [],
   "source": [
    "df_selection_4=df_selection_3[(df_selection_3.centroid_distance_for_this_cluster_combination>3) & (df_selection_3.cluster_separation_for_this_cluster_combination>1)]"
   ]
  },
  {
   "cell_type": "code",
   "execution_count": null,
   "id": "cd8b9d0c",
   "metadata": {},
   "outputs": [],
   "source": [
    "df_selection_4.shape"
   ]
  },
  {
   "cell_type": "code",
   "execution_count": null,
   "id": "69621e05",
   "metadata": {},
   "outputs": [],
   "source": [
    "df_selection_4.head()"
   ]
  },
  {
   "cell_type": "code",
   "execution_count": null,
   "id": "1c7113d8",
   "metadata": {},
   "outputs": [],
   "source": [
    "len(df_selection_4.gene.unique().tolist())"
   ]
  },
  {
   "cell_type": "code",
   "execution_count": null,
   "id": "9c66e552",
   "metadata": {},
   "outputs": [],
   "source": [
    "list_gene_selected= df_selection_4.gene.unique().tolist()"
   ]
  },
  {
   "cell_type": "code",
   "execution_count": null,
   "id": "b756a2b4",
   "metadata": {},
   "outputs": [],
   "source": [
    "df_selection_4.to_csv('CCLE_TNBC_cell_lines_cellular_state_separating_gene_selection_results_12202022.csv')"
   ]
  },
  {
   "cell_type": "code",
   "execution_count": null,
   "id": "ac942740",
   "metadata": {},
   "outputs": [],
   "source": [
    "#To visualize the selected genes:\n",
    "df1=pd.read_csv('CCLE_TNBC_cell_lines_cellular_state_separating_gene_selection_results_12202022.csv')\n",
    "df1=df1.drop_duplicates('gene', keep='first')\n",
    "df1['combination']=df1.apply(lambda x: str(x['gene']) + '_' + str(x['eps']), axis=1)\n",
    "list_to_plot=df1.combination.tolist()\n",
    "for i in list_to_plot:\n",
    "    df_tmp = df_exp[['MYC', i.split('_')[0]]]\n",
    "    df_tmp_t = StandardScaler().fit_transform(df_tmp)\n",
    "    db = DBSCAN(eps=float(i.split('_')[1]), min_samples=30).fit(df_tmp_t)\n",
    "    labels = db.labels_\n",
    "    df_tmp['labels']= labels\n",
    "    df_tmp['alpha']=0.1\n",
    "    df_tmp['color']=df_tmp['labels'].map(dict_map)\n",
    "    list_labels=[i for i in df_tmp.labels.unique().tolist() if i is not -1]\n",
    "    \n",
    "    for j in df_tmp.index.tolist():\n",
    "        if j in list_except:\n",
    "            df_tmp.loc[j, 'color']='blue'\n",
    "            df_tmp.loc[j, 'alpha']=1\n",
    "        elif j in list_scRNA_available:\n",
    "            df_tmp.loc[j, 'color']='red'\n",
    "            df_tmp.loc[j, 'alpha']=1\n",
    "    \n",
    "    fig, ax = plt.subplots()\n",
    "    ax.scatter(df_exp['MYC'], df_exp[i.split('_')[0]], c=df_tmp['color'].tolist(), alpha=df_tmp['alpha'].tolist())\n",
    "    plt.xlabel(\"MYC\")\n",
    "    plt.ylabel(i.split('_')[0])\n",
    "\n",
    "    for k, txt in enumerate(list_annotation):\n",
    "        ax.annotate(txt, (df_exp['MYC'][k], df_exp[i.split('_')[0]][k]), fontsize=7)\n",
    "   # for h in list_labels:\n",
    "    #    ax.annotate('cluster {} : '.format(h) + '{}'.format(df_TNBC_cell_line_cluster_assignment.loc[df_TNBC_cell_line_cluster_assignment.gene==i.split('_')[0], 'cluster_{}'.format(h)].tolist()[0]), (0, df_exp[i.split('_')[0]].max()-(h+0.15)), fontsize=7)\n",
    "   # plt.savefig('./399_filtered_genes_after_using_a_denser_eps_series_across_the_whole_genome_for_updated_30_TNBC_cell_lines_12032022/{}_vs_MYC_gene_expression_12032022.png'.format(i.split('_')[0]), dpi=150)"
   ]
  }
 ],
 "metadata": {
  "kernelspec": {
   "display_name": "Python 3",
   "language": "python",
   "name": "python3"
  },
  "language_info": {
   "codemirror_mode": {
    "name": "ipython",
    "version": 3
   },
   "file_extension": ".py",
   "mimetype": "text/x-python",
   "name": "python",
   "nbconvert_exporter": "python",
   "pygments_lexer": "ipython3",
   "version": "3.8.12"
  }
 },
 "nbformat": 4,
 "nbformat_minor": 5
}
